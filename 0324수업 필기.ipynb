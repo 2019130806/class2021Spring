{
  "nbformat": 4,
  "nbformat_minor": 0,
  "metadata": {
    "colab": {
      "name": "0324.ipynb",
      "provenance": [],
      "collapsed_sections": [],
      "authorship_tag": "ABX9TyMy77LAxtMzkd/PAAsWBZXC",
      "include_colab_link": true
    },
    "kernelspec": {
      "name": "python3",
      "display_name": "Python 3"
    },
    "language_info": {
      "name": "python"
    }
  },
  "cells": [
    {
      "cell_type": "markdown",
      "metadata": {
        "id": "view-in-github",
        "colab_type": "text"
      },
      "source": [
        "<a href=\"https://colab.research.google.com/github/2019130806/class2021Spring/blob/main/0324%EC%88%98%EC%97%85%20%ED%95%84%EA%B8%B0.ipynb\" target=\"_parent\"><img src=\"https://colab.research.google.com/assets/colab-badge.svg\" alt=\"Open In Colab\"/></a>"
      ]
    },
    {
      "cell_type": "markdown",
      "metadata": {
        "id": "fUI9X4IrnOXU"
      },
      "source": [
        "package -> subpackage -> module (~.py) - class, function 미리 정의되어 있을 수 있음 <br>\n",
        "대표적인 패키지 = numpy\n",
        "\n",
        "import numpy 하면 쓸 수 있게 불러진 것\n",
        "numpy 안에 여러 가지 function들 불러 쓸 수 있음\n",
        "\n",
        "import numpy\n",
        "  numpy.sin(파이) 이런 식으로 사용함<br>\n",
        "  np.sin() 이런 식으로 줄여서 쓰면 시간 절약 가능"
      ]
    },
    {
      "cell_type": "code",
      "metadata": {
        "id": "XYC7r6ZmnGlf"
      },
      "source": [
        "import numpy as np #numpy를 불러오고 이걸 이제부터 np라고 부르좡~\n",
        "import matplotlib.pyplot as plt #matplotlib라는 큰 패키지, 그 안에 pyplot.py라는 모듈 있고 그걸 그냥 plt로 적자~\n",
        "#필요할 때 중간 중간 import 들어가도 됨!\n",
        "#두 개의 큰 패키지 부름 np 와 matplotlib"
      ],
      "execution_count": 2,
      "outputs": []
    },
    {
      "cell_type": "markdown",
      "metadata": {
        "id": "ebMBTD0DocUD"
      },
      "source": [
        "np.sin()<br>\n",
        "np.sqrt() 루트.."
      ]
    },
    {
      "cell_type": "code",
      "metadata": {
        "colab": {
          "base_uri": "https://localhost:8080/"
        },
        "id": "GXQH7E1VnusA",
        "outputId": "74a4364e-e84e-4b0a-d16e-1cb632a09bb0"
      },
      "source": [
        "np.empty([2,3], dtype='int') #위에서 as np 있으니까 np라고 밑에서 쓸 수 있음\n",
        "#empty 다음에 2,3 적으면 2x3 행렬을 만들어라. 직사각형의 숫자 배열 2행 3열\n",
        "#행이 2개 열이 3개\n",
        "#dtype='init' --> 데이터 타입이 init이면 좋겠다 (소수점 하나도 없음)\n",
        "#empty는 반드시 0일 필요는 없음\n"
      ],
      "execution_count": 3,
      "outputs": [
        {
          "output_type": "execute_result",
          "data": {
            "text/plain": [
              "array([[94121309339424,              0,              0],\n",
              "       [             0,              0,              0]])"
            ]
          },
          "metadata": {
            "tags": []
          },
          "execution_count": 3
        }
      ]
    },
    {
      "cell_type": "code",
      "metadata": {
        "colab": {
          "base_uri": "https://localhost:8080/"
        },
        "id": "FlOFfC2jpBN5",
        "outputId": "f0d3c6fe-5648-43e5-ed2c-57ed8321b402"
      },
      "source": [
        "np.zeros([2,3], dtype='int') #2 by 3에 zero로 가득한 행열을 만들어라 #디폴트로 데이터타입이 플로트도 되어 있을 것"
      ],
      "execution_count": 9,
      "outputs": [
        {
          "output_type": "execute_result",
          "data": {
            "text/plain": [
              "array([[0, 0, 0],\n",
              "       [0, 0, 0]])"
            ]
          },
          "metadata": {
            "tags": []
          },
          "execution_count": 9
        }
      ]
    },
    {
      "cell_type": "code",
      "metadata": {
        "colab": {
          "base_uri": "https://localhost:8080/"
        },
        "id": "Le9Hc_tYpZNH",
        "outputId": "9efc7259-0289-4fe1-92a0-09221e6d9168"
      },
      "source": [
        "np.arange(0,10,2, dtype='float64') #arange라는 함수가 numpy안에 있음 #float나 float64로 하면 소수점 나옴\n",
        "#0부터 10까지 2만큼의 increment가지고 숫자 만들어라 = 0 , 2, 4, 6, 8, // 10은 포함 X)\n",
        "#arange 엄청 중요"
      ],
      "execution_count": 8,
      "outputs": [
        {
          "output_type": "execute_result",
          "data": {
            "text/plain": [
              "array([0., 2., 4., 6., 8.])"
            ]
          },
          "metadata": {
            "tags": []
          },
          "execution_count": 8
        }
      ]
    },
    {
      "cell_type": "code",
      "metadata": {
        "colab": {
          "base_uri": "https://localhost:8080/"
        },
        "id": "eX_xoOA-qTjY",
        "outputId": "b509d9ec-a6cf-4dd5-b0cf-b898f0c43b56"
      },
      "source": [
        "#linspace 정말 정말 중요\n",
        "np.linspace(0,10,6, dtype=float) #linspace = linear space 등(=) 간격으로 총 6개!\n",
        "#0부터 10까지 총 6개를 만들어라 - 이 경우 10 포함\n",
        "#간격이 같게 총 6개를 만들고, arange와 달리 10도 포함한다고 생각 ㄱㄱ"
      ],
      "execution_count": 10,
      "outputs": [
        {
          "output_type": "execute_result",
          "data": {
            "text/plain": [
              "array([ 0.,  2.,  4.,  6.,  8., 10.])"
            ]
          },
          "metadata": {
            "tags": []
          },
          "execution_count": 10
        }
      ]
    },
    {
      "cell_type": "code",
      "metadata": {
        "colab": {
          "base_uri": "https://localhost:8080/"
        },
        "id": "mgbZQY32qtH7",
        "outputId": "f6beba2e-7be7-4802-b280-775c1c8860d8"
      },
      "source": [
        "np.linspace(0,17,7, dtype=float)"
      ],
      "execution_count": 13,
      "outputs": [
        {
          "output_type": "execute_result",
          "data": {
            "text/plain": [
              "array([ 0.        ,  2.83333333,  5.66666667,  8.5       , 11.33333333,\n",
              "       14.16666667, 17.        ])"
            ]
          },
          "metadata": {
            "tags": []
          },
          "execution_count": 13
        }
      ]
    },
    {
      "cell_type": "markdown",
      "metadata": {
        "id": "3bE7XdCgq53N"
      },
      "source": [
        "1 3 5<br>\n",
        "2 4 6<br>\n",
        "= 2by3 행렬<br>\n",
        "\n",
        "0 0<br>\n",
        "0 0<br>\n",
        "0 0 \n",
        "= 3 by 2 행렬<br>\n",
        "\n",
        "0 0 0 = 1x3 행렬 row vector (vector는 행렬임!)<br>\n",
        "\n",
        "0<br>\n",
        "0<br>\n",
        "0<br>\n",
        "= 3x1 행렬 column vector\n"
      ]
    },
    {
      "cell_type": "code",
      "metadata": {
        "colab": {
          "base_uri": "https://localhost:8080/"
        },
        "id": "mHJu7q6brV1A",
        "outputId": "3506df5b-3cf9-45d6-ea3d-9dfd3b153b9a"
      },
      "source": [
        "x=np.array([[1,2,3], [4,5,6]]) #array -> 아래 결과와 같은 행렬을 만들어 내는 것\n",
        "x # 2x3 구나 위처럼 list의 형태 [( , ,=3열 )     ,=2행 ( , , )     ]\n",
        "#행렬을 만들어서 x에 assign 할당함\n",
        "#x.(=class)astype --> x의 type을 바꿈 (np.float)\n"
      ],
      "execution_count": 15,
      "outputs": [
        {
          "output_type": "execute_result",
          "data": {
            "text/plain": [
              "array([[1, 2, 3],\n",
              "       [4, 5, 6]])"
            ]
          },
          "metadata": {
            "tags": []
          },
          "execution_count": 15
        }
      ]
    },
    {
      "cell_type": "code",
      "metadata": {
        "colab": {
          "base_uri": "https://localhost:8080/"
        },
        "id": "5hRwb2GWsW-w",
        "outputId": "2d0b7980-0f59-4421-c1db-d7faedbde57d"
      },
      "source": [
        "x.astype(np.float64) # 소수점 생김\n"
      ],
      "execution_count": 16,
      "outputs": [
        {
          "output_type": "execute_result",
          "data": {
            "text/plain": [
              "array([[1., 2., 3.],\n",
              "       [4., 5., 6.]])"
            ]
          },
          "metadata": {
            "tags": []
          },
          "execution_count": 16
        }
      ]
    },
    {
      "cell_type": "code",
      "metadata": {
        "colab": {
          "base_uri": "https://localhost:8080/"
        },
        "id": "3VyYOXn9saZK",
        "outputId": "40c45440-1f04-4df7-a222-7f0b5e3a4a4f"
      },
      "source": [
        "#0으로 대체해라\n",
        "np.zeros_like(x)"
      ],
      "execution_count": 27,
      "outputs": [
        {
          "output_type": "execute_result",
          "data": {
            "text/plain": [
              "array([[0, 0, 0],\n",
              "       [0, 0, 0]])"
            ]
          },
          "metadata": {
            "tags": []
          },
          "execution_count": 27
        }
      ]
    },
    {
      "cell_type": "code",
      "metadata": {
        "id": "2pXDbEvwup1y"
      },
      "source": [
        "data=np.random.normal(0,1,100)"
      ],
      "execution_count": 29,
      "outputs": []
    },
    {
      "cell_type": "code",
      "metadata": {
        "colab": {
          "base_uri": "https://localhost:8080/",
          "height": 303
        },
        "id": "hp1kM3Nbsvys",
        "outputId": "7887bb4d-4ec6-46f7-986e-183f98eaa197"
      },
      "source": [
        "data=np.random.normal(0,1,1000000) #location은 평균값=0 normal distribution 을가져라\n",
        "print(data) #standard deviation이 크면 넓적, 작으면 뾰쬭 #가운데 값 크면 그래프가 뚱뚱하게 ㅎㅎ\n",
        "#2차원 행렬이 아니라 1차원의 벡터!\n",
        "plt.hist(data, bins=100) #hist - matplotlib의 pyplot안에 들어 있음\n",
        "#막대 그래프 총 10개 / 20개면 폭이 더 줄어듦 / ... -> 빈의 갯수 조정 필요\n",
        "plt.show()"
      ],
      "execution_count": 34,
      "outputs": [
        {
          "output_type": "stream",
          "text": [
            "[ 0.88892841 -1.19115253 -0.37084483 ... -0.11164373  0.9798669\n",
            " -1.36793618]\n"
          ],
          "name": "stdout"
        },
        {
          "output_type": "display_data",
          "data": {
            "image/png": "[encoded data removed]",
            "text/plain": [
              "<Figure size 432x288 with 1 Axes>"
            ]
          },
          "metadata": {
            "tags": [],
            "needs_background": "light"
          }
        }
      ]
    },
    {
      "cell_type": "code",
      "metadata": {
        "colab": {
          "base_uri": "https://localhost:8080/",
          "height": 583
        },
        "id": "baF4CC2LoBwb",
        "outputId": "6289566d-b7f9-4c0f-8c32-86691ef326e1"
      },
      "source": [
        "data = np.random.normal(0,1,100) #np가 큰 패키지 -> random 이라는 모듈이 있다고 생각 -> 그 모듈 속에 normal이라는 함수 정의되어 있구나\n",
        "#normal = normal distribution\n",
        "print(data)\n",
        "plt.hist(data, bins=10) #pyplot as plt 해서 plt라고 불러줄 수 있음 / hist라는 function과\n",
        "plt.show() #show라는 function 부름"
      ],
      "execution_count": 19,
      "outputs": [
        {
          "output_type": "stream",
          "text": [
            "[-0.16063415  0.80401812 -1.69911509  0.31998669  0.47413048 -0.92980649\n",
            " -0.21961133 -2.53063426  0.18192185 -0.1882759   0.49549131 -0.77916919\n",
            "  1.56034585  0.21208695  0.27142406 -2.11671629 -1.78883003 -1.11104215\n",
            "  1.33605357  0.55283249 -1.10946993  1.07125757  0.78999028  0.56924602\n",
            " -0.32786768  1.66705608  0.94595373 -0.92865767 -0.21657037  0.77844065\n",
            " -0.38131964 -0.64981718 -1.18540447  0.01567234 -0.66399434 -0.33957012\n",
            " -1.54227408  0.61251929 -1.92463775  0.18458925 -0.63749203  1.47431129\n",
            "  0.83532119  2.10054565 -0.65969621 -0.9204876   0.66848706  0.34413444\n",
            "  1.62259588 -0.74337849 -0.80391325  0.37497174  0.22600801 -0.48568561\n",
            " -0.14329067 -0.77521358  0.22468855 -0.51505469  0.00715466 -1.80022843\n",
            "  0.73571704 -0.02043146 -0.84424191  0.1574176  -0.09445388 -0.07202668\n",
            " -1.97318645 -0.84033929 -0.46558903 -0.80464713 -1.54888098  1.21194478\n",
            " -1.19328852 -0.41010711  0.27204001  0.5495565   0.74252342  0.68453564\n",
            "  1.79183966  0.54429645  0.91377336  1.04003177  0.77251022 -0.09537043\n",
            " -0.05177768 -0.77299843  0.59386902 -0.02453762 -1.20755277 -0.60138296\n",
            " -2.00477008 -0.41177436 -0.82016986  0.42187977  0.70322748  1.08007155\n",
            "  0.52872801  0.91222021  0.25790834 -1.05774289]\n"
          ],
          "name": "stdout"
        },
        {
          "output_type": "display_data",
          "data": {
            "image/png": "[encoded data removed]",
            "text/plain": [
              "<Figure size 432x288 with 1 Axes>"
            ]
          },
          "metadata": {
            "tags": [],
            "needs_background": "light"
          }
        }
      ]
    },
    {
      "cell_type": "code",
      "metadata": {
        "colab": {
          "base_uri": "https://localhost:8080/"
        },
        "id": "Nn8TBsJnvR21",
        "outputId": "366d69d2-5a9c-4596-9f6f-5355d5862670"
      },
      "source": [
        "x=np.ones([2,3,4]) #3차원 행렬\n",
        "x\n",
        "#1차원 숫자 긴 걸 = vector\n",
        "#nxm = matrix\n",
        "#차원이 더 올라갈 수 있음 nxmxqxr\n",
        "#2차원보다 더 넘어갈 때 tensor라고 할 수 있음\n",
        "#vector < matrix < tensor 포함 관계 (부등호 아님, 둥글게 그려야 함)\n",
        "#24개의 숫자 --> 아주 다양하게 가능 6x4x1, 2x2x6 등등"
      ],
      "execution_count": 36,
      "outputs": [
        {
          "output_type": "execute_result",
          "data": {
            "text/plain": [
              "array([[[1., 1., 1., 1.],\n",
              "        [1., 1., 1., 1.],\n",
              "        [1., 1., 1., 1.]],\n",
              "\n",
              "       [[1., 1., 1., 1.],\n",
              "        [1., 1., 1., 1.],\n",
              "        [1., 1., 1., 1.]]])"
            ]
          },
          "metadata": {
            "tags": []
          },
          "execution_count": 36
        }
      ]
    },
    {
      "cell_type": "code",
      "metadata": {
        "colab": {
          "base_uri": "https://localhost:8080/"
        },
        "id": "xdAYMUWWwhsV",
        "outputId": "108175a2-2d95-4610-9cd5-937880c6c4f9"
      },
      "source": [
        "Y=x.reshape(6, 4, 1) #=/= (6,4) 2차원이랑 3차원이랑 다음 끝에 대괄호 2개, 3개\n",
        "Y"
      ],
      "execution_count": 39,
      "outputs": [
        {
          "output_type": "execute_result",
          "data": {
            "text/plain": [
              "array([[[1.],\n",
              "        [1.],\n",
              "        [1.],\n",
              "        [1.]],\n",
              "\n",
              "       [[1.],\n",
              "        [1.],\n",
              "        [1.],\n",
              "        [1.]],\n",
              "\n",
              "       [[1.],\n",
              "        [1.],\n",
              "        [1.],\n",
              "        [1.]],\n",
              "\n",
              "       [[1.],\n",
              "        [1.],\n",
              "        [1.],\n",
              "        [1.]],\n",
              "\n",
              "       [[1.],\n",
              "        [1.],\n",
              "        [1.],\n",
              "        [1.]],\n",
              "\n",
              "       [[1.],\n",
              "        [1.],\n",
              "        [1.],\n",
              "        [1.]]])"
            ]
          },
          "metadata": {
            "tags": []
          },
          "execution_count": 39
        }
      ]
    },
    {
      "cell_type": "code",
      "metadata": {
        "colab": {
          "base_uri": "https://localhost:8080/"
        },
        "id": "Ws4Gqg8ltSQn",
        "outputId": "f17518fc-1079-4e02-848e-332da20fc7ec"
      },
      "source": [
        "Y=x.reshape(-1,3,2) #계산하기 귀찮은 곳을 -1로 두면 애가 알아서 24가 되도록 채워줌 --> 하나만 쓸 수 있음\n",
        "#2x3x4 -> -1, 2 ,3 이면 -1은 4쥐\n",
        "Y"
      ],
      "execution_count": 37,
      "outputs": [
        {
          "output_type": "execute_result",
          "data": {
            "text/plain": [
              "array([[[1., 1.],\n",
              "        [1., 1.],\n",
              "        [1., 1.]],\n",
              "\n",
              "       [[1., 1.],\n",
              "        [1., 1.],\n",
              "        [1., 1.]],\n",
              "\n",
              "       [[1., 1.],\n",
              "        [1., 1.],\n",
              "        [1., 1.]],\n",
              "\n",
              "       [[1., 1.],\n",
              "        [1., 1.],\n",
              "        [1., 1.]]])"
            ]
          },
          "metadata": {
            "tags": []
          },
          "execution_count": 37
        }
      ]
    },
    {
      "cell_type": "code",
      "metadata": {
        "colab": {
          "base_uri": "https://localhost:8080/"
        },
        "id": "eS04mJHJx6u0",
        "outputId": "28b7eb17-8b2a-436b-d389-501cd8fea649"
      },
      "source": [
        "arr=np.random.random(100)\n",
        "arr #0에서 1 사이의 랜덤한 100개의 수"
      ],
      "execution_count": 42,
      "outputs": [
        {
          "output_type": "execute_result",
          "data": {
            "text/plain": [
              "array([0.30099917, 0.61191131, 0.05222757, 0.60638581, 0.19160222,\n",
              "       0.94478285, 0.96097831, 0.81512268, 0.28907512, 0.49300871,\n",
              "       0.99503035, 0.57948883, 0.97892654, 0.44657514, 0.72233915,\n",
              "       0.20030038, 0.15701059, 0.76524984, 0.00648661, 0.88442352,\n",
              "       0.02532042, 0.09857989, 0.62805042, 0.85361332, 0.35674323,\n",
              "       0.55188003, 0.03948554, 0.89793719, 0.35286335, 0.25078773,\n",
              "       0.22388319, 0.30080019, 0.55094649, 0.07251391, 0.91410766,\n",
              "       0.75058913, 0.66711082, 0.34325836, 0.3385716 , 0.00954066,\n",
              "       0.61141215, 0.95672094, 0.66079556, 0.6184392 , 0.325964  ,\n",
              "       0.06743486, 0.16448591, 0.99213022, 0.81296369, 0.95565446,\n",
              "       0.74275752, 0.43492872, 0.00821906, 0.47145775, 0.66349349,\n",
              "       0.45655038, 0.19436405, 0.20625552, 0.4114946 , 0.76404792,\n",
              "       0.59149919, 0.33503005, 0.6169418 , 0.86815915, 0.69545193,\n",
              "       0.60664975, 0.6685609 , 0.35004965, 0.17236183, 0.09971848,\n",
              "       0.3481389 , 0.75236623, 0.24530402, 0.53881884, 0.07444376,\n",
              "       0.35893998, 0.00522307, 0.8281064 , 0.9611289 , 0.77853963,\n",
              "       0.70045279, 0.38768106, 0.06888543, 0.46090296, 0.01560024,\n",
              "       0.34862067, 0.91786304, 0.6583421 , 0.95305517, 0.85561906,\n",
              "       0.14748814, 0.80531765, 0.62862916, 0.03252478, 0.57979004,\n",
              "       0.3910451 , 0.24786867, 0.62607835, 0.64319076, 0.83278179])"
            ]
          },
          "metadata": {
            "tags": []
          },
          "execution_count": 42
        }
      ]
    },
    {
      "cell_type": "code",
      "metadata": {
        "colab": {
          "base_uri": "https://localhost:8080/"
        },
        "id": "osSKTdsoxsNB",
        "outputId": "5f4022cb-48a4-47ec-a6d0-b0f35ba4af18"
      },
      "source": [
        "arr=np.random.random([5,2,3]) #5x2x3의 랜덤한 0과 1사이의 수\n",
        "arr #대괄호 3개 = 3차원이구나 ㅎㅎ"
      ],
      "execution_count": 60,
      "outputs": [
        {
          "output_type": "execute_result",
          "data": {
            "text/plain": [
              "array([[[0.47073428, 0.64917674, 0.34446378],\n",
              "        [0.34259816, 0.18924297, 0.68283558]],\n",
              "\n",
              "       [[0.93093916, 0.4177953 , 0.21847315],\n",
              "        [0.22693488, 0.97346119, 0.29897167]],\n",
              "\n",
              "       [[0.42176127, 0.49504992, 0.44144306],\n",
              "        [0.13674558, 0.35208997, 0.46353944]],\n",
              "\n",
              "       [[0.33285476, 0.06325248, 0.19029516],\n",
              "        [0.36786292, 0.98949861, 0.31977157]],\n",
              "\n",
              "       [[0.49296371, 0.53540531, 0.62459219],\n",
              "        [0.1819459 , 0.8868405 , 0.61982691]]])"
            ]
          },
          "metadata": {
            "tags": []
          },
          "execution_count": 60
        }
      ]
    },
    {
      "cell_type": "code",
      "metadata": {
        "colab": {
          "base_uri": "https://localhost:8080/"
        },
        "id": "i0TVYicSweuf",
        "outputId": "6a92414a-c8ed-44e5-db37-66d013adf15d"
      },
      "source": [
        "print(type(arr)) #class 구나 --> 무슨 클래스냐 -> numpy의 ndarray 3차원 어레이구나\n",
        "print(len(arr)) #몇차원이든 제일 첫 번째 있는 리스트마 생각하면 됨 --> 5개, 그 속에 내포된 게 있지만 큰 관점에서 5개\n",
        "print(arr.shape) #몇 바이 몇 바이 몇인지 구조 알고 싶을 때\n",
        "print(arr.ndim) #몇차원이냐 = 3차원\n",
        "print(arr.size) #안에 있는 element 수 --> 5곱하기 2 곱하기 3\n",
        "print(arr.dtype) #float62 = 소수점이구나 라고 생각하면 됨"
      ],
      "execution_count": 61,
      "outputs": [
        {
          "output_type": "stream",
          "text": [
            "<class 'numpy.ndarray'>\n",
            "5\n",
            "(5, 2, 3)\n",
            "3\n",
            "30\n",
            "float64\n"
          ],
          "name": "stdout"
        }
      ]
    },
    {
      "cell_type": "code",
      "metadata": {
        "colab": {
          "base_uri": "https://localhost:8080/"
        },
        "id": "PIrDmw0JyMvi",
        "outputId": "f4cb36cc-6844-43f9-d0d3-51148ec11c1e"
      },
      "source": [
        " a=1 #이렇게 하는 순간부터 다 클래스였음 ㄷ.ㄷ\n",
        "print(type(a))\n",
        "\n",
        "str='TEST'\n",
        "print(type(str)) #이것도 class\n",
        "print(str.lower()) #str. 이렇게 점 찍어서 쓸 수 있는 것이 다 클래스 였다는 ...!?!?\n",
        "\n",
        "c=['1', 3, 'test']\n",
        "len(c)"
      ],
      "execution_count": 51,
      "outputs": [
        {
          "output_type": "stream",
          "text": [
            "<class 'int'>\n",
            "<class 'str'>\n",
            "test\n"
          ],
          "name": "stdout"
        },
        {
          "output_type": "execute_result",
          "data": {
            "text/plain": [
              "3"
            ]
          },
          "metadata": {
            "tags": []
          },
          "execution_count": 51
        }
      ]
    },
    {
      "cell_type": "code",
      "metadata": {
        "colab": {
          "base_uri": "https://localhost:8080/"
        },
        "id": "0FJWeIsVyTnP",
        "outputId": "216da0de-6524-461d-f7a6-8258b1b1044a"
      },
      "source": [
        "a=np.arange(1,5,1)\n",
        "print(a)\n",
        "c=np.arange(1,5)\n",
        "print(c) # 1은 default라서 마지막에 안 써도 똑같은 결과\n",
        "b=np.arange(9,5,-1)\n",
        "print(b)"
      ],
      "execution_count": 66,
      "outputs": [
        {
          "output_type": "stream",
          "text": [
            "[1 2 3 4]\n",
            "[1 2 3 4]\n",
            "[9 8 7 6]\n"
          ],
          "name": "stdout"
        }
      ]
    },
    {
      "cell_type": "code",
      "metadata": {
        "colab": {
          "base_uri": "https://localhost:8080/"
        },
        "id": "wn1zeBmJzxg5",
        "outputId": "cf84ae05-f3d9-4cd1-e475-d6e61a5fcad7"
      },
      "source": [
        "print(a-b)\n",
        "print(a*b) #앞의 열과 뒤의 행이 같아야 곱해질 수 있음\n",
        "#2X\"3\" X \"3\"X2\n",
        "#1X4 X 4X1 불가능?!\n",
        "#행렬의 형태롤 띄고 있지만, 찐행렬을 아님..!?1\n"
      ],
      "execution_count": 68,
      "outputs": [
        {
          "output_type": "stream",
          "text": [
            "[-8 -6 -4 -2]\n",
            "[ 9 16 21 24]\n"
          ],
          "name": "stdout"
        }
      ]
    },
    {
      "cell_type": "code",
      "metadata": {
        "colab": {
          "base_uri": "https://localhost:8080/"
        },
        "id": "5i5-IAQ11RyU",
        "outputId": "309e9f4b-4bef-4b41-b3ea-a0742405a400"
      },
      "source": [
        "a=np.matrix(a)\n",
        "b=np.matrix(b)\n",
        "b"
      ],
      "execution_count": 70,
      "outputs": [
        {
          "output_type": "execute_result",
          "data": {
            "text/plain": [
              "matrix([[9, 8, 7, 6]])"
            ]
          },
          "metadata": {
            "tags": []
          },
          "execution_count": 70
        }
      ]
    },
    {
      "cell_type": "code",
      "metadata": {
        "colab": {
          "base_uri": "https://localhost:8080/"
        },
        "id": "6m3EMMri0DPO",
        "outputId": "c71f783c-6b4b-4748-d51b-d4d4c94921be"
      },
      "source": [
        "a*b.T #~~.T하면 transform이라고 해서 새로로 긴 걸 가로로 바꾼다던지\n",
        "#1x4 에서 4x1이 됨 --> 4"
      ],
      "execution_count": 71,
      "outputs": [
        {
          "output_type": "execute_result",
          "data": {
            "text/plain": [
              "matrix([[70]])"
            ]
          },
          "metadata": {
            "tags": []
          },
          "execution_count": 71
        }
      ]
    },
    {
      "cell_type": "code",
      "metadata": {
        "colab": {
          "base_uri": "https://localhost:8080/"
        },
        "id": "8MMHYt3M1J4S",
        "outputId": "441c02cf-4075-4f6a-9d4c-5b01aac61112"
      },
      "source": [
        "a.T*b #4x4 matrix가 나옴"
      ],
      "execution_count": 72,
      "outputs": [
        {
          "output_type": "execute_result",
          "data": {
            "text/plain": [
              "matrix([[ 9,  8,  7,  6],\n",
              "        [18, 16, 14, 12],\n",
              "        [27, 24, 21, 18],\n",
              "        [36, 32, 28, 24]])"
            ]
          },
          "metadata": {
            "tags": []
          },
          "execution_count": 72
        }
      ]
    },
    {
      "cell_type": "code",
      "metadata": {
        "id": "blhOLsUF1oAf"
      },
      "source": [
        ""
      ],
      "execution_count": null,
      "outputs": []
    },
    {
      "cell_type": "code",
      "metadata": {
        "id": "RLe7FPW02Bb6"
      },
      "source": [
        "a= 1 2 3 <br>\n",
        "4 5 6 <br>\n",
        "7 8 9<br>\n",
        "가능 \n",
        "썸 ... --> 한 2시 50분 부분부터 녹강 다시 보면서 공부해야할 듯 ㅠㅠ"
      ],
      "execution_count": null,
      "outputs": []
    },
    {
      "cell_type": "markdown",
      "metadata": {
        "id": "AwXNfInf2A4E"
      },
      "source": [
        ""
      ]
    }
  ]
}