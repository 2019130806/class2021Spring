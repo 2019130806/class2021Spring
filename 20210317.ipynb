{
  "nbformat": 4,
  "nbformat_minor": 0,
  "metadata": {
    "colab": {
      "name": "20210317",
      "provenance": [],
      "authorship_tag": "ABX9TyPFzK/fvU9YoKIv9PX4OuPa",
      "include_colab_link": true
    },
    "kernelspec": {
      "name": "python3",
      "display_name": "Python 3"
    }
  },
  "cells": [
    {
      "cell_type": "markdown",
      "metadata": {
        "id": "view-in-github",
        "colab_type": "text"
      },
      "source": [
        "<a href=\"https://colab.research.google.com/github/2019130806/class2021Spring/blob/main/20210317.ipynb\" target=\"_parent\"><img src=\"https://colab.research.google.com/assets/colab-badge.svg\" alt=\"Open In Colab\"/></a>"
      ]
    },
    {
      "cell_type": "markdown",
      "metadata": {
        "id": "Xnc4vPARudRm"
      },
      "source": [
        "for / for / if<br>\r\n",
        "loop-list"
      ]
    },
    {
      "cell_type": "code",
      "metadata": {
        "colab": {
          "base_uri": "https://localhost:8080/"
        },
        "id": "SwO6yt7DuaDi",
        "outputId": "7a3145a2-5b37-4e5e-d6f9-ed7eed0e2e05"
      },
      "source": [
        "for i in range(5, 10):\r\n",
        "      for j in range(2,7):\r\n",
        "            if i>=6 & j<6:\r\n",
        "                print(i+j)\r\n",
        "            else: print(i*j)"
      ],
      "execution_count": 11,
      "outputs": [
        {
          "output_type": "stream",
          "text": [
            "7\n",
            "8\n",
            "9\n",
            "10\n",
            "30\n",
            "8\n",
            "9\n",
            "10\n",
            "11\n",
            "36\n",
            "9\n",
            "10\n",
            "11\n",
            "12\n",
            "42\n",
            "10\n",
            "11\n",
            "12\n",
            "13\n",
            "48\n",
            "11\n",
            "12\n",
            "13\n",
            "14\n",
            "54\n"
          ],
          "name": "stdout"
        }
      ]
    },
    {
      "cell_type": "code",
      "metadata": {
        "colab": {
          "base_uri": "https://localhost:8080/"
        },
        "id": "MA8hNFt2vLpp",
        "outputId": "90074673-2c09-4437-f6fe-c207149b9225"
      },
      "source": [
        "a=['Hello', 'My', 'Name', 'Is', 'Jieun']\r\n",
        "b=[i for i in a if len(i)>=3]\r\n",
        "b"
      ],
      "execution_count": 6,
      "outputs": [
        {
          "output_type": "execute_result",
          "data": {
            "text/plain": [
              "['Hello', 'Name', 'Jieun']"
            ]
          },
          "metadata": {
            "tags": []
          },
          "execution_count": 6
        }
      ]
    }
  ]
}