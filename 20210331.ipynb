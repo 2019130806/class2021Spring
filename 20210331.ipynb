{
  "nbformat": 4,
  "nbformat_minor": 0,
  "metadata": {
    "colab": {
      "name": "20210331",
      "provenance": [],
      "authorship_tag": "ABX9TyNrHsknoamSiu3+uBE6xTQ7",
      "include_colab_link": true
    },
    "kernelspec": {
      "name": "python3",
      "display_name": "Python 3"
    },
    "language_info": {
      "name": "python"
    }
  },
  "cells": [
    {
      "cell_type": "markdown",
      "metadata": {
        "id": "view-in-github",
        "colab_type": "text"
      },
      "source": [
        "<a href=\"https://colab.research.google.com/github/2019130806/class2021Spring/blob/main/20210331.ipynb\" target=\"_parent\"><img src=\"https://colab.research.google.com/assets/colab-badge.svg\" alt=\"Open In Colab\"/></a>"
      ]
    },
    {
      "cell_type": "code",
      "metadata": {
        "id": "7xVe5LZB4DBy"
      },
      "source": [
        ""
      ],
      "execution_count": null,
      "outputs": []
    },
    {
      "cell_type": "markdown",
      "metadata": {
        "id": "FrxuBeLi4EX2"
      },
      "source": [
        "a 아\n",
        "\n",
        "pitch: 198 Hz\n",
        "\n",
        "intensity: 69.58 dB\n",
        "\n",
        "formant: f1 - 869.2 Hz / f2 - 1440 Hz\n",
        "\n",
        "duration: 410 milliseconds\n",
        "\n",
        "\n",
        "\n",
        "ae 애\n",
        "\n",
        "pitch: 178.6 Hz\n",
        "\n",
        "intensity: 70.77 dB\n",
        "\n",
        "formant: f1 - 679.1 Hz / f2 - 2509 Hz\n",
        "\n",
        "duration: 374 milliseconds"
      ]
    }
  ]
}