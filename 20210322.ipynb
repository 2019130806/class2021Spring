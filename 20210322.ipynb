{
  "nbformat": 4,
  "nbformat_minor": 0,
  "metadata": {
    "colab": {
      "name": "20210322.ipynb",
      "provenance": [],
      "authorship_tag": "ABX9TyOjiRi7jX6EP2ISlsomZjsR",
      "include_colab_link": true
    },
    "kernelspec": {
      "name": "python3",
      "display_name": "Python 3"
    },
    "language_info": {
      "name": "python"
    }
  },
  "cells": [
    {
      "cell_type": "markdown",
      "metadata": {
        "id": "view-in-github",
        "colab_type": "text"
      },
      "source": [
        "<a href=\"https://colab.research.google.com/github/2019130806/class2021Spring/blob/main/20210322.ipynb\" target=\"_parent\"><img src=\"https://colab.research.google.com/assets/colab-badge.svg\" alt=\"Open In Colab\"/></a>"
      ]
    },
    {
      "cell_type": "code",
      "metadata": {
        "colab": {
          "base_uri": "https://localhost:8080/"
        },
        "id": "_hX3HEAxXBJ7",
        "outputId": "55aba659-4c45-42f4-d2e0-3a97201bd5c3"
      },
      "source": [
        "def func1(x, a, b):\n",
        "  y=a*x+b\n",
        "  return y\n",
        "\n",
        "result=func1(5,2,1)\n",
        "print(result)"
      ],
      "execution_count": 2,
      "outputs": [
        {
          "output_type": "stream",
          "text": [
            "11\n"
          ],
          "name": "stdout"
        }
      ]
    },
    {
      "cell_type": "code",
      "metadata": {
        "colab": {
          "base_uri": "https://localhost:8080/"
        },
        "id": "T2_N_re1Xgg-",
        "outputId": "f9fc04df-aef3-42a2-bbf9-d4a5560532b6"
      },
      "source": [
        "def func2(x,a,b,c):\n",
        "  y=a*x**2+b*x+c\n",
        "  return y\n",
        "\n",
        "p=func2(3,2,4,6)\n",
        "print(p)"
      ],
      "execution_count": 3,
      "outputs": [
        {
          "output_type": "stream",
          "text": [
            "36\n"
          ],
          "name": "stdout"
        }
      ]
    }
  ]
}