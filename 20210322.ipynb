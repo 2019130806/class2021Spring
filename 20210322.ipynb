{
  "nbformat": 4,
  "nbformat_minor": 0,
  "metadata": {
    "colab": {
      "name": "20210322.ipynb",
      "provenance": [],
      "collapsed_sections": [],
      "authorship_tag": "ABX9TyNN2YeCsWzF6tATkcpc8teM",
      "include_colab_link": true
    },
    "kernelspec": {
      "name": "python3",
      "display_name": "Python 3"
    },
    "language_info": {
      "name": "python"
    }
  },
  "cells": [
    {
      "cell_type": "markdown",
      "metadata": {
        "id": "view-in-github",
        "colab_type": "text"
      },
      "source": [
        "<a href=\"https://colab.research.google.com/github/2019130806/class2021Spring/blob/main/20210322.ipynb\" target=\"_parent\"><img src=\"https://colab.research.google.com/assets/colab-badge.svg\" alt=\"Open In Colab\"/></a>"
      ]
    },
    {
      "cell_type": "code",
      "metadata": {
        "colab": {
          "base_uri": "https://localhost:8080/"
        },
        "id": "_hX3HEAxXBJ7",
        "outputId": "55aba659-4c45-42f4-d2e0-3a97201bd5c3"
      },
      "source": [
        "def func1(x, a, b):\n",
        "  y=a*x+b\n",
        "  return y\n",
        "\n",
        "result=func1(5,2,1)\n",
        "print(result)"
      ],
      "execution_count": 2,
      "outputs": [
        {
          "output_type": "stream",
          "text": [
            "11\n"
          ],
          "name": "stdout"
        }
      ]
    },
    {
      "cell_type": "code",
      "metadata": {
        "colab": {
          "base_uri": "https://localhost:8080/"
        },
        "id": "T2_N_re1Xgg-",
        "outputId": "f9fc04df-aef3-42a2-bbf9-d4a5560532b6"
      },
      "source": [
        "def func2(x,a,b,c):#:콜론 들어가는 것 잊지 말기\n",
        "  y=a*x**2+b*x+c # *로 곱하기 표시! ** 2개는 제곱 표시\n",
        "  return y #y가 출력으로 정의 됨\n",
        "\n",
        "p=func2(3,2,4,6)\n",
        "print(p)"
      ],
      "execution_count": 3,
      "outputs": [
        {
          "output_type": "stream",
          "text": [
            "36\n"
          ],
          "name": "stdout"
        }
      ]
    },
    {
      "cell_type": "code",
      "metadata": {
        "colab": {
          "base_uri": "https://localhost:8080/"
        },
        "id": "hjYAavngZ2WM",
        "outputId": "39e76a30-e9cb-4bb6-9366-2c6b3632b0b8"
      },
      "source": [
        "func2(5, 1, -2, 3)"
      ],
      "execution_count": 4,
      "outputs": [
        {
          "output_type": "execute_result",
          "data": {
            "text/plain": [
              "18"
            ]
          },
          "metadata": {
            "tags": []
          },
          "execution_count": 4
        }
      ]
    }
  ]
}