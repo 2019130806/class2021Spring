{
  "nbformat": 4,
  "nbformat_minor": 0,
  "metadata": {
    "colab": {
      "name": "Untitled1.ipynb",
      "provenance": [],
      "authorship_tag": "ABX9TyPxp9094Ln8+6CkKs9CJIKV",
      "include_colab_link": true
    },
    "kernelspec": {
      "name": "python3",
      "display_name": "Python 3"
    }
  },
  "cells": [
    {
      "cell_type": "markdown",
      "metadata": {
        "id": "view-in-github",
        "colab_type": "text"
      },
      "source": [
        "<a href=\"https://colab.research.google.com/github/2019130806/class2021Spring/blob/main/0310%20variables%20%EC%97%B0%EC%8A%B5%ED%95%9C%20%EA%B2%83.ipynb\" target=\"_parent\"><img src=\"https://colab.research.google.com/assets/colab-badge.svg\" alt=\"Open In Colab\"/></a>"
      ]
    },
    {
      "cell_type": "code",
      "metadata": {
        "colab": {
          "base_uri": "https://localhost:8080/"
        },
        "id": "Ih1JPw5VvCCZ",
        "outputId": "a68ca43f-f507-4231-e6e3-55c0166d6a65"
      },
      "source": [
        "a=1\r\n",
        "print(a)"
      ],
      "execution_count": 2,
      "outputs": [
        {
          "output_type": "stream",
          "text": [
            "1\n"
          ],
          "name": "stdout"
        }
      ]
    },
    {
      "cell_type": "code",
      "metadata": {
        "colab": {
          "base_uri": "https://localhost:8080/"
        },
        "id": "X3lzI3f3vN7e",
        "outputId": "78636cee-6bf2-4b00-c3cc-6b2c725fdf2b"
      },
      "source": [
        "a=1\r\n",
        "a"
      ],
      "execution_count": 3,
      "outputs": [
        {
          "output_type": "execute_result",
          "data": {
            "text/plain": [
              "1"
            ]
          },
          "metadata": {
            "tags": []
          },
          "execution_count": 3
        }
      ]
    },
    {
      "cell_type": "code",
      "metadata": {
        "colab": {
          "base_uri": "https://localhost:8080/"
        },
        "id": "X17FSxcJvV6o",
        "outputId": "d6858c0d-71ef-4ad1-c3b4-c71e1f05e60c"
      },
      "source": [
        "a=1\r\n",
        "b='love'\r\n",
        "print(b)"
      ],
      "execution_count": 4,
      "outputs": [
        {
          "output_type": "stream",
          "text": [
            "love\n"
          ],
          "name": "stdout"
        }
      ]
    },
    {
      "cell_type": "code",
      "metadata": {
        "colab": {
          "base_uri": "https://localhost:8080/"
        },
        "id": "6tjWtKK-vhIe",
        "outputId": "cbc6863d-fdbd-48fd-ecf1-8cd3e7dfb666"
      },
      "source": [
        "a=1\r\n",
        "b= 'love'\r\n",
        "c=[1, 2, 7]\r\n",
        "d= [1, '2', 'love']\r\n",
        "print (d)"
      ],
      "execution_count": 5,
      "outputs": [
        {
          "output_type": "stream",
          "text": [
            "[1, '2', 'love']\n"
          ],
          "name": "stdout"
        }
      ]
    },
    {
      "cell_type": "code",
      "metadata": {
        "colab": {
          "base_uri": "https://localhost:8080/"
        },
        "id": "BLJKvabXvryB",
        "outputId": "fa313669-ef3c-4c60-bee8-b4d8dc1a5592"
      },
      "source": [
        "a=1\r\n",
        "b= 'love'\r\n",
        "c=[1, 2, 7]\r\n",
        "d= [1, '2', 'love']\r\n",
        "e = (1, '2','love')\r\n",
        "print (e)"
      ],
      "execution_count": 7,
      "outputs": [
        {
          "output_type": "stream",
          "text": [
            "(1, '2', 'love')\n"
          ],
          "name": "stdout"
        }
      ]
    },
    {
      "cell_type": "code",
      "metadata": {
        "colab": {
          "base_uri": "https://localhost:8080/"
        },
        "id": "LVugbYynwVvu",
        "outputId": "137df3cc-f7b9-4459-829f-6c758cd19f5c"
      },
      "source": [
        "a=1\r\n",
        "b= 'love'\r\n",
        "c=[1, 2, 7]\r\n",
        "d= [1, '2', 'love']\r\n",
        "e = (1, '2','love')\r\n",
        "print (type(e))"
      ],
      "execution_count": 13,
      "outputs": [
        {
          "output_type": "stream",
          "text": [
            "<class 'tuple'>\n"
          ],
          "name": "stdout"
        }
      ]
    },
    {
      "cell_type": "code",
      "metadata": {
        "colab": {
          "base_uri": "https://localhost:8080/"
        },
        "id": "9IKpCXK0wd0M",
        "outputId": "64ca773f-caf9-4597-d40a-ec853b57428b"
      },
      "source": [
        "a=1\r\n",
        "b= 'love'\r\n",
        "c=[1, 2, 7]\r\n",
        "d= [1, '2', 'love']\r\n",
        "e = (1, '2','love')\r\n",
        "print (type(d))"
      ],
      "execution_count": 14,
      "outputs": [
        {
          "output_type": "stream",
          "text": [
            "<class 'list'>\n"
          ],
          "name": "stdout"
        }
      ]
    },
    {
      "cell_type": "code",
      "metadata": {
        "colab": {
          "base_uri": "https://localhost:8080/"
        },
        "id": "F-LfEeF7v11u",
        "outputId": "e6ae4c28-fa31-4425-d71f-91654b6beb36"
      },
      "source": [
        "a=1\r\n",
        "b='love'\r\n",
        "c=[1, 2, 7]\r\n",
        "print(type(a))\r\n",
        "#int는 integer\r\n",
        "#a는 정수"
      ],
      "execution_count": 8,
      "outputs": [
        {
          "output_type": "stream",
          "text": [
            "<class 'int'>\n"
          ],
          "name": "stdout"
        }
      ]
    },
    {
      "cell_type": "code",
      "metadata": {
        "colab": {
          "base_uri": "https://localhost:8080/"
        },
        "id": "ilPf4DbIv9k2",
        "outputId": "e3ca1de0-5951-4299-838d-f4b053bf52e9"
      },
      "source": [
        "a=1\r\n",
        "b='love'\r\n",
        "c=[1, 2, 7]\r\n",
        "print(type(b))\r\n",
        "#str은 string"
      ],
      "execution_count": 9,
      "outputs": [
        {
          "output_type": "stream",
          "text": [
            "<class 'str'>\n"
          ],
          "name": "stdout"
        }
      ]
    },
    {
      "cell_type": "code",
      "metadata": {
        "colab": {
          "base_uri": "https://localhost:8080/"
        },
        "id": "5V1jj9fiwBU7",
        "outputId": "4875478f-794c-4793-d386-714fa9f4e95e"
      },
      "source": [
        "a=1.2\r\n",
        "b='love'\r\n",
        "c=[1, 2, 7]\r\n",
        "print(type(a))\r\n",
        "#a에 소수점 있다"
      ],
      "execution_count": 10,
      "outputs": [
        {
          "output_type": "stream",
          "text": [
            "<class 'float'>\n"
          ],
          "name": "stdout"
        }
      ]
    },
    {
      "cell_type": "code",
      "metadata": {
        "colab": {
          "base_uri": "https://localhost:8080/"
        },
        "id": "1FST9Mu2wDBs",
        "outputId": "c105aeca-204d-4c42-854b-4ffa01a443c8"
      },
      "source": [
        "a=1\r\n",
        "b='love'\r\n",
        "c=[1, 2, 7]\r\n",
        "d=(1, '2','love')\r\n",
        "e={'a':165, 'b':172, 'c':185}\r\n",
        "print(type(e))"
      ],
      "execution_count": 12,
      "outputs": [
        {
          "output_type": "stream",
          "text": [
            "<class 'dict'>\n"
          ],
          "name": "stdout"
        }
      ]
    }
  ]
}