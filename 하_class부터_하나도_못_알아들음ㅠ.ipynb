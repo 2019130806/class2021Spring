{
  "nbformat": 4,
  "nbformat_minor": 0,
  "metadata": {
    "colab": {
      "name": "하..class부터 하나도 못 알아들음ㅠ.ipynb",
      "provenance": [],
      "authorship_tag": "ABX9TyMp8WD4goKimwLwij1VpJXT",
      "include_colab_link": true
    },
    "kernelspec": {
      "name": "python3",
      "display_name": "Python 3"
    },
    "language_info": {
      "name": "python"
    }
  },
  "cells": [
    {
      "cell_type": "markdown",
      "metadata": {
        "id": "view-in-github",
        "colab_type": "text"
      },
      "source": [
        "<a href=\"https://colab.research.google.com/github/2019130806/class2021Spring/blob/main/%ED%95%98_class%EB%B6%80%ED%84%B0_%ED%95%98%EB%82%98%EB%8F%84_%EB%AA%BB_%EC%95%8C%EC%95%84%EB%93%A4%EC%9D%8C%E3%85%A0.ipynb\" target=\"_parent\"><img src=\"https://colab.research.google.com/assets/colab-badge.svg\" alt=\"Open In Colab\"/></a>"
      ]
    },
    {
      "cell_type": "code",
      "metadata": {
        "id": "i-fYc84DbLM8"
      },
      "source": [
        "#def func(입력,입력):\n",
        "  #return 출력\n",
        "\n",
        "class cal: #class=함수+변수\n",
        "  def __init__(self): #이 밑에 있는 문장이 실행됨\n",
        "    self.result=0 #result가 변수임 #나 자신의 변수에다가 0을 ㅓㄶ어라\n",
        "    # 위 두 줄 암기해두기'\n",
        "  def add(self,n):\n",
        "    self.result+=n #자기 자신에 n만큼 더 해주는 것\n",
        "    return self.result #출력"
      ],
      "execution_count": 1,
      "outputs": []
    },
    {
      "cell_type": "code",
      "metadata": {
        "colab": {
          "base_uri": "https://localhost:8080/"
        },
        "id": "I43hZeYAcNT3",
        "outputId": "30299dfa-327d-42b5-dd09-20d30d9433e5"
      },
      "source": [
        "A=cal() #A라는 객체를 위 class 가지고 찍어내는 것\n",
        "A.result #위에 두 줄 실행 (?)"
      ],
      "execution_count": 2,
      "outputs": [
        {
          "output_type": "execute_result",
          "data": {
            "text/plain": [
              "0"
            ]
          },
          "metadata": {
            "tags": []
          },
          "execution_count": 2
        }
      ]
    },
    {
      "cell_type": "code",
      "metadata": {
        "colab": {
          "base_uri": "https://localhost:8080/"
        },
        "id": "ot5BiNAXckOa",
        "outputId": "873ce3b1-c8a4-4ce4-8725-1f721fc9e3d5"
      },
      "source": [
        "A.add(4) #n이 추가로 더해진다. 원래 result 0이었는데 추가로 4가 더해져서 result에는 4"
      ],
      "execution_count": 3,
      "outputs": [
        {
          "output_type": "execute_result",
          "data": {
            "text/plain": [
              "4"
            ]
          },
          "metadata": {
            "tags": []
          },
          "execution_count": 3
        }
      ]
    },
    {
      "cell_type": "code",
      "metadata": {
        "colab": {
          "base_uri": "https://localhost:8080/"
        },
        "id": "XCPMwaz2dLUc",
        "outputId": "913e69df-a0ce-4d1e-f814-9f5b2c78058b"
      },
      "source": [
        "A.add(6)"
      ],
      "execution_count": 4,
      "outputs": [
        {
          "output_type": "execute_result",
          "data": {
            "text/plain": [
              "10"
            ]
          },
          "metadata": {
            "tags": []
          },
          "execution_count": 4
        }
      ]
    },
    {
      "cell_type": "code",
      "metadata": {
        "id": "YR72ZWfEctH5"
      },
      "source": [
        "B=cal()"
      ],
      "execution_count": 6,
      "outputs": []
    },
    {
      "cell_type": "code",
      "metadata": {
        "colab": {
          "base_uri": "https://localhost:8080/"
        },
        "id": "CUpNHDrHdj79",
        "outputId": "ddb7c686-9ad9-4e05-daf2-83c71495414d"
      },
      "source": [
        "B.result"
      ],
      "execution_count": 7,
      "outputs": [
        {
          "output_type": "execute_result",
          "data": {
            "text/plain": [
              "0"
            ]
          },
          "metadata": {
            "tags": []
          },
          "execution_count": 7
        }
      ]
    },
    {
      "cell_type": "code",
      "metadata": {
        "id": "nKfVwiPSdkwC"
      },
      "source": [
        "#class 정의와 사용까지 배웠대!!!"
      ],
      "execution_count": null,
      "outputs": []
    },
    {
      "cell_type": "markdown",
      "metadata": {
        "id": "A1U0MZdhe1F7"
      },
      "source": [
        "모듈이란 함수나 변수 또는 클래스를 모아 놓은 파일이다.<br>\n",
        ".py <br>\n",
        "mod1/2/3/4/5/6/7/8\n",
        "\n"
      ]
    },
    {
      "cell_type": "code",
      "metadata": {
        "colab": {
          "base_uri": "https://localhost:8080/",
          "height": 359
        },
        "id": "Ksq5EeRDgDtx",
        "outputId": "93f3bde1-2813-4bfa-9365-4aa06cdf7514"
      },
      "source": [
        "import matplotlib\n",
        "#import matplotlib.pyplot\n",
        "from matplotlib import pyplot\n",
        "matplotlib.pyplot.hist(n)\n",
        "#from matplotlib.pyplot import hist\n",
        "#그냥 import랑 from import 랑 .\n",
        "#package(folder)가 있고 그 안에 subfolder 있을 수 있고, .py라는 모듈이 들어가 있음\n",
        "#모듈 속에는 function과 class가 들어있다.."
      ],
      "execution_count": 16,
      "outputs": [
        {
          "output_type": "execute_result",
          "data": {
            "text/plain": [
              "(array([ 5.,  8., 12., 22., 18., 11., 13.,  6.,  2.,  3.]),\n",
              " array([-2.19490958, -1.74775746, -1.30060533, -0.8534532 , -0.40630107,\n",
              "         0.04085105,  0.48800318,  0.93515531,  1.38230743,  1.82945956,\n",
              "         2.27661169]),\n",
              " <a list of 10 Patch objects>)"
            ]
          },
          "metadata": {
            "tags": []
          },
          "execution_count": 16
        },
        {
          "output_type": "display_data",
          "data": {
            "image/png": "[encoded data removed]",
            "text/plain": [
              "<Figure size 432x288 with 1 Axes>"
            ]
          },
          "metadata": {
            "tags": [],
            "needs_background": "light"
          }
        }
      ]
    },
    {
      "cell_type": "code",
      "metadata": {
        "colab": {
          "base_uri": "https://localhost:8080/"
        },
        "id": "G2KqCEfKgMia",
        "outputId": "63838274-380b-434f-efc3-0e5ec3b12a0f"
      },
      "source": [
        "import numpy as np\n",
        "n=np.random.randn(100)\n",
        "n #0을 중심을 정규분포 갖는 랜덤한 100개 숫자"
      ],
      "execution_count": 13,
      "outputs": [
        {
          "output_type": "execute_result",
          "data": {
            "text/plain": [
              "array([-1.46577457, -0.41279372, -0.3028866 , -1.61378389, -1.34133912,\n",
              "        0.03001091, -0.47727527,  1.03985901,  0.2907077 , -1.1229716 ,\n",
              "        0.30708581, -0.53248249,  1.94789777, -0.11338472, -0.90154794,\n",
              "        2.06646875, -0.18520065,  0.78746127,  0.4408484 ,  1.03845136,\n",
              "       -1.5184823 , -1.59044061, -0.09238198, -0.80533076, -0.49242347,\n",
              "        1.44064912,  0.78850724, -0.55103638,  1.06162104,  0.72914158,\n",
              "        0.74131265, -0.94753312,  0.08491284,  1.21069068, -0.19504577,\n",
              "       -1.22997846, -1.13274834, -0.56527362, -0.54208892,  2.27661169,\n",
              "       -0.43520096,  0.15446138, -0.76408431, -0.76698614, -0.10157018,\n",
              "        0.57319448, -0.77956594, -0.27618805, -0.32175539, -1.97632171,\n",
              "       -0.02670458, -1.49647921, -0.05350424, -2.19490958, -0.72550303,\n",
              "       -0.76134191, -0.61635288, -1.22343194, -1.82501547, -0.87530662,\n",
              "       -1.17219796,  0.760007  , -0.41350958,  0.68678779, -0.8714546 ,\n",
              "        0.26598515,  1.40813446, -0.05852461,  0.78165818,  0.30398432,\n",
              "       -1.52870846, -1.00857889, -0.58309928,  0.95375888, -0.58678976,\n",
              "       -0.32217934,  0.67316203,  0.8808855 , -2.03496867,  0.95683737,\n",
              "        0.49669949,  0.19435722,  0.46504655, -0.09379857,  0.8463029 ,\n",
              "        0.02843464,  0.89850221, -1.82742062, -0.1613525 , -0.10599317,\n",
              "        0.15730691, -0.88953406, -0.61713179, -1.04909731,  0.11968032,\n",
              "       -0.49986923, -0.63486336, -1.74580647, -0.47654171, -0.13888006])"
            ]
          },
          "metadata": {
            "tags": []
          },
          "execution_count": 13
        }
      ]
    },
    {
      "cell_type": "code",
      "metadata": {
        "id": "WATJw5dtg0a1"
      },
      "source": [
        ""
      ],
      "execution_count": null,
      "outputs": []
    }
  ]
}