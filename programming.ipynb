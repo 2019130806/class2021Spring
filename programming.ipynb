{
  "nbformat": 4,
  "nbformat_minor": 0,
  "metadata": {
    "colab": {
      "name": "Untitled0.ipynb",
      "provenance": [],
      "authorship_tag": "ABX9TyMoSv3+h0GfSmdg7wVAly+l",
      "include_colab_link": true
    },
    "kernelspec": {
      "name": "python3",
      "display_name": "Python 3"
    }
  },
  "cells": [
    {
      "cell_type": "markdown",
      "metadata": {
        "id": "view-in-github",
        "colab_type": "text"
      },
      "source": [
        "<a href=\"https://colab.research.google.com/github/2019130806/class2021Spring/blob/main/programming.ipynb\" target=\"_parent\"><img src=\"https://colab.research.google.com/assets/colab-badge.svg\" alt=\"Open In Colab\"/></a>"
      ]
    },
    {
      "cell_type": "markdown",
      "metadata": {
        "id": "WxZZ_oUflZD-"
      },
      "source": [
        "# **프로그래밍 language**\r\n",
        "\r\n",
        "## **변수**\r\n",
        "\r\n",
        "a=1\r\n",
        "\r\n",
        "b=2\r\n",
        "\r\n",
        "c='love'\r\n",
        "\r\n",
        "**variable(변수) = 내용**\r\n",
        "\r\n",
        "**=는 오른쪽 내용을 왼쪽에 assign** (같다는 뜻 X)\r\n",
        "\r\n",
        "\r\n",
        "\r\n",
        "## **제어문**\r\n",
        "\r\n",
        "### **1. 반복 for**\r\n",
        "\r\n",
        "for100\r\n",
        " \r\n",
        " print (1)\r\n",
        " \r\n",
        "--> 100번 동안 (1)을 프린트 하라\r\n",
        "\r\n",
        "\r\n",
        "### **2. 조건 if**\r\n",
        "a=1\r\n",
        "\r\n",
        "if a==1\r\n",
        "\r\n",
        " print (3)\r\n",
        "\r\n",
        " --> a가 1이면 (3)을 프린트 하라\r\n",
        "\r\n",
        "a=1\r\n",
        "\r\n",
        "if a==2\r\n",
        "\r\n",
        "print (3)\r\n",
        "\r\n",
        "--> a는 2가 아니니까 프린트 실행하지 않을 것\r\n",
        "\r\n",
        "\r\n",
        "## **함수 = 입출력 관계**\r\n",
        "\r\n",
        "입력 --> 변화(function, 함수) --> 출력\r\n",
        "\r\n",
        "input이 들어가서 output이 나올 때, 함수가 중간에 변경을 시켜줌\r\n",
        "\r\n",
        "y=f(x) <-- input --> f --> output\r\n",
        "\r\n",
        "x가 입력, y가 출력, f는 함수 (꼭 숫자만 있는 것은 X)\r\n",
        "\r\n",
        "인간의 몸 (외부 자극/신호/소리/아침에 먹은 음식물 --> 최종 출력)\r\n",
        "\r\n",
        "안녕하세요 라는 소리가 입력 --> '안부를 묻는구나'라는 최종 결과 출력\r\n",
        "\r\n",
        "AI도 함수\r\n",
        "\r\n",
        "사진 정보 입력 --> text로 출력\r\n",
        "\r\n",
        "function add (a,b) --> 자동화 가능\r\n",
        "\r\n",
        "\r\n"
      ]
    },
    {
      "cell_type": "code",
      "metadata": {
        "colab": {
          "base_uri": "https://localhost:8080/"
        },
        "id": "RbEmH8T2niF3",
        "outputId": "11b470c9-1963-4169-8104-66a7951da25e"
      },
      "source": [
        "a=1\r\n",
        "b=2\r\n",
        "a+b"
      ],
      "execution_count": 1,
      "outputs": [
        {
          "output_type": "execute_result",
          "data": {
            "text/plain": [
              "3"
            ]
          },
          "metadata": {
            "tags": []
          },
          "execution_count": 1
        }
      ]
    },
    {
      "cell_type": "code",
      "metadata": {
        "colab": {
          "base_uri": "https://localhost:8080/"
        },
        "id": "ZwMOEQq4nlbL",
        "outputId": "8d400cda-0029-47b4-fbc1-42b846cda9be"
      },
      "source": [
        "a=5\r\n",
        "b=6\r\n",
        "a+b"
      ],
      "execution_count": 2,
      "outputs": [
        {
          "output_type": "execute_result",
          "data": {
            "text/plain": [
              "11"
            ]
          },
          "metadata": {
            "tags": []
          },
          "execution_count": 2
        }
      ]
    },
    {
      "cell_type": "code",
      "metadata": {
        "colab": {
          "base_uri": "https://localhost:8080/"
        },
        "id": "SXuYr7DNnon9",
        "outputId": "bef76895-f8b9-4fa1-e848-f70b66c52e40"
      },
      "source": [
        "a=7\r\n",
        "b=3\r\n",
        "a+b"
      ],
      "execution_count": 3,
      "outputs": [
        {
          "output_type": "execute_result",
          "data": {
            "text/plain": [
              "10"
            ]
          },
          "metadata": {
            "tags": []
          },
          "execution_count": 3
        }
      ]
    },
    {
      "cell_type": "code",
      "metadata": {
        "colab": {
          "base_uri": "https://localhost:8080/",
          "height": 213
        },
        "id": "I0Pw2Y1joLd_",
        "outputId": "787333ce-723e-4d63-cfbb-0321b4f712a9"
      },
      "source": [
        "a=1\r\n",
        "b=2\r\n",
        "add (a,b)"
      ],
      "execution_count": 12,
      "outputs": [
        {
          "output_type": "error",
          "ename": "NameError",
          "evalue": "ignored",
          "traceback": [
            "\u001b[0;31m---------------------------------------------------------------------------\u001b[0m",
            "\u001b[0;31mNameError\u001b[0m                                 Traceback (most recent call last)",
            "\u001b[0;32m<ipython-input-12-8c6be733a482>\u001b[0m in \u001b[0;36m<module>\u001b[0;34m()\u001b[0m\n\u001b[1;32m      1\u001b[0m \u001b[0ma\u001b[0m\u001b[0;34m=\u001b[0m\u001b[0;36m1\u001b[0m\u001b[0;34m\u001b[0m\u001b[0;34m\u001b[0m\u001b[0m\n\u001b[1;32m      2\u001b[0m \u001b[0mb\u001b[0m\u001b[0;34m=\u001b[0m\u001b[0;36m2\u001b[0m\u001b[0;34m\u001b[0m\u001b[0;34m\u001b[0m\u001b[0m\n\u001b[0;32m----> 3\u001b[0;31m \u001b[0madd\u001b[0m \u001b[0;34m(\u001b[0m\u001b[0ma\u001b[0m\u001b[0;34m,\u001b[0m\u001b[0mb\u001b[0m\u001b[0;34m)\u001b[0m\u001b[0;34m\u001b[0m\u001b[0;34m\u001b[0m\u001b[0m\n\u001b[0m",
            "\u001b[0;31mNameError\u001b[0m: name 'add' is not defined"
          ]
        }
      ]
    }
  ]
}