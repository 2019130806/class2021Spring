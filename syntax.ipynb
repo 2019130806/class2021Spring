{
  "nbformat": 4,
  "nbformat_minor": 0,
  "metadata": {
    "colab": {
      "name": "syntax.ipynb",
      "provenance": [],
      "collapsed_sections": [],
      "include_colab_link": true
    },
    "kernelspec": {
      "name": "python3",
      "display_name": "Python 3"
    }
  },
  "cells": [
    {
      "cell_type": "markdown",
      "metadata": {
        "id": "view-in-github",
        "colab_type": "text"
      },
      "source": [
        "<a href=\"https://colab.research.google.com/github/2019130806/class2021Spring/blob/main/syntax.ipynb\" target=\"_parent\"><img src=\"https://colab.research.google.com/assets/colab-badge.svg\" alt=\"Open In Colab\"/></a>"
      ]
    },
    {
      "cell_type": "markdown",
      "metadata": {
        "id": "tqOLS_r8sgc1"
      },
      "source": [
        "여러번 여러개 하고 싶을 때 for 씀"
      ]
    },
    {
      "cell_type": "code",
      "metadata": {
        "colab": {
          "base_uri": "https://localhost:8080/"
        },
        "id": "zCSxrCdKsnK2",
        "outputId": "d410722f-2176-4883-8c0e-77328c6439b2"
      },
      "source": [
        "a=[1,2,3,4]\r\n",
        "for i in a: #문법 for in a: in 앞이랑 다음에 무엇이 와야 할지?\r\n",
        "#in 뒤에 있는 것을 하나식 돌려서 뭔가를 하라..!?\r\n",
        "    print(i) #i가 1을 받고, 그 다음 2 받고, 3 받고, 4 받고.."
      ],
      "execution_count": null,
      "outputs": [
        {
          "output_type": "stream",
          "text": [
            "1\n",
            "2\n",
            "3\n",
            "4\n"
          ],
          "name": "stdout"
        }
      ]
    },
    {
      "cell_type": "markdown",
      "metadata": {
        "id": "aNhDFkY7urQ-"
      },
      "source": [
        "a에는 1 2 3 4\r\n",
        "in a: a 속에 있는 것을 근하나 하나 처음부터 i에 할당?!"
      ]
    },
    {
      "cell_type": "code",
      "metadata": {
        "colab": {
          "base_uri": "https://localhost:8080/"
        },
        "id": "jOlBYNcOaJ3y",
        "outputId": "8e87766a-6f6d-4afc-9966-d65640d5f183"
      },
      "source": [
        "a=[1,2,3,4] #list\r\n",
        "for i in a: #for 100 print (a)하면 100번동안 a를 print해라 라는 뜻 #print i in a:하면 a처음부터 끝까지 프린트\r\n",
        "    print (i) #a:니까 1 2 3 4"
      ],
      "execution_count": null,
      "outputs": [
        {
          "output_type": "stream",
          "text": [
            "1\n",
            "2\n",
            "3\n",
            "4\n"
          ],
          "name": "stdout"
        }
      ]
    },
    {
      "cell_type": "code",
      "metadata": {
        "id": "IOExHR_QbDmQ"
      },
      "source": [
        "a=[1,2,3,4]\r\n",
        "for i in range(len(a)): #len은 길이 --> a의 길이는 4\r\n",
        "    print(a[i]) "
      ],
      "execution_count": null,
      "outputs": []
    },
    {
      "cell_type": "code",
      "metadata": {
        "colab": {
          "base_uri": "https://localhost:8080/"
        },
        "id": "jr--5FSBvCcE",
        "outputId": "c11ebbc7-171b-4e49-8477-e4dd9479bf0e"
      },
      "source": [
        "a=[1,2,3,4]\r\n",
        "for i in range(4): #range뒤 숫자 4--> 4개의 index 0부터 시작해서 0, 1, 2, 3\r\n",
        "    print(a[i]) #i가 처음에 0 -> 0번째 것 프린트해라 -> 1"
      ],
      "execution_count": null,
      "outputs": [
        {
          "output_type": "stream",
          "text": [
            "1\n",
            "2\n",
            "3\n",
            "4\n"
          ],
          "name": "stdout"
        }
      ]
    },
    {
      "cell_type": "code",
      "metadata": {
        "colab": {
          "base_uri": "https://localhost:8080/"
        },
        "id": "TpVkzdrBvUP5",
        "outputId": "87b03b09-d368-4234-c9f7-f8b2af48a41e"
      },
      "source": [
        "a=[1,2,3,4]\r\n",
        "for i in range(len(a)): #len(a)는 4 range 4개를 만듦 -> 0, 1, 2, 3\r\n",
        "    print(a[i]) #a의 0번째, 1번째, 2번째, 3번째"
      ],
      "execution_count": null,
      "outputs": [
        {
          "output_type": "stream",
          "text": [
            "1\n",
            "2\n",
            "3\n",
            "4\n"
          ],
          "name": "stdout"
        }
      ]
    },
    {
      "cell_type": "code",
      "metadata": {
        "colab": {
          "base_uri": "https://localhost:8080/"
        },
        "id": "bE5GBPQ0vjuU",
        "outputId": "008e4de5-e8ef-4238-9f1a-f316a1b71f15"
      },
      "source": [
        "a=['red', 'gree', 'blue', 'purple']\r\n",
        "for i in a:\r\n",
        "    print(i)"
      ],
      "execution_count": null,
      "outputs": [
        {
          "output_type": "stream",
          "text": [
            "red\n",
            "gree\n",
            "blue\n",
            "purple\n"
          ],
          "name": "stdout"
        }
      ]
    },
    {
      "cell_type": "code",
      "metadata": {
        "colab": {
          "base_uri": "https://localhost:8080/"
        },
        "id": "riZJ3T_rxqu-",
        "outputId": "2e7c4ea6-a6fa-4520-8042-cc3e7146ccaf"
      },
      "source": [
        "a=['red', 'blue', 'green', 'purple']\r\n",
        "for s in a:\r\n",
        "    print(s) #for loop 4번 돌림/ 매번 돌리면 s variable은 바뀜, 바뀌는 족족 print out 해줌"
      ],
      "execution_count": null,
      "outputs": [
        {
          "output_type": "stream",
          "text": [
            "red\n",
            "blue\n",
            "green\n",
            "purple\n"
          ],
          "name": "stdout"
        }
      ]
    },
    {
      "cell_type": "code",
      "metadata": {
        "colab": {
          "base_uri": "https://localhost:8080/"
        },
        "id": "EgrlSs5sw0LF",
        "outputId": "148df8ed-4011-4006-83c4-6c469cb1a238"
      },
      "source": [
        "a=['red', 'green', 'blue', 'purple']\r\n",
        "for i in range(len(a)): #range(4): 랑 같음\r\n",
        "    print(a[i]) #for loop안에 들어있다는 차원에서 안 쪽으로 들어가야 함!"
      ],
      "execution_count": null,
      "outputs": [
        {
          "output_type": "stream",
          "text": [
            "red\n",
            "green\n",
            "blue\n",
            "purple\n"
          ],
          "name": "stdout"
        }
      ]
    },
    {
      "cell_type": "code",
      "metadata": {
        "colab": {
          "base_uri": "https://localhost:8080/"
        },
        "id": "uMvyH1anyP1j",
        "outputId": "d14a45e3-cabb-432e-87f9-5c0895c12d5d"
      },
      "source": [
        "a=['red', 'green', 'blue', 'purple']\r\n",
        "for s in range(len(a)):\r\n",
        "    print(a[s])"
      ],
      "execution_count": null,
      "outputs": [
        {
          "output_type": "stream",
          "text": [
            "red\n",
            "green\n",
            "blue\n",
            "purple\n"
          ],
          "name": "stdout"
        }
      ]
    },
    {
      "cell_type": "markdown",
      "metadata": {
        "id": "JxTxEbeCyiRu"
      },
      "source": [
        "여기부턴 3월 15일에 안 함.<br>\r\n",
        "목요일에 마저 수업나가면 이어서 다시 해보도록 하겠습니다. ㅎㅎ"
      ]
    },
    {
      "cell_type": "code",
      "metadata": {
        "id": "R66llYAImuoJ",
        "colab": {
          "base_uri": "https://localhost:8080/"
        },
        "outputId": "7e87f497-8287-4e2c-894a-5dea460afb4e"
      },
      "source": [
        "a=[1,2,3,4]\r\n",
        "for i in range(3): #index 3개 0, 1, 2\r\n",
        "    print(a[i])"
      ],
      "execution_count": null,
      "outputs": [
        {
          "output_type": "stream",
          "text": [
            "1\n",
            "2\n",
            "3\n"
          ],
          "name": "stdout"
        }
      ]
    },
    {
      "cell_type": "code",
      "metadata": {
        "colab": {
          "base_uri": "https://localhost:8080/"
        },
        "id": "7h7ka0ganNyk",
        "outputId": "f3e66343-1ecd-40e8-a96e-186c5bcf83ab"
      },
      "source": [
        "a=[1,2,3,4]\r\n",
        "for i in range(4):\r\n",
        "    print(a[i]) #a[o], a[1], a[2], a[3]"
      ],
      "execution_count": 2,
      "outputs": [
        {
          "output_type": "stream",
          "text": [
            "1\n",
            "2\n",
            "3\n",
            "4\n"
          ],
          "name": "stdout"
        }
      ]
    },
    {
      "cell_type": "code",
      "metadata": {
        "colab": {
          "base_uri": "https://localhost:8080/"
        },
        "id": "JF3GCV9Pnd6y",
        "outputId": "4fa8567c-fc80-48b3-9570-e87707c88518"
      },
      "source": [
        "a=[1,2,3,4]\r\n",
        "for i in range (0,4): #range(0,4) --> 0부터 4이전까지!\r\n",
        "    print(a[i])"
      ],
      "execution_count": 3,
      "outputs": [
        {
          "output_type": "stream",
          "text": [
            "1\n",
            "2\n",
            "3\n",
            "4\n"
          ],
          "name": "stdout"
        }
      ]
    },
    {
      "cell_type": "code",
      "metadata": {
        "colab": {
          "base_uri": "https://localhost:8080/"
        },
        "id": "IVYp1wiYnlAG",
        "outputId": "2591e3fa-0af4-4df7-a456-0ced71ac8b5c"
      },
      "source": [
        "a=[1,2,3,4]\r\n",
        "for i in range(1,4): #1,2,3 --> 2, 3, 4 // range(1,5) --> 에러 index 4=5번째는 없음! a[4] 존재하지 않음\r\n",
        "    print(a[i]) "
      ],
      "execution_count": 4,
      "outputs": [
        {
          "output_type": "stream",
          "text": [
            "2\n",
            "3\n",
            "4\n"
          ],
          "name": "stdout"
        }
      ]
    },
    {
      "cell_type": "code",
      "metadata": {
        "colab": {
          "base_uri": "https://localhost:8080/"
        },
        "id": "LAfw-YpooBjR",
        "outputId": "6ba80740-b6b3-452c-ad5d-cdf7409f07b3"
      },
      "source": [
        "a=[1,2,3,4]\r\n",
        "for i in range(0,4,2): #0부터 3까지 두 칸을 뛰어라 ???\r\n",
        "    print(a[i])"
      ],
      "execution_count": 5,
      "outputs": [
        {
          "output_type": "stream",
          "text": [
            "1\n",
            "3\n"
          ],
          "name": "stdout"
        }
      ]
    },
    {
      "cell_type": "code",
      "metadata": {
        "colab": {
          "base_uri": "https://localhost:8080/"
        },
        "id": "L6uxVnoKoptX",
        "outputId": "8c3c8610-f545-4f93-85ee-4a0f9c88a80e"
      },
      "source": [
        "a=[1,2,3,4,5,6,7,8,9,10]\r\n",
        "for i in range (0,10,2):\r\n",
        "  print(a[i])"
      ],
      "execution_count": 7,
      "outputs": [
        {
          "output_type": "stream",
          "text": [
            "1\n",
            "3\n",
            "5\n",
            "7\n",
            "9\n"
          ],
          "name": "stdout"
        }
      ]
    },
    {
      "cell_type": "code",
      "metadata": {
        "colab": {
          "base_uri": "https://localhost:8080/"
        },
        "id": "vMf65P-6ozLv",
        "outputId": "6a72abf8-031e-4351-b2ab-2cc96bb637af"
      },
      "source": [
        "a=[1,2,3,4,5,6,7,8,9,10]\r\n",
        "for i in range (0,10,3):\r\n",
        "  print(a[i])"
      ],
      "execution_count": 8,
      "outputs": [
        {
          "output_type": "stream",
          "text": [
            "1\n",
            "4\n",
            "7\n",
            "10\n"
          ],
          "name": "stdout"
        }
      ]
    },
    {
      "cell_type": "code",
      "metadata": {
        "colab": {
          "base_uri": "https://localhost:8080/"
        },
        "id": "nb8-O0p9o291",
        "outputId": "6b905c96-d00b-4415-a013-b81c10fa3131"
      },
      "source": [
        "a=[1,2,3,4,5,6,7,8,9,10]\r\n",
        "for i in range (0,10,1):\r\n",
        "  print(a[i])"
      ],
      "execution_count": 9,
      "outputs": [
        {
          "output_type": "stream",
          "text": [
            "1\n",
            "2\n",
            "3\n",
            "4\n",
            "5\n",
            "6\n",
            "7\n",
            "8\n",
            "9\n",
            "10\n"
          ],
          "name": "stdout"
        }
      ]
    },
    {
      "cell_type": "code",
      "metadata": {
        "colab": {
          "base_uri": "https://localhost:8080/"
        },
        "id": "mNM8uYtRo5JC",
        "outputId": "096cafc2-5449-4670-c12d-973a1de47c87"
      },
      "source": [
        "a=[1,2,3,4,5,6,7,8,9,10]\r\n",
        "for i in range (0,10,4): #RANGE 쓰는 법 알아야 함\r\n",
        "  print(a[i])"
      ],
      "execution_count": 10,
      "outputs": [
        {
          "output_type": "stream",
          "text": [
            "1\n",
            "5\n",
            "9\n"
          ],
          "name": "stdout"
        }
      ]
    },
    {
      "cell_type": "markdown",
      "metadata": {
        "id": "RJjhfui9oVst"
      },
      "source": [
        "range(4)<br>\r\n",
        "range(1,4) --> 1번째부터 4번째 전까지 (시작은 0번째부터)<br>\r\n",
        "for () in 리스트/range"
      ]
    },
    {
      "cell_type": "markdown",
      "metadata": {
        "id": "eALXpC9JpaA6"
      },
      "source": [
        "제어문 2개<br>\r\n",
        "loop - for<br>\r\n",
        "condition - if <br>\r\n",
        "if ( ) : (~하면)<br>\r\n",
        "  (tab) (뭐뭐를 실행해라)<br>\r\n",
        "else: (그렇지 않으면~) <br>"
      ]
    },
    {
      "cell_type": "code",
      "metadata": {
        "colab": {
          "base_uri": "https://localhost:8080/"
        },
        "id": "qq7s7_JMpZi_",
        "outputId": "c16786d8-06fc-466b-c904-a67272c03d53"
      },
      "source": [
        "a=0\r\n",
        "if a==0: #등호 2개 a가 0과 같다!\r\n",
        "    print(a) #a가 0과 같으면 밑에 것을 실행해라!\r\n",
        "else:\r\n",
        "    print(a+1)"
      ],
      "execution_count": 12,
      "outputs": [
        {
          "output_type": "stream",
          "text": [
            "0\n"
          ],
          "name": "stdout"
        }
      ]
    },
    {
      "cell_type": "code",
      "metadata": {
        "colab": {
          "base_uri": "https://localhost:8080/"
        },
        "id": "XcldSHq7qIgn",
        "outputId": "689281c6-a451-494e-c6ee-9f2d7e8a99fe"
      },
      "source": [
        "a=1\r\n",
        "if a==0:\r\n",
        "    print(a)\r\n",
        "else:\r\n",
        "    print(a+1) #무엇이 print out 되어 나올지 시험 문제 출제 가능"
      ],
      "execution_count": 13,
      "outputs": [
        {
          "output_type": "stream",
          "text": [
            "2\n"
          ],
          "name": "stdout"
        }
      ]
    },
    {
      "cell_type": "code",
      "metadata": {
        "id": "OP-Pq8vcqS_K"
      },
      "source": [
        "a=1\r\n",
        "if a==0:\r\n",
        "    print(a) #아무것도 안 나옴 ㅎㅎ"
      ],
      "execution_count": 14,
      "outputs": []
    },
    {
      "cell_type": "markdown",
      "metadata": {
        "id": "VveSDB3Sqo_T"
      },
      "source": [
        "for loop 가 2번 돈다 -> (1번,2번, 3번)(1번,2번, 3번)<br>\r\n",
        "for loop가 3번 돈다 --> 1번, 2번 3번"
      ]
    },
    {
      "cell_type": "code",
      "metadata": {
        "colab": {
          "base_uri": "https://localhost:8080/"
        },
        "id": "OziveyhRqhBf",
        "outputId": "28de88bb-5dd5-4f57-97f9-333289722c98"
      },
      "source": [
        "for i in range(1,3): #1, 2를 i에 넣어서 돌아간다고 생각\r\n",
        "    for j in range(3,5): #3에서 5직전까지 --> 3, 4 (2번 도는 것) 3-> j / 4-> j // 돌리는 대상은 print(i+j)\r\n",
        "        print(i*j) i=1, j=3 / i=1, j=4/ i=2, j=3/i=2, j=4"
      ],
      "execution_count": 16,
      "outputs": [
        {
          "output_type": "stream",
          "text": [
            "3\n",
            "4\n",
            "6\n",
            "8\n"
          ],
          "name": "stdout"
        }
      ]
    },
    {
      "cell_type": "code",
      "metadata": {
        "colab": {
          "base_uri": "https://localhost:8080/"
        },
        "id": "0X7J315gryh3",
        "outputId": "e41d3c1f-9113-4d5a-d511-bf903e740062"
      },
      "source": [
        "for i in range(1,3): #1,2\r\n",
        "    for j in range(3,5): #3,4\r\n",
        "        if j>=4:\r\n",
        "            print(i*j)"
      ],
      "execution_count": 17,
      "outputs": [
        {
          "output_type": "stream",
          "text": [
            "4\n",
            "8\n"
          ],
          "name": "stdout"
        }
      ]
    },
    {
      "cell_type": "code",
      "metadata": {
        "colab": {
          "base_uri": "https://localhost:8080/"
        },
        "id": "HwomB6F-sdBH",
        "outputId": "376f9533-1b72-4309-a87d-1f6477660c2d"
      },
      "source": [
        "a=[1,2,3,4] #list\r\n",
        "b=[i for i in a if i >=2] #list / #loop list 아니면 list loop라고 부름\r\n",
        "#for 하고 if 가 들어있음 \r\n",
        "#for i in [1,2,3,4]\r\n",
        "#   if i >=2\r\n",
        "#i를 가지고 b를 만들어라\r\n",
        "print(b) #b에 리스트가 들어옴\r\n",
        "print(type(b)) #list임을 알 수 있음"
      ],
      "execution_count": 20,
      "outputs": [
        {
          "output_type": "stream",
          "text": [
            "[2, 3, 4]\n",
            "<class 'list'>\n"
          ],
          "name": "stdout"
        }
      ]
    },
    {
      "cell_type": "code",
      "metadata": {
        "colab": {
          "base_uri": "https://localhost:8080/"
        },
        "id": "pcI-FuBVtYHP",
        "outputId": "4d449637-1370-4fe8-ece4-cbe76649d595"
      },
      "source": [
        "a=['red', 'green', 'blue', 'purple']\r\n",
        "b=[i for i in a if len(i)>=4] #철자가 4이상인 것 골라서 b에다가 list up 해라 훗\r\n",
        "#b=[i]\r\n",
        "#for i in a: #red가 1로 들어감 -> len은 3 -> 3은 4보다 크지 않으니 X\r\n",
        "    #if len(i)>=4\r\n",
        "b"
      ],
      "execution_count": 21,
      "outputs": [
        {
          "output_type": "execute_result",
          "data": {
            "text/plain": [
              "['green', 'blue', 'purple']"
            ]
          },
          "metadata": {
            "tags": []
          },
          "execution_count": 21
        }
      ]
    },
    {
      "cell_type": "markdown",
      "metadata": {
        "id": "lLZuHZ50uFu_"
      },
      "source": [
        "loop가 list 속에 들어가서 만드는 방법!"
      ]
    },
    {
      "cell_type": "code",
      "metadata": {
        "colab": {
          "base_uri": "https://localhost:8080/"
        },
        "id": "tIT7FvZixkrL",
        "outputId": "4520f1b5-c4c9-496f-c0e9-6b1744ccb9da"
      },
      "source": [
        "a=[\"red\", \"green\", \"blue\", \"purple\"]\r\n",
        "b=[0.2, 0.3, 0.1, 0.4]\r\n",
        "for i, a_ in enumerate(a):\r\n",
        "    print(\"{}:{}%\".format(a_, b[i]*100))"
      ],
      "execution_count": null,
      "outputs": [
        {
          "output_type": "stream",
          "text": [
            "red:20.0%\n",
            "green:30.0%\n",
            "blue:10.0%\n",
            "purple:40.0%\n"
          ],
          "name": "stdout"
        }
      ]
    },
    {
      "cell_type": "code",
      "metadata": {
        "colab": {
          "base_uri": "https://localhost:8080/"
        },
        "id": "ZElkt9YfxFJj",
        "outputId": "7bc23556-9a16-4797-8647-5bd765850a14"
      },
      "source": [
        "a=[\"red\", \"green\", \"blue\", \"purple\"]\r\n",
        "b=[0.2, 0.3, 0.1, 0.4]\r\n",
        "for a_, b_ in zip(a,b):\r\n",
        "    print(\"{}:{}%\".format(a_, b_*100))"
      ],
      "execution_count": null,
      "outputs": [
        {
          "output_type": "stream",
          "text": [
            "red:20.0%\n",
            "green:30.0%\n",
            "blue:10.0%\n",
            "purple:40.0%\n"
          ],
          "name": "stdout"
        }
      ]
    },
    {
      "cell_type": "code",
      "metadata": {
        "id": "JLGUDJt5xcYL"
      },
      "source": [
        ""
      ],
      "execution_count": null,
      "outputs": []
    }
  ]
}