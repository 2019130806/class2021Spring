{
  "nbformat": 4,
  "nbformat_minor": 0,
  "metadata": {
    "colab": {
      "name": "syntax.ipynb",
      "provenance": [],
      "collapsed_sections": [],
      "authorship_tag": "ABX9TyPYenCuF2+s4X0DbLxDEfVj",
      "include_colab_link": true
    },
    "kernelspec": {
      "name": "python3",
      "display_name": "Python 3"
    }
  },
  "cells": [
    {
      "cell_type": "markdown",
      "metadata": {
        "id": "view-in-github",
        "colab_type": "text"
      },
      "source": [
        "<a href=\"https://colab.research.google.com/github/2019130806/class2021Spring/blob/main/syntax.ipynb\" target=\"_parent\"><img src=\"https://colab.research.google.com/assets/colab-badge.svg\" alt=\"Open In Colab\"/></a>"
      ]
    },
    {
      "cell_type": "markdown",
      "metadata": {
        "id": "tqOLS_r8sgc1"
      },
      "source": [
        "여러번 여러개 하고 싶을 때 for 씀"
      ]
    },
    {
      "cell_type": "code",
      "metadata": {
        "colab": {
          "base_uri": "https://localhost:8080/"
        },
        "id": "zCSxrCdKsnK2",
        "outputId": "d410722f-2176-4883-8c0e-77328c6439b2"
      },
      "source": [
        "a=[1,2,3,4]\r\n",
        "for i in a: #문법 for in a: in 앞이랑 다음에 무엇이 와야 할지?\r\n",
        "#in 뒤에 있는 것을 하나식 돌려서 뭔가를 하라..!?\r\n",
        "    print(i) #i가 1을 받고, 그 다음 2 받고, 3 받고, 4 받고.."
      ],
      "execution_count": 4,
      "outputs": [
        {
          "output_type": "stream",
          "text": [
            "1\n",
            "2\n",
            "3\n",
            "4\n"
          ],
          "name": "stdout"
        }
      ]
    },
    {
      "cell_type": "markdown",
      "metadata": {
        "id": "aNhDFkY7urQ-"
      },
      "source": [
        "a에는 1 2 3 4\r\n",
        "in a: a 속에 있는 것을 근하나 하나 처음부터 i에 할당?!"
      ]
    },
    {
      "cell_type": "code",
      "metadata": {
        "colab": {
          "base_uri": "https://localhost:8080/"
        },
        "id": "jOlBYNcOaJ3y",
        "outputId": "8e87766a-6f6d-4afc-9966-d65640d5f183"
      },
      "source": [
        "a=[1,2,3,4] #list\r\n",
        "for i in a: #for 100 print (a)하면 100번동안 a를 print해라 라는 뜻 #print i in a:하면 a처음부터 끝까지 프린트\r\n",
        "    print (i) #a:니까 1 2 3 4"
      ],
      "execution_count": 3,
      "outputs": [
        {
          "output_type": "stream",
          "text": [
            "1\n",
            "2\n",
            "3\n",
            "4\n"
          ],
          "name": "stdout"
        }
      ]
    },
    {
      "cell_type": "code",
      "metadata": {
        "id": "IOExHR_QbDmQ"
      },
      "source": [
        "a=[1,2,3,4]\r\n",
        "for i in range(len(a)): #len은 길이 --> a의 길이는 4\r\n",
        "    print(a[i]) "
      ],
      "execution_count": null,
      "outputs": []
    },
    {
      "cell_type": "code",
      "metadata": {
        "colab": {
          "base_uri": "https://localhost:8080/"
        },
        "id": "jr--5FSBvCcE",
        "outputId": "c11ebbc7-171b-4e49-8477-e4dd9479bf0e"
      },
      "source": [
        "a=[1,2,3,4]\r\n",
        "for i in range(4): #range뒤 숫자 4--> 4개의 index 0부터 시작해서 0, 1, 2, 3\r\n",
        "    print(a[i]) #i가 처음에 0 -> 0번째 것 프린트해라 -> 1"
      ],
      "execution_count": 5,
      "outputs": [
        {
          "output_type": "stream",
          "text": [
            "1\n",
            "2\n",
            "3\n",
            "4\n"
          ],
          "name": "stdout"
        }
      ]
    },
    {
      "cell_type": "code",
      "metadata": {
        "colab": {
          "base_uri": "https://localhost:8080/"
        },
        "id": "TpVkzdrBvUP5",
        "outputId": "87b03b09-d368-4234-c9f7-f8b2af48a41e"
      },
      "source": [
        "a=[1,2,3,4]\r\n",
        "for i in range(len(a)): #len(a)는 4 range 4개를 만듦 -> 0, 1, 2, 3\r\n",
        "    print(a[i]) #a의 0번째, 1번째, 2번째, 3번째"
      ],
      "execution_count": 9,
      "outputs": [
        {
          "output_type": "stream",
          "text": [
            "1\n",
            "2\n",
            "3\n",
            "4\n"
          ],
          "name": "stdout"
        }
      ]
    },
    {
      "cell_type": "code",
      "metadata": {
        "colab": {
          "base_uri": "https://localhost:8080/"
        },
        "id": "bE5GBPQ0vjuU",
        "outputId": "008e4de5-e8ef-4238-9f1a-f316a1b71f15"
      },
      "source": [
        "a=['red', 'gree', 'blue', 'purple']\r\n",
        "for i in a:\r\n",
        "    print(i)"
      ],
      "execution_count": 12,
      "outputs": [
        {
          "output_type": "stream",
          "text": [
            "red\n",
            "gree\n",
            "blue\n",
            "purple\n"
          ],
          "name": "stdout"
        }
      ]
    },
    {
      "cell_type": "code",
      "metadata": {
        "colab": {
          "base_uri": "https://localhost:8080/"
        },
        "id": "riZJ3T_rxqu-",
        "outputId": "2e7c4ea6-a6fa-4520-8042-cc3e7146ccaf"
      },
      "source": [
        "a=['red', 'blue', 'green', 'purple']\r\n",
        "for s in a:\r\n",
        "    print(s) #for loop 4번 돌림/ 매번 돌리면 s variable은 바뀜, 바뀌는 족족 print out 해줌"
      ],
      "execution_count": 17,
      "outputs": [
        {
          "output_type": "stream",
          "text": [
            "red\n",
            "blue\n",
            "green\n",
            "purple\n"
          ],
          "name": "stdout"
        }
      ]
    },
    {
      "cell_type": "code",
      "metadata": {
        "colab": {
          "base_uri": "https://localhost:8080/"
        },
        "id": "EgrlSs5sw0LF",
        "outputId": "148df8ed-4011-4006-83c4-6c469cb1a238"
      },
      "source": [
        "a=['red', 'green', 'blue', 'purple']\r\n",
        "for i in range(len(a)):\r\n",
        "    print(a[i]) #for loop안에 들어있다는 차원에서 안 쪽으로 들어가야 함!"
      ],
      "execution_count": 13,
      "outputs": [
        {
          "output_type": "stream",
          "text": [
            "red\n",
            "green\n",
            "blue\n",
            "purple\n"
          ],
          "name": "stdout"
        }
      ]
    },
    {
      "cell_type": "code",
      "metadata": {
        "colab": {
          "base_uri": "https://localhost:8080/"
        },
        "id": "uMvyH1anyP1j",
        "outputId": "d14a45e3-cabb-432e-87f9-5c0895c12d5d"
      },
      "source": [
        "a=['red', 'green', 'blue', 'purple']\r\n",
        "for s in range(len(a)):\r\n",
        "    print(a[s])"
      ],
      "execution_count": 19,
      "outputs": [
        {
          "output_type": "stream",
          "text": [
            "red\n",
            "green\n",
            "blue\n",
            "purple\n"
          ],
          "name": "stdout"
        }
      ]
    },
    {
      "cell_type": "markdown",
      "metadata": {
        "id": "JxTxEbeCyiRu"
      },
      "source": [
        "여기부턴 3월 15일에 안 함.<br>\r\n",
        "목요일에 마저 수업나가면 이어서 다시 해보도록 하겠습니다. ㅎㅎ"
      ]
    },
    {
      "cell_type": "code",
      "metadata": {
        "colab": {
          "base_uri": "https://localhost:8080/"
        },
        "id": "tIT7FvZixkrL",
        "outputId": "4520f1b5-c4c9-496f-c0e9-6b1744ccb9da"
      },
      "source": [
        "a=[\"red\", \"green\", \"blue\", \"purple\"]\r\n",
        "b=[0.2, 0.3, 0.1, 0.4]\r\n",
        "for i, a_ in enumerate(a):\r\n",
        "    print(\"{}:{}%\".format(a_, b[i]*100))"
      ],
      "execution_count": 18,
      "outputs": [
        {
          "output_type": "stream",
          "text": [
            "red:20.0%\n",
            "green:30.0%\n",
            "blue:10.0%\n",
            "purple:40.0%\n"
          ],
          "name": "stdout"
        }
      ]
    },
    {
      "cell_type": "code",
      "metadata": {
        "colab": {
          "base_uri": "https://localhost:8080/"
        },
        "id": "ZElkt9YfxFJj",
        "outputId": "7bc23556-9a16-4797-8647-5bd765850a14"
      },
      "source": [
        "a=[\"red\", \"green\", \"blue\", \"purple\"]\r\n",
        "b=[0.2, 0.3, 0.1, 0.4]\r\n",
        "for a_, b_ in zip(a,b):\r\n",
        "    print(\"{}:{}%\".format(a_, b_*100))"
      ],
      "execution_count": 16,
      "outputs": [
        {
          "output_type": "stream",
          "text": [
            "red:20.0%\n",
            "green:30.0%\n",
            "blue:10.0%\n",
            "purple:40.0%\n"
          ],
          "name": "stdout"
        }
      ]
    },
    {
      "cell_type": "code",
      "metadata": {
        "id": "JLGUDJt5xcYL"
      },
      "source": [
        ""
      ],
      "execution_count": null,
      "outputs": []
    }
  ]
}