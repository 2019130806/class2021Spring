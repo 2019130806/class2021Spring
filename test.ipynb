{
  "nbformat": 4,
  "nbformat_minor": 0,
  "metadata": {
    "colab": {
      "name": "test.ipynb",
      "provenance": [],
      "authorship_tag": "ABX9TyPPeAUh1b3Zg22jufDc4lwm",
      "include_colab_link": true
    },
    "kernelspec": {
      "name": "python3",
      "display_name": "Python 3"
    }
  },
  "cells": [
    {
      "cell_type": "markdown",
      "metadata": {
        "id": "view-in-github",
        "colab_type": "text"
      },
      "source": [
        "<a href=\"https://colab.research.google.com/github/2019130806/class2021Spring/blob/main/test.ipynb\" target=\"_parent\"><img src=\"https://colab.research.google.com/assets/colab-badge.svg\" alt=\"Open In Colab\"/></a>"
      ]
    },
    {
      "cell_type": "code",
      "metadata": {
        "colab": {
          "base_uri": "https://localhost:8080/"
        },
        "id": "11K8fThmVuq1",
        "outputId": "d0d489a2-17f8-428c-de0f-05a90b43f13a"
      },
      "source": [
        "a=1\r\n",
        "b=1\r\n",
        "c=a+b\r\n",
        "c"
      ],
      "execution_count": null,
      "outputs": [
        {
          "output_type": "execute_result",
          "data": {
            "text/plain": [
              "2"
            ]
          },
          "metadata": {
            "tags": []
          },
          "execution_count": 8
        }
      ]
    },
    {
      "cell_type": "markdown",
      "metadata": {
        "id": "u5Ot-Z7iWBJ-"
      },
      "source": [
        "##우리는 파이썬을 배우게 됩니다."
      ]
    },
    {
      "cell_type": "markdown",
      "metadata": {
        "id": "-qdQydi9WMIR"
      },
      "source": [
        "#파이썬을 어디서 배우나요?\r\n",
        "###Jump to python"
      ]
    },
    {
      "cell_type": "markdown",
      "metadata": {
        "id": "LM88UFvEa96A"
      },
      "source": [
        "#샵 하나는 크게\r\n",
        "###샵 세개는 작게\r\n",
        "##샵 두개는?\r\n",
        "샵 없이는?\r\n",
        "\r\n",
        "결국 다 크게\r\n",
        "#샵 하나\r\n",
        "##샵 두개\r\n",
        "###샵 세개\r\n",
        "샵 없개\r\n",
        "\r\n",
        "python 빼고는 개발용 (앱, 웹)\r\n",
        "\r\n",
        "\r\n",
        "*안녕하세요 이탤릭체입니다 앞 뒤로 별 하나씩*\r\n",
        "\r\n",
        "**안녕하세요 볼드체입니다 앞 뒤로 별 두개씩**\r\n",
        "\r\n",
        "재밌네요\r\n",
        "\r\n"
      ]
    }
  ]
}