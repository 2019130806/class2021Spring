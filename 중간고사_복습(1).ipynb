{
  "nbformat": 4,
  "nbformat_minor": 0,
  "metadata": {
    "colab": {
      "name": "중간고사 복습(1).ipynb",
      "provenance": [],
      "collapsed_sections": [],
      "authorship_tag": "ABX9TyM3epjYLwuTa6SefgGsRx1O",
      "include_colab_link": true
    },
    "kernelspec": {
      "name": "python3",
      "display_name": "Python 3"
    },
    "language_info": {
      "name": "python"
    }
  },
  "cells": [
    {
      "cell_type": "markdown",
      "metadata": {
        "id": "view-in-github",
        "colab_type": "text"
      },
      "source": [
        "<a href=\"https://colab.research.google.com/github/2019130806/class2021Spring/blob/main/%EC%A4%91%EA%B0%84%EA%B3%A0%EC%82%AC_%EB%B3%B5%EC%8A%B5(1).ipynb\" target=\"_parent\"><img src=\"https://colab.research.google.com/assets/colab-badge.svg\" alt=\"Open In Colab\"/></a>"
      ]
    },
    {
      "cell_type": "code",
      "metadata": {
        "colab": {
          "base_uri": "https://localhost:8080/"
        },
        "id": "2TpQpiNRjSKb",
        "outputId": "653d4735-9e4e-4f00-d14c-ff64ef95dbae"
      },
      "source": [
        "a= {\"a\": \"apple\", \"b\": \"boy\", \"c\":2019, \"d\":'2018', 'g':'goal'}\n",
        "d=a[\"b\"]\n",
        "print(type(d))\n",
        "e=a[\"c\"]\n",
        "print(type(e))\n",
        "f=a[\"d\"]\n",
        "print(type(f))\n",
        "print(type(a['g']))"
      ],
      "execution_count": 12,
      "outputs": [
        {
          "output_type": "stream",
          "text": [
            "<class 'str'>\n",
            "<class 'int'>\n",
            "<class 'str'>\n",
            "<class 'str'>\n"
          ],
          "name": "stdout"
        }
      ]
    },
    {
      "cell_type": "code",
      "metadata": {
        "colab": {
          "base_uri": "https://localhost:8080/"
        },
        "id": "76NUlpXgjRSJ",
        "outputId": "32ff271d-f1be-46c3-eea8-ea7f619d7b21"
      },
      "source": [
        "a=[(1,2,3), (4,5,6)]\n",
        "print(a[0])\n",
        "print(a[1])\n",
        "print(type(a[0]))\n",
        "print(type(a))"
      ],
      "execution_count": 16,
      "outputs": [
        {
          "output_type": "stream",
          "text": [
            "(1, 2, 3)\n",
            "(4, 5, 6)\n",
            "<class 'tuple'>\n",
            "<class 'list'>\n"
          ],
          "name": "stdout"
        }
      ]
    },
    {
      "cell_type": "code",
      "metadata": {
        "colab": {
          "base_uri": "https://localhost:8080/"
        },
        "id": "ea2pVakYntny",
        "outputId": "80be2283-9b43-409b-c544-8e2a9143060a"
      },
      "source": [
        "s='this is a house built this year this time.'\n",
        "result=s.find('this')\n",
        "result"
      ],
      "execution_count": 19,
      "outputs": [
        {
          "output_type": "execute_result",
          "data": {
            "text/plain": [
              "0"
            ]
          },
          "metadata": {
            "tags": []
          },
          "execution_count": 19
        }
      ]
    },
    {
      "cell_type": "code",
      "metadata": {
        "colab": {
          "base_uri": "https://localhost:8080/"
        },
        "id": "k4uUe0nXphXD",
        "outputId": "15cf04ee-8d9e-464c-d4fa-8b7703c7bdee"
      },
      "source": [
        "result=s.rindex('this')\n",
        "result"
      ],
      "execution_count": 20,
      "outputs": [
        {
          "output_type": "execute_result",
          "data": {
            "text/plain": [
              "32"
            ]
          },
          "metadata": {
            "tags": []
          },
          "execution_count": 20
        }
      ]
    },
    {
      "cell_type": "code",
      "metadata": {
        "colab": {
          "base_uri": "https://localhost:8080/"
        },
        "id": "FYsOYNuYpqwe",
        "outputId": "2f353bdd-a873-42eb-f312-4ed354d36f27"
      },
      "source": [
        "tokens=s.split('s')\n",
        "tokens"
      ],
      "execution_count": 21,
      "outputs": [
        {
          "output_type": "execute_result",
          "data": {
            "text/plain": [
              "['thi', ' i', ' a hou', 'e built thi', ' year thi', ' time.']"
            ]
          },
          "metadata": {
            "tags": []
          },
          "execution_count": 21
        }
      ]
    },
    {
      "cell_type": "code",
      "metadata": {
        "colab": {
          "base_uri": "https://localhost:8080/",
          "height": 36
        },
        "id": "j138c8IEp3bv",
        "outputId": "0f71205c-91e0-4691-874e-a0d6027bcead"
      },
      "source": [
        "s='p'.join(tokens)\n",
        "s"
      ],
      "execution_count": 22,
      "outputs": [
        {
          "output_type": "execute_result",
          "data": {
            "application/vnd.google.colaboratory.intrinsic+json": {
              "type": "string"
            },
            "text/plain": [
              "'thip ip a houpe built thip year thip time.'"
            ]
          },
          "metadata": {
            "tags": []
          },
          "execution_count": 22
        }
      ]
    },
    {
      "cell_type": "code",
      "metadata": {
        "colab": {
          "base_uri": "https://localhost:8080/",
          "height": 36
        },
        "id": "9CjE4sjZqAXj",
        "outputId": "a506d4f8-6738-4fc0-e709-3b066277133f"
      },
      "source": [
        "s=s.replace('p', 's')\n",
        "s"
      ],
      "execution_count": 23,
      "outputs": [
        {
          "output_type": "execute_result",
          "data": {
            "application/vnd.google.colaboratory.intrinsic+json": {
              "type": "string"
            },
            "text/plain": [
              "'this is a house built this year this time.'"
            ]
          },
          "metadata": {
            "tags": []
          },
          "execution_count": 23
        }
      ]
    },
    {
      "cell_type": "code",
      "metadata": {
        "colab": {
          "base_uri": "https://localhost:8080/"
        },
        "id": "GXnSIdwgqUIF",
        "outputId": "bc219aae-92c6-4725-e9e8-0e180cfa54b5"
      },
      "source": [
        "def add(a,b):\n",
        "  return a+b\n",
        "\n",
        "result= add(3,4)\n",
        "result"
      ],
      "execution_count": 24,
      "outputs": [
        {
          "output_type": "execute_result",
          "data": {
            "text/plain": [
              "7"
            ]
          },
          "metadata": {
            "tags": []
          },
          "execution_count": 24
        }
      ]
    },
    {
      "cell_type": "code",
      "metadata": {
        "colab": {
          "base_uri": "https://localhost:8080/"
        },
        "id": "WiMu1K0PtzUx",
        "outputId": "cab9f144-9250-48f3-9769-0c066cbb8e58"
      },
      "source": [
        "def multiply (a,b):\n",
        "  return a*b\n",
        "\n",
        "def subtraction (a,b):\n",
        "  return a-b\n",
        "\n",
        "def divide (a,b):\n",
        "  return a/b\n",
        "\n",
        "k=divide(9,3)\n",
        "q=subtraction(9,3)\n",
        "m=multiply(9,3)\n",
        "d=add(9,3)\n",
        "print(k)\n",
        "print(q)\n",
        "print(m)\n",
        "print(d)\n",
        "print(type(k))"
      ],
      "execution_count": 31,
      "outputs": [
        {
          "output_type": "stream",
          "text": [
            "3.0\n",
            "6\n",
            "27\n",
            "12\n",
            "<class 'float'>\n"
          ],
          "name": "stdout"
        }
      ]
    },
    {
      "cell_type": "code",
      "metadata": {
        "colab": {
          "base_uri": "https://localhost:8080/"
        },
        "id": "fouLhCPguPey",
        "outputId": "db3f8324-b1c7-4b91-f738-4adcbf599678"
      },
      "source": [
        "def function1(x,a,b):\n",
        "  return a*x+b\n",
        "\n",
        "def function2(x,a,b,c):\n",
        "  return a*x**2+b*x+c\n",
        "\n",
        "l=function2(3,4,5,6)\n",
        "print(l)\n",
        "o=function1(1,2,3)\n",
        "print(o)\n",
        "print(type(o))"
      ],
      "execution_count": 30,
      "outputs": [
        {
          "output_type": "stream",
          "text": [
            "57\n",
            "5\n",
            "<class 'int'>\n"
          ],
          "name": "stdout"
        }
      ]
    },
    {
      "cell_type": "code",
      "metadata": {
        "id": "iZjrYsNPung3"
      },
      "source": [
        "from matplotlib.pyplot import hist"
      ],
      "execution_count": 33,
      "outputs": []
    },
    {
      "cell_type": "code",
      "metadata": {
        "id": "DN-mYEC4xuSc"
      },
      "source": [
        "import matplotlib.pyplot"
      ],
      "execution_count": 35,
      "outputs": []
    },
    {
      "cell_type": "code",
      "metadata": {
        "colab": {
          "base_uri": "https://localhost:8080/",
          "height": 139
        },
        "id": "1i9QSxvSx7v2",
        "outputId": "42f5fbb4-dce6-459e-806d-a4f0467f20a7"
      },
      "source": [
        "from matplotlip import pyplot.hist\n",
        "import matplotlib.pyplot.hist"
      ],
      "execution_count": 36,
      "outputs": [
        {
          "output_type": "error",
          "ename": "SyntaxError",
          "evalue": "ignored",
          "traceback": [
            "\u001b[0;36m  File \u001b[0;32m\"<ipython-input-36-d1ae9f5468ea>\"\u001b[0;36m, line \u001b[0;32m1\u001b[0m\n\u001b[0;31m    from matplotlip import pyplot.hist\u001b[0m\n\u001b[0m                                 ^\u001b[0m\n\u001b[0;31mSyntaxError\u001b[0m\u001b[0;31m:\u001b[0m invalid syntax\n"
          ]
        }
      ]
    },
    {
      "cell_type": "code",
      "metadata": {
        "id": "34Ff6V5byPEs"
      },
      "source": [
        "class cal:\n",
        "  def __init__(self):\n",
        "    self.result=0\n",
        "  def add(self,n):\n",
        "    self.result +=n\n",
        "    return self.result"
      ],
      "execution_count": 37,
      "outputs": []
    },
    {
      "cell_type": "code",
      "metadata": {
        "id": "NiH4f9OHyjrB"
      },
      "source": [
        "from matplotlib.pyplot import hist"
      ],
      "execution_count": 38,
      "outputs": []
    },
    {
      "cell_type": "code",
      "metadata": {
        "id": "erRnEnxF1Ul6"
      },
      "source": [
        "import matplotlib.pyplot as plt\n",
        "from matplotlib import pyplot"
      ],
      "execution_count": 40,
      "outputs": []
    },
    {
      "cell_type": "code",
      "metadata": {
        "id": "nNWMDPkO1cbT"
      },
      "source": [
        "import matplotlib.pyplot"
      ],
      "execution_count": 42,
      "outputs": []
    },
    {
      "cell_type": "code",
      "metadata": {
        "id": "I6V1acye1haw"
      },
      "source": [
        "import numpy as np"
      ],
      "execution_count": 45,
      "outputs": []
    },
    {
      "cell_type": "code",
      "metadata": {
        "colab": {
          "base_uri": "https://localhost:8080/"
        },
        "id": "qGfeNfS11ohg",
        "outputId": "f5ca2227-0854-4499-e6cc-73200db7356f"
      },
      "source": [
        "result=np.arange(0,10,2, dtype='float64')\n",
        "print(result)\n",
        "print(type(result))"
      ],
      "execution_count": 47,
      "outputs": [
        {
          "output_type": "stream",
          "text": [
            "[0. 2. 4. 6. 8.]\n",
            "<class 'numpy.ndarray'>\n"
          ],
          "name": "stdout"
        }
      ]
    },
    {
      "cell_type": "code",
      "metadata": {
        "colab": {
          "base_uri": "https://localhost:8080/"
        },
        "id": "Yy1UO8hq9YYi",
        "outputId": "dca951cc-4cc1-4cd7-e67c-ac5b106e4e0c"
      },
      "source": [
        "np.arange(0,10,2, dtype='float64')"
      ],
      "execution_count": 48,
      "outputs": [
        {
          "output_type": "execute_result",
          "data": {
            "text/plain": [
              "array([0., 2., 4., 6., 8.])"
            ]
          },
          "metadata": {
            "tags": []
          },
          "execution_count": 48
        }
      ]
    },
    {
      "cell_type": "code",
      "metadata": {
        "colab": {
          "base_uri": "https://localhost:8080/"
        },
        "id": "AzGmCHxh9foz",
        "outputId": "cbffd96b-60e9-4235-8740-36e2a405b2d7"
      },
      "source": [
        "s=np.linspace(0,10,6, dtype='int')\n",
        "s"
      ],
      "execution_count": 51,
      "outputs": [
        {
          "output_type": "execute_result",
          "data": {
            "text/plain": [
              "array([ 0,  2,  4,  6,  8, 10])"
            ]
          },
          "metadata": {
            "tags": []
          },
          "execution_count": 51
        }
      ]
    },
    {
      "cell_type": "code",
      "metadata": {
        "colab": {
          "base_uri": "https://localhost:8080/"
        },
        "id": "QgG8uCnr9tLW",
        "outputId": "b05b1678-2e5e-43ae-b089-c59703a6f8c7"
      },
      "source": [
        "print(type(s))"
      ],
      "execution_count": 52,
      "outputs": [
        {
          "output_type": "stream",
          "text": [
            "<class 'numpy.ndarray'>\n"
          ],
          "name": "stdout"
        }
      ]
    },
    {
      "cell_type": "code",
      "metadata": {
        "colab": {
          "base_uri": "https://localhost:8080/"
        },
        "id": "cgl404eF9zsY",
        "outputId": "606c7f1e-f60c-4c2b-b8da-bd320803bb04"
      },
      "source": [
        "x=np.array([[1,2,3], [4,5,6]])\n",
        "x"
      ],
      "execution_count": 54,
      "outputs": [
        {
          "output_type": "execute_result",
          "data": {
            "text/plain": [
              "array([[1, 2, 3],\n",
              "       [4, 5, 6]])"
            ]
          },
          "metadata": {
            "tags": []
          },
          "execution_count": 54
        }
      ]
    },
    {
      "cell_type": "code",
      "metadata": {
        "colab": {
          "base_uri": "https://localhost:8080/"
        },
        "id": "ny6nEZ1Y-BS-",
        "outputId": "bbb43ca8-3fb6-49be-823f-ed8960691436"
      },
      "source": [
        "x.astype(np.float)"
      ],
      "execution_count": 55,
      "outputs": [
        {
          "output_type": "execute_result",
          "data": {
            "text/plain": [
              "array([[1., 2., 3.],\n",
              "       [4., 5., 6.]])"
            ]
          },
          "metadata": {
            "tags": []
          },
          "execution_count": 55
        }
      ]
    },
    {
      "cell_type": "code",
      "metadata": {
        "colab": {
          "base_uri": "https://localhost:8080/"
        },
        "id": "4ba8rA_m-F6o",
        "outputId": "55679a5c-d409-4cb3-80b5-e859878b0b65"
      },
      "source": [
        "np.zeros_like(x)"
      ],
      "execution_count": 56,
      "outputs": [
        {
          "output_type": "execute_result",
          "data": {
            "text/plain": [
              "array([[0, 0, 0],\n",
              "       [0, 0, 0]])"
            ]
          },
          "metadata": {
            "tags": []
          },
          "execution_count": 56
        }
      ]
    },
    {
      "cell_type": "code",
      "metadata": {
        "colab": {
          "base_uri": "https://localhost:8080/"
        },
        "id": "CyOzTNsE-H45",
        "outputId": "f78de124-457a-4495-9c16-da8ac6042c04"
      },
      "source": [
        "y=np.array([[1,2], [3,4,], [5,6]])\n",
        "y"
      ],
      "execution_count": 57,
      "outputs": [
        {
          "output_type": "execute_result",
          "data": {
            "text/plain": [
              "array([[1, 2],\n",
              "       [3, 4],\n",
              "       [5, 6]])"
            ]
          },
          "metadata": {
            "tags": []
          },
          "execution_count": 57
        }
      ]
    },
    {
      "cell_type": "code",
      "metadata": {
        "colab": {
          "base_uri": "https://localhost:8080/"
        },
        "id": "FEVIE5x7-SM1",
        "outputId": "6de01858-02dc-4de8-a87f-bcaf39e78dcf"
      },
      "source": [
        "y.astype(np.float)"
      ],
      "execution_count": 58,
      "outputs": [
        {
          "output_type": "execute_result",
          "data": {
            "text/plain": [
              "array([[1., 2.],\n",
              "       [3., 4.],\n",
              "       [5., 6.]])"
            ]
          },
          "metadata": {
            "tags": []
          },
          "execution_count": 58
        }
      ]
    },
    {
      "cell_type": "code",
      "metadata": {
        "colab": {
          "base_uri": "https://localhost:8080/"
        },
        "id": "op9zfCsG-Vk7",
        "outputId": "2788778a-ab89-4e24-eabe-0aa0bd78997e"
      },
      "source": [
        "np.empty_like(y)"
      ],
      "execution_count": 59,
      "outputs": [
        {
          "output_type": "execute_result",
          "data": {
            "text/plain": [
              "array([[4607182418800017408, 4611686018427387904],\n",
              "       [4613937818241073152, 4616189618054758400],\n",
              "       [4617315517961601024, 4618441417868443648]])"
            ]
          },
          "metadata": {
            "tags": []
          },
          "execution_count": 59
        }
      ]
    },
    {
      "cell_type": "code",
      "metadata": {
        "colab": {
          "base_uri": "https://localhost:8080/"
        },
        "id": "JVgTUs5_-YR6",
        "outputId": "b5a8ac8e-1bf3-4eda-be83-4dc7e5b54899"
      },
      "source": [
        "np.zeros_like(y)"
      ],
      "execution_count": 60,
      "outputs": [
        {
          "output_type": "execute_result",
          "data": {
            "text/plain": [
              "array([[0, 0],\n",
              "       [0, 0],\n",
              "       [0, 0]])"
            ]
          },
          "metadata": {
            "tags": []
          },
          "execution_count": 60
        }
      ]
    },
    {
      "cell_type": "code",
      "metadata": {
        "colab": {
          "base_uri": "https://localhost:8080/"
        },
        "id": "mN7TjaJP-aJQ",
        "outputId": "bd8392fe-5581-457c-ae0d-cdbdb9d6bc2b"
      },
      "source": [
        "data=np.random.normal(0,1, 50)\n",
        "data"
      ],
      "execution_count": 63,
      "outputs": [
        {
          "output_type": "execute_result",
          "data": {
            "text/plain": [
              "array([ 3.74303147e-02, -6.00714075e-02, -1.26075722e+00,  1.27760136e-01,\n",
              "        1.63620795e+00,  1.28836811e+00,  8.83552479e-01,  5.99374765e-01,\n",
              "        8.87227000e-01, -2.41092416e+00,  1.24176607e+00, -3.31995025e-01,\n",
              "        7.83092480e-01, -5.91894840e-01,  5.10866907e-01,  1.19501942e+00,\n",
              "        2.41046103e-01, -6.31803077e-01, -1.85346421e+00, -9.60938264e-01,\n",
              "       -7.26795306e-01, -1.01929159e+00, -4.22049674e-01,  2.93665589e+00,\n",
              "       -6.55291148e-01,  3.83751615e-01, -2.02660702e+00, -1.16508543e-01,\n",
              "       -7.34711023e-01, -4.59470789e-01,  9.41096114e-01, -9.60644837e-01,\n",
              "        4.26403193e-01, -3.08575796e-01, -4.80124784e-01, -7.74187732e-01,\n",
              "        7.33943829e-01,  8.87868933e-01, -7.42397953e-01, -3.28973376e-01,\n",
              "       -1.24226631e-03, -1.42816859e+00, -3.49041280e-01,  9.05189803e-01,\n",
              "        2.85975773e-01,  7.99362511e-01,  1.28649704e+00,  3.61481675e-01,\n",
              "       -8.74506515e-01,  1.47006290e+00])"
            ]
          },
          "metadata": {
            "tags": []
          },
          "execution_count": 63
        }
      ]
    },
    {
      "cell_type": "code",
      "metadata": {
        "colab": {
          "base_uri": "https://localhost:8080/",
          "height": 359
        },
        "id": "efomNN6A_GXv",
        "outputId": "f8cd0115-fa3f-495d-fe2b-9ca9ebec2e9c"
      },
      "source": [
        "plt.hist(data,bins=10)"
      ],
      "execution_count": 64,
      "outputs": [
        {
          "output_type": "execute_result",
          "data": {
            "text/plain": [
              "(array([ 2.,  2.,  5., 14.,  6.,  8., 10.,  2.,  0.,  1.]),\n",
              " array([-2.41092416, -1.87616615, -1.34140815, -0.80665014, -0.27189214,\n",
              "         0.26286587,  0.79762387,  1.33238188,  1.86713988,  2.40189789,\n",
              "         2.93665589]),\n",
              " <a list of 10 Patch objects>)"
            ]
          },
          "metadata": {
            "tags": []
          },
          "execution_count": 64
        },
        {
          "output_type": "display_data",
          "data": {
            "image/png": "[encoded data removed]",
            "text/plain": [
              "<Figure size 432x288 with 1 Axes>"
            ]
          },
          "metadata": {
            "tags": [],
            "needs_background": "light"
          }
        }
      ]
    },
    {
      "cell_type": "code",
      "metadata": {
        "colab": {
          "base_uri": "https://localhost:8080/",
          "height": 545
        },
        "id": "muhhXV-M_S8j",
        "outputId": "ae43b41d-9dc1-458c-c5c6-d379d4257e95"
      },
      "source": [
        "plt.hist(data,bins=50)"
      ],
      "execution_count": 65,
      "outputs": [
        {
          "output_type": "execute_result",
          "data": {
            "text/plain": [
              "(array([1., 0., 0., 1., 0., 1., 0., 0., 0., 1., 1., 0., 0., 3., 1., 4., 2.,\n",
              "        1., 3., 4., 0., 2., 2., 1., 1., 2., 2., 1., 1., 2., 4., 2., 0., 1.,\n",
              "        3., 0., 1., 1., 0., 0., 0., 0., 0., 0., 0., 0., 0., 0., 0., 1.]),\n",
              " array([-2.41092416, -2.30397256, -2.19702096, -2.09006936, -1.98311776,\n",
              "        -1.87616615, -1.76921455, -1.66226295, -1.55531135, -1.44835975,\n",
              "        -1.34140815, -1.23445655, -1.12750495, -1.02055335, -0.91360174,\n",
              "        -0.80665014, -0.69969854, -0.59274694, -0.48579534, -0.37884374,\n",
              "        -0.27189214, -0.16494054, -0.05798894,  0.04896266,  0.15591427,\n",
              "         0.26286587,  0.36981747,  0.47676907,  0.58372067,  0.69067227,\n",
              "         0.79762387,  0.90457547,  1.01152707,  1.11847868,  1.22543028,\n",
              "         1.33238188,  1.43933348,  1.54628508,  1.65323668,  1.76018828,\n",
              "         1.86713988,  1.97409148,  2.08104308,  2.18799469,  2.29494629,\n",
              "         2.40189789,  2.50884949,  2.61580109,  2.72275269,  2.82970429,\n",
              "         2.93665589]),\n",
              " <a list of 50 Patch objects>)"
            ]
          },
          "metadata": {
            "tags": []
          },
          "execution_count": 65
        },
        {
          "output_type": "display_data",
          "data": {
            "image/png": "[encoded data removed]",
            "text/plain": [
              "<Figure size 432x288 with 1 Axes>"
            ]
          },
          "metadata": {
            "tags": [],
            "needs_background": "light"
          }
        }
      ]
    },
    {
      "cell_type": "code",
      "metadata": {
        "colab": {
          "base_uri": "https://localhost:8080/"
        },
        "id": "FqSOPSYY_WOU",
        "outputId": "c60de470-b8c2-42fc-8dcc-7f529c00d553"
      },
      "source": [
        "np.random.randn(10)"
      ],
      "execution_count": 66,
      "outputs": [
        {
          "output_type": "execute_result",
          "data": {
            "text/plain": [
              "array([-0.10597143,  1.1942494 ,  0.00727171,  0.10685785, -0.567721  ,\n",
              "        1.50686915,  1.50622392,  0.17676769, -0.45048688,  0.14633623])"
            ]
          },
          "metadata": {
            "tags": []
          },
          "execution_count": 66
        }
      ]
    },
    {
      "cell_type": "code",
      "metadata": {
        "colab": {
          "base_uri": "https://localhost:8080/"
        },
        "id": "JAZXVx3MMq2Z",
        "outputId": "addfb0f3-72c7-4555-aba5-454d676a689b"
      },
      "source": [
        "x=np.ones([2,3])\n",
        "x"
      ],
      "execution_count": 70,
      "outputs": [
        {
          "output_type": "execute_result",
          "data": {
            "text/plain": [
              "array([[1., 1., 1.],\n",
              "       [1., 1., 1.]])"
            ]
          },
          "metadata": {
            "tags": []
          },
          "execution_count": 70
        }
      ]
    },
    {
      "cell_type": "code",
      "metadata": {
        "colab": {
          "base_uri": "https://localhost:8080/"
        },
        "id": "BXp5Vb1zPK2n",
        "outputId": "2e74a91b-9825-449b-a176-208f253b18df"
      },
      "source": [
        "a=np.ones([2,3,4])\n",
        "a"
      ],
      "execution_count": 72,
      "outputs": [
        {
          "output_type": "execute_result",
          "data": {
            "text/plain": [
              "array([[[1., 1., 1., 1.],\n",
              "        [1., 1., 1., 1.],\n",
              "        [1., 1., 1., 1.]],\n",
              "\n",
              "       [[1., 1., 1., 1.],\n",
              "        [1., 1., 1., 1.],\n",
              "        [1., 1., 1., 1.]]])"
            ]
          },
          "metadata": {
            "tags": []
          },
          "execution_count": 72
        }
      ]
    },
    {
      "cell_type": "code",
      "metadata": {
        "colab": {
          "base_uri": "https://localhost:8080/"
        },
        "id": "2Zf-H4DGPSc7",
        "outputId": "4eee6d46-5e5c-49de-e3df-72bdc618d3d2"
      },
      "source": [
        "a. reshape([-1,2,2])"
      ],
      "execution_count": 73,
      "outputs": [
        {
          "output_type": "execute_result",
          "data": {
            "text/plain": [
              "array([[[1., 1.],\n",
              "        [1., 1.]],\n",
              "\n",
              "       [[1., 1.],\n",
              "        [1., 1.]],\n",
              "\n",
              "       [[1., 1.],\n",
              "        [1., 1.]],\n",
              "\n",
              "       [[1., 1.],\n",
              "        [1., 1.]],\n",
              "\n",
              "       [[1., 1.],\n",
              "        [1., 1.]],\n",
              "\n",
              "       [[1., 1.],\n",
              "        [1., 1.]]])"
            ]
          },
          "metadata": {
            "tags": []
          },
          "execution_count": 73
        }
      ]
    },
    {
      "cell_type": "code",
      "metadata": {
        "colab": {
          "base_uri": "https://localhost:8080/"
        },
        "id": "SJlbCx4uP7QP",
        "outputId": "0af7c9e1-4e3b-4a03-a7e4-ffe5d2e3dbe8"
      },
      "source": [
        "a=np.random.random(10) #마이너스 없음, 0과 1사이\n",
        "a"
      ],
      "execution_count": 79,
      "outputs": [
        {
          "output_type": "execute_result",
          "data": {
            "text/plain": [
              "array([0.13179012, 0.94355115, 0.54460686, 0.54800235, 0.32364445,\n",
              "       0.95105483, 0.95015827, 0.06860534, 0.32660988, 0.36418819])"
            ]
          },
          "metadata": {
            "tags": []
          },
          "execution_count": 79
        }
      ]
    },
    {
      "cell_type": "code",
      "metadata": {
        "colab": {
          "base_uri": "https://localhost:8080/"
        },
        "id": "chc9qw0uQiFw",
        "outputId": "ba143344-f140-4678-9607-727712089ac4"
      },
      "source": [
        "c=np.random.randn(10)\n",
        "c"
      ],
      "execution_count": 81,
      "outputs": [
        {
          "output_type": "execute_result",
          "data": {
            "text/plain": [
              "array([-1.13250787, -1.31328251, -2.20829491, -0.69726137,  0.91299011,\n",
              "        0.1920291 , -0.61151725,  0.03652202,  0.75065764,  0.01023967])"
            ]
          },
          "metadata": {
            "tags": []
          },
          "execution_count": 81
        }
      ]
    },
    {
      "cell_type": "code",
      "metadata": {
        "colab": {
          "base_uri": "https://localhost:8080/"
        },
        "id": "d3MPfREJPYgc",
        "outputId": "d944c9ef-3d2e-407c-ff00-81d4f244e81c"
      },
      "source": [
        "a.reshape([6,4])"
      ],
      "execution_count": 74,
      "outputs": [
        {
          "output_type": "execute_result",
          "data": {
            "text/plain": [
              "array([[1., 1., 1., 1.],\n",
              "       [1., 1., 1., 1.],\n",
              "       [1., 1., 1., 1.],\n",
              "       [1., 1., 1., 1.],\n",
              "       [1., 1., 1., 1.],\n",
              "       [1., 1., 1., 1.]])"
            ]
          },
          "metadata": {
            "tags": []
          },
          "execution_count": 74
        }
      ]
    },
    {
      "cell_type": "code",
      "metadata": {
        "colab": {
          "base_uri": "https://localhost:8080/"
        },
        "id": "EwKh-RN3PjYb",
        "outputId": "314baffb-3ad1-408b-f36e-c3fcdc9d041d"
      },
      "source": [
        "a.reshape(3,8)"
      ],
      "execution_count": 75,
      "outputs": [
        {
          "output_type": "execute_result",
          "data": {
            "text/plain": [
              "array([[1., 1., 1., 1., 1., 1., 1., 1.],\n",
              "       [1., 1., 1., 1., 1., 1., 1., 1.],\n",
              "       [1., 1., 1., 1., 1., 1., 1., 1.]])"
            ]
          },
          "metadata": {
            "tags": []
          },
          "execution_count": 75
        }
      ]
    },
    {
      "cell_type": "code",
      "metadata": {
        "colab": {
          "base_uri": "https://localhost:8080/"
        },
        "id": "xPkTZhOyPn8r",
        "outputId": "c0364a59-a320-44bd-cb34-ef06b70c2a22"
      },
      "source": [
        "ap=np.random.random([5,2,3])\n",
        "ap #--> type: class"
      ],
      "execution_count": 82,
      "outputs": [
        {
          "output_type": "execute_result",
          "data": {
            "text/plain": [
              "array([[[0.46218901, 0.32979927, 0.03145827],\n",
              "        [0.06925503, 0.59370995, 0.19366189]],\n",
              "\n",
              "       [[0.17445925, 0.11016957, 0.71803188],\n",
              "        [0.9615674 , 0.49967849, 0.95990742]],\n",
              "\n",
              "       [[0.6443507 , 0.62160954, 0.04365155],\n",
              "        [0.14137917, 0.64356926, 0.49204738]],\n",
              "\n",
              "       [[0.31210264, 0.76856316, 0.18492653],\n",
              "        [0.48309521, 0.40445602, 0.70623821]],\n",
              "\n",
              "       [[0.65316644, 0.14212243, 0.76848074],\n",
              "        [0.33034217, 0.629988  , 0.70738118]]])"
            ]
          },
          "metadata": {
            "tags": []
          },
          "execution_count": 82
        }
      ]
    },
    {
      "cell_type": "code",
      "metadata": {
        "colab": {
          "base_uri": "https://localhost:8080/"
        },
        "id": "u7odh5_kQrnW",
        "outputId": "a89569ab-d8e7-4e09-9840-25a3267c27b2"
      },
      "source": [
        "arr=np.random.normal(0,1,10)\n",
        "arr"
      ],
      "execution_count": 83,
      "outputs": [
        {
          "output_type": "execute_result",
          "data": {
            "text/plain": [
              "array([-0.7382415 ,  0.98064792,  0.43379232,  0.04493999,  1.59174864,\n",
              "        0.31552271, -2.17341493, -0.47005086, -1.95947259, -1.01444064])"
            ]
          },
          "metadata": {
            "tags": []
          },
          "execution_count": 83
        }
      ]
    },
    {
      "cell_type": "code",
      "metadata": {
        "colab": {
          "base_uri": "https://localhost:8080/",
          "height": 36
        },
        "id": "7eAS3te8Qwzh",
        "outputId": "e56ed64f-5b18-4303-b7bb-a88979f9d12b"
      },
      "source": [
        "a='test'\n",
        "a.upper()"
      ],
      "execution_count": 86,
      "outputs": [
        {
          "output_type": "execute_result",
          "data": {
            "application/vnd.google.colaboratory.intrinsic+json": {
              "type": "string"
            },
            "text/plain": [
              "'TEST'"
            ]
          },
          "metadata": {
            "tags": []
          },
          "execution_count": 86
        }
      ]
    },
    {
      "cell_type": "code",
      "metadata": {
        "colab": {
          "base_uri": "https://localhost:8080/",
          "height": 36
        },
        "id": "mmbLXe3HQ10j",
        "outputId": "2eee8910-5148-481d-b1e8-d8edd8f62acb"
      },
      "source": [
        "b=\"set\"\n",
        "b.upper()"
      ],
      "execution_count": 87,
      "outputs": [
        {
          "output_type": "execute_result",
          "data": {
            "application/vnd.google.colaboratory.intrinsic+json": {
              "type": "string"
            },
            "text/plain": [
              "'SET'"
            ]
          },
          "metadata": {
            "tags": []
          },
          "execution_count": 87
        }
      ]
    },
    {
      "cell_type": "code",
      "metadata": {
        "colab": {
          "base_uri": "https://localhost:8080/",
          "height": 36
        },
        "id": "npYUiPWhRDov",
        "outputId": "95c73d38-0587-49ce-fa3c-8fd1ab016506"
      },
      "source": [
        "c=\"HI\"\n",
        "c.lower()"
      ],
      "execution_count": 88,
      "outputs": [
        {
          "output_type": "execute_result",
          "data": {
            "application/vnd.google.colaboratory.intrinsic+json": {
              "type": "string"
            },
            "text/plain": [
              "'hi'"
            ]
          },
          "metadata": {
            "tags": []
          },
          "execution_count": 88
        }
      ]
    },
    {
      "cell_type": "code",
      "metadata": {
        "colab": {
          "base_uri": "https://localhost:8080/"
        },
        "id": "wUFcojJVRGFh",
        "outputId": "611e852d-c126-48c2-ce51-8b22ac7fd2d3"
      },
      "source": [
        "arr=np.random.random([5,2,3])\n",
        "arr"
      ],
      "execution_count": 89,
      "outputs": [
        {
          "output_type": "execute_result",
          "data": {
            "text/plain": [
              "array([[[0.15613707, 0.65249321, 0.93277548],\n",
              "        [0.52280942, 0.55312664, 0.78370904]],\n",
              "\n",
              "       [[0.44074787, 0.52132952, 0.9252016 ],\n",
              "        [0.03863399, 0.20148548, 0.36934326]],\n",
              "\n",
              "       [[0.68822415, 0.60705121, 0.42181594],\n",
              "        [0.8537754 , 0.75873433, 0.56943615]],\n",
              "\n",
              "       [[0.19242758, 0.90706037, 0.60910802],\n",
              "        [0.40051995, 0.98586469, 0.61071752]],\n",
              "\n",
              "       [[0.13650599, 0.44736607, 0.43779266],\n",
              "        [0.2211554 , 0.47591109, 0.88790134]]])"
            ]
          },
          "metadata": {
            "tags": []
          },
          "execution_count": 89
        }
      ]
    },
    {
      "cell_type": "code",
      "metadata": {
        "colab": {
          "base_uri": "https://localhost:8080/"
        },
        "id": "ds2EAf23RZsY",
        "outputId": "a8c47cf2-6253-46e1-eba5-7b8a041ccf80"
      },
      "source": [
        "(len(arr))"
      ],
      "execution_count": 92,
      "outputs": [
        {
          "output_type": "execute_result",
          "data": {
            "text/plain": [
              "5"
            ]
          },
          "metadata": {
            "tags": []
          },
          "execution_count": 92
        }
      ]
    },
    {
      "cell_type": "code",
      "metadata": {
        "colab": {
          "base_uri": "https://localhost:8080/"
        },
        "id": "DGU-rC42RePy",
        "outputId": "064ee325-77b3-4197-fb9f-cb53365d5fed"
      },
      "source": [
        "print(arr.shape)"
      ],
      "execution_count": 93,
      "outputs": [
        {
          "output_type": "stream",
          "text": [
            "(5, 2, 3)\n"
          ],
          "name": "stdout"
        }
      ]
    },
    {
      "cell_type": "code",
      "metadata": {
        "colab": {
          "base_uri": "https://localhost:8080/"
        },
        "id": "_CqgF_zwRkgy",
        "outputId": "4c0c8eb0-fcc6-4f27-a68c-309b15cabe16"
      },
      "source": [
        "print(arr.ndim)"
      ],
      "execution_count": 94,
      "outputs": [
        {
          "output_type": "stream",
          "text": [
            "3\n"
          ],
          "name": "stdout"
        }
      ]
    },
    {
      "cell_type": "code",
      "metadata": {
        "colab": {
          "base_uri": "https://localhost:8080/"
        },
        "id": "dW73rHGNTN8S",
        "outputId": "f55c0b5a-3491-404a-9e11-d33b29c56c92"
      },
      "source": [
        "c=np.ones([5,2,3])\n",
        "c"
      ],
      "execution_count": 98,
      "outputs": [
        {
          "output_type": "execute_result",
          "data": {
            "text/plain": [
              "array([[[1., 1., 1.],\n",
              "        [1., 1., 1.]],\n",
              "\n",
              "       [[1., 1., 1.],\n",
              "        [1., 1., 1.]],\n",
              "\n",
              "       [[1., 1., 1.],\n",
              "        [1., 1., 1.]],\n",
              "\n",
              "       [[1., 1., 1.],\n",
              "        [1., 1., 1.]],\n",
              "\n",
              "       [[1., 1., 1.],\n",
              "        [1., 1., 1.]]])"
            ]
          },
          "metadata": {
            "tags": []
          },
          "execution_count": 98
        }
      ]
    },
    {
      "cell_type": "code",
      "metadata": {
        "colab": {
          "base_uri": "https://localhost:8080/"
        },
        "id": "AvNWlAF8WhzB",
        "outputId": "02277491-c6dc-4716-af1c-f637b113cfdf"
      },
      "source": [
        "a=[1, 2, 3, 4]\n",
        "a=np.matrix(a)\n",
        "print(a)"
      ],
      "execution_count": 101,
      "outputs": [
        {
          "output_type": "stream",
          "text": [
            "[[1 2 3 4]]\n"
          ],
          "name": "stdout"
        }
      ]
    },
    {
      "cell_type": "code",
      "metadata": {
        "colab": {
          "base_uri": "https://localhost:8080/"
        },
        "id": "9B5fU-Y5Z-fQ",
        "outputId": "7d0ce37a-8560-4c0c-a5ae-c98f29f08cd6"
      },
      "source": [
        "a=np.arange(1,5).reshape(2,2)\n",
        "a"
      ],
      "execution_count": 107,
      "outputs": [
        {
          "output_type": "execute_result",
          "data": {
            "text/plain": [
              "array([[1, 2],\n",
              "       [3, 4]])"
            ]
          },
          "metadata": {
            "tags": []
          },
          "execution_count": 107
        }
      ]
    },
    {
      "cell_type": "code",
      "metadata": {
        "colab": {
          "base_uri": "https://localhost:8080/"
        },
        "id": "WwnZTRFnaV7T",
        "outputId": "7a45d01f-d822-43f3-f8cb-4c091289825e"
      },
      "source": [
        "a=np.arange(1,5).reshape(2,2,1)\n",
        "a"
      ],
      "execution_count": 4,
      "outputs": [
        {
          "output_type": "execute_result",
          "data": {
            "text/plain": [
              "array([[[1],\n",
              "        [2]],\n",
              "\n",
              "       [[3],\n",
              "        [4]]])"
            ]
          },
          "metadata": {
            "tags": []
          },
          "execution_count": 4
        }
      ]
    },
    {
      "cell_type": "code",
      "metadata": {
        "colab": {
          "base_uri": "https://localhost:8080/"
        },
        "id": "kTZAUAPJapJs",
        "outputId": "8c334a25-6ba9-4e64-8262-bfbbab525509"
      },
      "source": [
        "a.sum()"
      ],
      "execution_count": 5,
      "outputs": [
        {
          "output_type": "execute_result",
          "data": {
            "text/plain": [
              "10"
            ]
          },
          "metadata": {
            "tags": []
          },
          "execution_count": 5
        }
      ]
    },
    {
      "cell_type": "code",
      "metadata": {
        "id": "VwiRIvNOqJXG"
      },
      "source": [
        "import numpy as np"
      ],
      "execution_count": 3,
      "outputs": []
    },
    {
      "cell_type": "code",
      "metadata": {
        "colab": {
          "base_uri": "https://localhost:8080/"
        },
        "id": "3qsYj_8bqRBS",
        "outputId": "ba4444c1-d488-4566-bb39-a18e5bc3922f"
      },
      "source": [
        "np.sum(a)"
      ],
      "execution_count": 6,
      "outputs": [
        {
          "output_type": "execute_result",
          "data": {
            "text/plain": [
              "10"
            ]
          },
          "metadata": {
            "tags": []
          },
          "execution_count": 6
        }
      ]
    },
    {
      "cell_type": "code",
      "metadata": {
        "colab": {
          "base_uri": "https://localhost:8080/"
        },
        "id": "E1_qsyAaqWVL",
        "outputId": "1d452141-4a6a-4700-b96e-65f590157e33"
      },
      "source": [
        "a.sum(axis=0)"
      ],
      "execution_count": 8,
      "outputs": [
        {
          "output_type": "execute_result",
          "data": {
            "text/plain": [
              "array([[4],\n",
              "       [6]])"
            ]
          },
          "metadata": {
            "tags": []
          },
          "execution_count": 8
        }
      ]
    },
    {
      "cell_type": "code",
      "metadata": {
        "colab": {
          "base_uri": "https://localhost:8080/"
        },
        "id": "cqwigU-Kqa7m",
        "outputId": "f38f0647-7e49-4661-cd20-29fb4bfce561"
      },
      "source": [
        "a.sum(axis=1)"
      ],
      "execution_count": 9,
      "outputs": [
        {
          "output_type": "execute_result",
          "data": {
            "text/plain": [
              "array([[3],\n",
              "       [7]])"
            ]
          },
          "metadata": {
            "tags": []
          },
          "execution_count": 9
        }
      ]
    },
    {
      "cell_type": "code",
      "metadata": {
        "colab": {
          "base_uri": "https://localhost:8080/"
        },
        "id": "uOqBNiozqk_y",
        "outputId": "08511bf5-c6e0-498d-b7fd-313fed8ea506"
      },
      "source": [
        "a=np.arange(1,10).reshape(3,3)\n",
        "print(a.sum(axis=0))\n",
        "a.sum(axis=1)"
      ],
      "execution_count": 11,
      "outputs": [
        {
          "output_type": "stream",
          "text": [
            "[12 15 18]\n"
          ],
          "name": "stdout"
        },
        {
          "output_type": "execute_result",
          "data": {
            "text/plain": [
              "array([ 6, 15, 24])"
            ]
          },
          "metadata": {
            "tags": []
          },
          "execution_count": 11
        }
      ]
    },
    {
      "cell_type": "code",
      "metadata": {
        "colab": {
          "base_uri": "https://localhost:8080/"
        },
        "id": "ywmaivSUqu1v",
        "outputId": "f9a7bc9a-961f-4c3e-d4b1-6f3e2647810d"
      },
      "source": [
        "c=np.ones([2,2,2])\n",
        "c"
      ],
      "execution_count": 19,
      "outputs": [
        {
          "output_type": "execute_result",
          "data": {
            "text/plain": [
              "array([[[1., 1.],\n",
              "        [1., 1.]],\n",
              "\n",
              "       [[1., 1.],\n",
              "        [1., 1.]]])"
            ]
          },
          "metadata": {
            "tags": []
          },
          "execution_count": 19
        }
      ]
    },
    {
      "cell_type": "code",
      "metadata": {
        "colab": {
          "base_uri": "https://localhost:8080/"
        },
        "id": "s7DCgVMCrQ0n",
        "outputId": "eb8a9195-e51c-4c53-b66d-977ffe3c22f2"
      },
      "source": [
        "c.reshape(8,1,-1)"
      ],
      "execution_count": 20,
      "outputs": [
        {
          "output_type": "execute_result",
          "data": {
            "text/plain": [
              "array([[[1.]],\n",
              "\n",
              "       [[1.]],\n",
              "\n",
              "       [[1.]],\n",
              "\n",
              "       [[1.]],\n",
              "\n",
              "       [[1.]],\n",
              "\n",
              "       [[1.]],\n",
              "\n",
              "       [[1.]],\n",
              "\n",
              "       [[1.]]])"
            ]
          },
          "metadata": {
            "tags": []
          },
          "execution_count": 20
        }
      ]
    },
    {
      "cell_type": "code",
      "metadata": {
        "colab": {
          "base_uri": "https://localhost:8080/"
        },
        "id": "MrWSlf01rhaM",
        "outputId": "3d190fcf-3fce-4d29-8d50-ba5e9ed2b156"
      },
      "source": [
        "arr=np.random.random([2,3,4])\n",
        "arr"
      ],
      "execution_count": 22,
      "outputs": [
        {
          "output_type": "execute_result",
          "data": {
            "text/plain": [
              "array([[[0.36016217, 0.39503755, 0.1738848 , 0.27075164],\n",
              "        [0.58560853, 0.24117856, 0.39421497, 0.60653502],\n",
              "        [0.0036911 , 0.29794504, 0.90312224, 0.5362858 ]],\n",
              "\n",
              "       [[0.14222135, 0.43851168, 0.75680688, 0.98568551],\n",
              "        [0.3339304 , 0.17820733, 0.04450797, 0.22705204],\n",
              "        [0.93057775, 0.27160153, 0.85529084, 0.55674548]]])"
            ]
          },
          "metadata": {
            "tags": []
          },
          "execution_count": 22
        }
      ]
    },
    {
      "cell_type": "code",
      "metadata": {
        "colab": {
          "base_uri": "https://localhost:8080/"
        },
        "id": "gmFtAkQproiE",
        "outputId": "e61c2feb-e4e2-4453-9570-feec5291b342"
      },
      "source": [
        "len(arr)"
      ],
      "execution_count": 23,
      "outputs": [
        {
          "output_type": "execute_result",
          "data": {
            "text/plain": [
              "2"
            ]
          },
          "metadata": {
            "tags": []
          },
          "execution_count": 23
        }
      ]
    },
    {
      "cell_type": "code",
      "metadata": {
        "colab": {
          "base_uri": "https://localhost:8080/"
        },
        "id": "Gq9vHHqOrq5R",
        "outputId": "c3e454c4-cae2-4f0a-dd70-274fcf17dfcb"
      },
      "source": [
        "arr.size"
      ],
      "execution_count": 24,
      "outputs": [
        {
          "output_type": "execute_result",
          "data": {
            "text/plain": [
              "24"
            ]
          },
          "metadata": {
            "tags": []
          },
          "execution_count": 24
        }
      ]
    },
    {
      "cell_type": "code",
      "metadata": {
        "colab": {
          "base_uri": "https://localhost:8080/"
        },
        "id": "VmCKWcXRrsmQ",
        "outputId": "2d794145-70d2-4d7f-8de7-90fb60c245d6"
      },
      "source": [
        "arr.ndim"
      ],
      "execution_count": 25,
      "outputs": [
        {
          "output_type": "execute_result",
          "data": {
            "text/plain": [
              "3"
            ]
          },
          "metadata": {
            "tags": []
          },
          "execution_count": 25
        }
      ]
    },
    {
      "cell_type": "code",
      "metadata": {
        "colab": {
          "base_uri": "https://localhost:8080/"
        },
        "id": "ITMBNp8irtsk",
        "outputId": "deacaee4-8157-4202-f587-ef8a975ee0df"
      },
      "source": [
        "arr.dtype"
      ],
      "execution_count": 26,
      "outputs": [
        {
          "output_type": "execute_result",
          "data": {
            "text/plain": [
              "dtype('float64')"
            ]
          },
          "metadata": {
            "tags": []
          },
          "execution_count": 26
        }
      ]
    },
    {
      "cell_type": "code",
      "metadata": {
        "colab": {
          "base_uri": "https://localhost:8080/"
        },
        "id": "3t_69Rw8rvRd",
        "outputId": "0d0719a7-4e5d-43b9-ceaf-a8f41e8b7c75"
      },
      "source": [
        "arr.shape"
      ],
      "execution_count": 27,
      "outputs": [
        {
          "output_type": "execute_result",
          "data": {
            "text/plain": [
              "(2, 3, 4)"
            ]
          },
          "metadata": {
            "tags": []
          },
          "execution_count": 27
        }
      ]
    },
    {
      "cell_type": "code",
      "metadata": {
        "colab": {
          "base_uri": "https://localhost:8080/"
        },
        "id": "5CNaT7BKrxF4",
        "outputId": "4fa98dbe-98bb-4e0c-fc84-4638465d6d14"
      },
      "source": [
        "a=np.arange(1,5)\n",
        "b=np.arange(9,5,-1)\n",
        "print(a-b)\n",
        "print(a*b)"
      ],
      "execution_count": 29,
      "outputs": [
        {
          "output_type": "stream",
          "text": [
            "[-8 -6 -4 -2]\n",
            "[ 9 16 21 24]\n"
          ],
          "name": "stdout"
        }
      ]
    },
    {
      "cell_type": "code",
      "metadata": {
        "colab": {
          "base_uri": "https://localhost:8080/"
        },
        "id": "h-Q9nZrvr-Bz",
        "outputId": "815046c8-67ce-4ee0-cd18-68bc68dc5c8e"
      },
      "source": [
        "a=np.matrix(a)\n",
        "b=np.matrix(b)\n",
        "a.T*b"
      ],
      "execution_count": 33,
      "outputs": [
        {
          "output_type": "execute_result",
          "data": {
            "text/plain": [
              "matrix([[ 9,  8,  7,  6],\n",
              "        [18, 16, 14, 12],\n",
              "        [27, 24, 21, 18],\n",
              "        [36, 32, 28, 24]])"
            ]
          },
          "metadata": {
            "tags": []
          },
          "execution_count": 33
        }
      ]
    },
    {
      "cell_type": "code",
      "metadata": {
        "colab": {
          "base_uri": "https://localhost:8080/"
        },
        "id": "x_rjqF4qsDL0",
        "outputId": "61c1a65c-26e2-4021-8698-92b9012faa9e"
      },
      "source": [
        "a*b.T"
      ],
      "execution_count": 34,
      "outputs": [
        {
          "output_type": "execute_result",
          "data": {
            "text/plain": [
              "matrix([[70]])"
            ]
          },
          "metadata": {
            "tags": []
          },
          "execution_count": 34
        }
      ]
    },
    {
      "cell_type": "code",
      "metadata": {
        "colab": {
          "base_uri": "https://localhost:8080/"
        },
        "id": "GNqk9UeXsFTx",
        "outputId": "41cee7b6-468b-4fc0-d3eb-21830e654f01"
      },
      "source": [
        "n=[1,2,3,4]\n",
        "for i in range(len(n)):\n",
        "  print(i)"
      ],
      "execution_count": 35,
      "outputs": [
        {
          "output_type": "stream",
          "text": [
            "0\n",
            "1\n",
            "2\n",
            "3\n"
          ],
          "name": "stdout"
        }
      ]
    },
    {
      "cell_type": "code",
      "metadata": {
        "colab": {
          "base_uri": "https://localhost:8080/"
        },
        "id": "RhL361Kr2UQn",
        "outputId": "ae6f239c-48d2-4ffe-d7db-60af8c71e041"
      },
      "source": [
        "a=[[1], [2,3], [4,5,6]]\n",
        "n=0\n",
        "for b in a:\n",
        "  for d in b:\n",
        "    n+=1\n",
        "print(n)"
      ],
      "execution_count": 39,
      "outputs": [
        {
          "output_type": "stream",
          "text": [
            "6\n"
          ],
          "name": "stdout"
        }
      ]
    },
    {
      "cell_type": "code",
      "metadata": {
        "colab": {
          "base_uri": "https://localhost:8080/"
        },
        "id": "wu2H4Y132gCU",
        "outputId": "a90f3edc-6bfc-42ac-d3ff-de2a3bf7f894"
      },
      "source": [
        "t=0\n",
        "for p in range(3):\n",
        "  if p<=1:\n",
        "    for q in range(4):\n",
        "      t+=q\n",
        "    for r in range(2):\n",
        "      t+=r\n",
        "print(t*r)"
      ],
      "execution_count": 41,
      "outputs": [
        {
          "output_type": "stream",
          "text": [
            "14\n"
          ],
          "name": "stdout"
        }
      ]
    },
    {
      "cell_type": "code",
      "metadata": {
        "colab": {
          "base_uri": "https://localhost:8080/"
        },
        "id": "kEBOL6DG3xc7",
        "outputId": "d5361080-3275-41f9-8e0d-f3ed9d509b85"
      },
      "source": [
        "a=(5.2, {1:'apple', 'k':4.9}, (9.1, [10, 12,1]))\n",
        "print(int(a[2][-1][0]))"
      ],
      "execution_count": 43,
      "outputs": [
        {
          "output_type": "stream",
          "text": [
            "10\n"
          ],
          "name": "stdout"
        }
      ]
    },
    {
      "cell_type": "code",
      "metadata": {
        "colab": {
          "base_uri": "https://localhost:8080/"
        },
        "id": "Zhfg3Rpj4jdb",
        "outputId": "9590fa33-6fa6-4db9-d2be-8b6148fb1bdd"
      },
      "source": [
        "a=[1,2,3,4]\n",
        "if len(a)==3:\n",
        "  print(0)\n",
        "else:\n",
        "  print(1)"
      ],
      "execution_count": 44,
      "outputs": [
        {
          "output_type": "stream",
          "text": [
            "1\n"
          ],
          "name": "stdout"
        }
      ]
    },
    {
      "cell_type": "code",
      "metadata": {
        "colab": {
          "base_uri": "https://localhost:8080/"
        },
        "id": "Lz-ZEzMC4wj6",
        "outputId": "403f48c7-5818-4575-d2d3-61a5e9e09d9d"
      },
      "source": [
        "e=[1,1.2,'k',[1,[2], {'a', 'apple'}]]\n",
        "for x in e:\n",
        "  if type(x)=='dict':\n",
        "    print(x)\n",
        "  else:\n",
        "    if x=='k':\n",
        "      print(x)"
      ],
      "execution_count": 45,
      "outputs": [
        {
          "output_type": "stream",
          "text": [
            "k\n"
          ],
          "name": "stdout"
        }
      ]
    },
    {
      "cell_type": "code",
      "metadata": {
        "colab": {
          "base_uri": "https://localhost:8080/"
        },
        "id": "q-gg2Lsx4_FP",
        "outputId": "e7aece7d-cdea-4c19-ef61-ebf08a5aea3e"
      },
      "source": [
        "d=['th','s']\n",
        "print('i'.join(d)[-3])"
      ],
      "execution_count": 46,
      "outputs": [
        {
          "output_type": "stream",
          "text": [
            "h\n"
          ],
          "name": "stdout"
        }
      ]
    },
    {
      "cell_type": "code",
      "metadata": {
        "colab": {
          "base_uri": "https://localhost:8080/"
        },
        "id": "4dgVA3445GQU",
        "outputId": "9cce1c4e-203b-4a8e-f32f-317332aa82b3"
      },
      "source": [
        "c=[1,'a',{'a':'abc', 'b':'def'}]\n",
        "print(c[-1]['b'][-2])"
      ],
      "execution_count": 47,
      "outputs": [
        {
          "output_type": "stream",
          "text": [
            "e\n"
          ],
          "name": "stdout"
        }
      ]
    },
    {
      "cell_type": "code",
      "metadata": {
        "colab": {
          "base_uri": "https://localhost:8080/"
        },
        "id": "-nM5jY305QH4",
        "outputId": "ae3b54bf-cfc1-4661-b087-0023b114e48d"
      },
      "source": [
        "b=[1, 'a', {'a':[3.6], 'b':[9]}, 'b']\n",
        "print(b[-2]['b'][-1])"
      ],
      "execution_count": 49,
      "outputs": [
        {
          "output_type": "stream",
          "text": [
            "9\n"
          ],
          "name": "stdout"
        }
      ]
    },
    {
      "cell_type": "code",
      "metadata": {
        "colab": {
          "base_uri": "https://localhost:8080/"
        },
        "id": "mNfKvLNA5gC4",
        "outputId": "1494b9cd-6641-4cf6-d8b7-b3b60a2b9504"
      },
      "source": [
        "a=[[1], [2,3], [4,5,6]]\n",
        "n=0\n",
        "for b in a:\n",
        "  for d in b:\n",
        "    n+=1\n",
        "print(n)"
      ],
      "execution_count": 52,
      "outputs": [
        {
          "output_type": "stream",
          "text": [
            "6\n"
          ],
          "name": "stdout"
        }
      ]
    },
    {
      "cell_type": "code",
      "metadata": {
        "colab": {
          "base_uri": "https://localhost:8080/"
        },
        "id": "Mg7eVanK74LG",
        "outputId": "0813c3ef-99fb-4a13-966f-211a191767f3"
      },
      "source": [
        "a=[[1], [2,3], [4,5,6]]\n",
        "n=0\n",
        "for b in a:\n",
        "  for d in b:\n",
        "    n+=1\n",
        "  print(n)"
      ],
      "execution_count": 57,
      "outputs": [
        {
          "output_type": "stream",
          "text": [
            "1\n",
            "3\n",
            "6\n"
          ],
          "name": "stdout"
        }
      ]
    },
    {
      "cell_type": "code",
      "metadata": {
        "id": "yO6ikGMw83yX"
      },
      "source": [
        ""
      ],
      "execution_count": null,
      "outputs": []
    }
  ]
}