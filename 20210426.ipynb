{
  "nbformat": 4,
  "nbformat_minor": 0,
  "metadata": {
    "colab": {
      "name": "20210426.ipynb",
      "provenance": [],
      "collapsed_sections": [],
      "authorship_tag": "ABX9TyNkf7KKIuX0fZtCArnR7wiJ",
      "include_colab_link": true
    },
    "kernelspec": {
      "name": "python3",
      "display_name": "Python 3"
    },
    "language_info": {
      "name": "python"
    }
  },
  "cells": [
    {
      "cell_type": "markdown",
      "metadata": {
        "id": "view-in-github",
        "colab_type": "text"
      },
      "source": [
        "<a href=\"https://colab.research.google.com/github/2019130806/class2021Spring/blob/main/20210426.ipynb\" target=\"_parent\"><img src=\"https://colab.research.google.com/assets/colab-badge.svg\" alt=\"Open In Colab\"/></a>"
      ]
    },
    {
      "cell_type": "code",
      "metadata": {
        "id": "cO2gOcQtx61J"
      },
      "source": [
        "%matplotlib inline\n",
        "from matplotlib import pyplot as plt\n",
        "import IPython.display as ipd\n",
        "import numpy as np\n",
        "from scipy.signal import lfilter"
      ],
      "execution_count": 1,
      "outputs": []
    },
    {
      "cell_type": "code",
      "metadata": {
        "id": "HgN6PpUkyVwh"
      },
      "source": [
        "def phasor(amp,sr,dur,freq):\n",
        "  return s, theta, t"
      ],
      "execution_count": 6,
      "outputs": []
    },
    {
      "cell_type": "code",
      "metadata": {
        "id": "f9Mf37dmyiEQ"
      },
      "source": [
        "amp=1\n",
        "sr=10000\n",
        "dur=0.5\n",
        "freq=100.0"
      ],
      "execution_count": 7,
      "outputs": []
    },
    {
      "cell_type": "code",
      "metadata": {
        "id": "EMf6Gim7z1Q0"
      },
      "source": [
        "t=np.arange(1,sr*dur+1)/sr"
      ],
      "execution_count": 8,
      "outputs": []
    },
    {
      "cell_type": "code",
      "metadata": {
        "id": "_UOm9bPfz-bs"
      },
      "source": [
        "theta=t*2*np.pi*freq"
      ],
      "execution_count": 9,
      "outputs": []
    },
    {
      "cell_type": "code",
      "metadata": {
        "id": "EKVsFBz-0D8p"
      },
      "source": [
        "s=np.sin(theta)"
      ],
      "execution_count": 10,
      "outputs": []
    },
    {
      "cell_type": "code",
      "metadata": {
        "colab": {
          "base_uri": "https://localhost:8080/"
        },
        "id": "wwfs-Z3x0Fal",
        "outputId": "14515a04-8430-49f7-e174-c92a52764e21"
      },
      "source": [
        "phasor (1,10000,0.5,100)"
      ],
      "execution_count": 12,
      "outputs": [
        {
          "output_type": "execute_result",
          "data": {
            "text/plain": [
              "(array([ 6.27905195e-02,  1.25333234e-01,  1.87381315e-01, ...,\n",
              "        -1.25333234e-01, -6.27905195e-02,  1.96438672e-15]),\n",
              " array([6.28318531e-02, 1.25663706e-01, 1.88495559e-01, ...,\n",
              "        3.14033602e+02, 3.14096434e+02, 3.14159265e+02]),\n",
              " array([1.000e-04, 2.000e-04, 3.000e-04, ..., 4.998e-01, 4.999e-01,\n",
              "        5.000e-01]))"
            ]
          },
          "metadata": {
            "tags": []
          },
          "execution_count": 12
        }
      ]
    },
    {
      "cell_type": "code",
      "metadata": {
        "id": "TurhP4Oc0JIp"
      },
      "source": [
        ""
      ],
      "execution_count": null,
      "outputs": []
    }
  ]
}