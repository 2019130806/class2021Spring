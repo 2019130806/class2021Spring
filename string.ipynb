{
  "nbformat": 4,
  "nbformat_minor": 0,
  "metadata": {
    "colab": {
      "name": "string.ipynb",
      "provenance": [],
      "collapsed_sections": [],
      "authorship_tag": "ABX9TyPI0UL8PtYy/4r2HXSxazhW",
      "include_colab_link": true
    },
    "kernelspec": {
      "name": "python3",
      "display_name": "Python 3"
    }
  },
  "cells": [
    {
      "cell_type": "markdown",
      "metadata": {
        "id": "view-in-github",
        "colab_type": "text"
      },
      "source": [
        "<a href=\"https://colab.research.google.com/github/2019130806/class2021Spring/blob/main/string.ipynb\" target=\"_parent\"><img src=\"https://colab.research.google.com/assets/colab-badge.svg\" alt=\"Open In Colab\"/></a>"
      ]
    },
    {
      "cell_type": "code",
      "metadata": {
        "colab": {
          "base_uri": "https://localhost:8080/"
        },
        "id": "MOA9urmBd5VO",
        "outputId": "1f066948-750c-470d-bcf4-50d2f1ebae8b"
      },
      "source": [
        "s='abcdef'\r\n",
        "print(type(s))\r\n",
        "print(s[0], s[5], s[-1], s[-6]) #-1은 처음에서 왼쪽, 즉 맨 오른쪽! a f f a\r\n",
        "print(s[1:3], s[1:], s[:3], s[:])  #1:3은 두번째부터 4번째 전까지--> bc / 1:은 두번째부터 끝까지, :3은 처음부터 4번째 전까지, :는 전체"
      ],
      "execution_count": 9,
      "outputs": [
        {
          "output_type": "stream",
          "text": [
            "<class 'str'>\n",
            "a f f a\n",
            "bc bcdef abc abcdef\n"
          ],
          "name": "stdout"
        }
      ]
    },
    {
      "cell_type": "code",
      "metadata": {
        "colab": {
          "base_uri": "https://localhost:8080/"
        },
        "id": "juhxpBqLeZEl",
        "outputId": "286ef2ed-6791-4cc7-9aa9-15837b86bd3b"
      },
      "source": [
        "n=[100, 200, 300]\r\n",
        "print(n[0], n[2], n[-1], n[-3]) #100 300 300 100\r\n",
        "print(n[1:2], n[1:], n[:2], n[:]) #[200] [200, 300] [300] [100, 200, 300] #왜 위에는 말고 이것만 대괄호로 묶일까?"
      ],
      "execution_count": 11,
      "outputs": [
        {
          "output_type": "stream",
          "text": [
            "100 300 300 100\n",
            "[200] [200, 300] [100, 200] [100, 200, 300]\n"
          ],
          "name": "stdout"
        }
      ]
    },
    {
      "cell_type": "code",
      "metadata": {
        "colab": {
          "base_uri": "https://localhost:8080/"
        },
        "id": "sbWhQ8upfmL4",
        "outputId": "738b3191-a077-4c8a-cdc6-12903959d846"
      },
      "source": [
        "len(s) #len은 길이 a b c d e f -> 6"
      ],
      "execution_count": 12,
      "outputs": [
        {
          "output_type": "execute_result",
          "data": {
            "text/plain": [
              "6"
            ]
          },
          "metadata": {
            "tags": []
          },
          "execution_count": 12
        }
      ]
    },
    {
      "cell_type": "code",
      "metadata": {
        "colab": {
          "base_uri": "https://localhost:8080/"
        },
        "id": "SkASpjJhf--M",
        "outputId": "def95bd9-82ca-4119-eb43-e98a2564f433"
      },
      "source": [
        "print(s[1]+s[3]+s[4:]*10) #s=abcdef s[1]=b s[3]=d s[4:] ef\r\n",
        "print((s[1]+s[3]+s[4:])*10) #오홍 이건 은이가 직접 해본 겨!"
      ],
      "execution_count": 15,
      "outputs": [
        {
          "output_type": "stream",
          "text": [
            "bdefefefefefefefefefef\n",
            "bdefbdefbdefbdefbdefbdefbdefbdefbdefbdef\n"
          ],
          "name": "stdout"
        }
      ]
    },
    {
      "cell_type": "code",
      "metadata": {
        "colab": {
          "base_uri": "https://localhost:8080/",
          "height": 36
        },
        "id": "o3imJfhjgC3z",
        "outputId": "0bc64187-c491-4569-d15f-a9f266e9f592"
      },
      "source": [
        "s.upper() #.upper()하면 모조리 대문자화"
      ],
      "execution_count": 16,
      "outputs": [
        {
          "output_type": "execute_result",
          "data": {
            "application/vnd.google.colaboratory.intrinsic+json": {
              "type": "string"
            },
            "text/plain": [
              "'ABCDEF'"
            ]
          },
          "metadata": {
            "tags": []
          },
          "execution_count": 16
        }
      ]
    },
    {
      "cell_type": "code",
      "metadata": {
        "colab": {
          "base_uri": "https://localhost:8080/",
          "height": 36
        },
        "id": "H015o9mjhwkF",
        "outputId": "c43b5e5b-6d4a-4228-b69a-56b964655b66"
      },
      "source": [
        "s=' this is a house built this year.\\n' #역슬래쉬n하면 줄바꿈(엔터)라는데 왜 나는 되지 않는가..ㅠㅠ\r\n",
        "s"
      ],
      "execution_count": 22,
      "outputs": [
        {
          "output_type": "execute_result",
          "data": {
            "application/vnd.google.colaboratory.intrinsic+json": {
              "type": "string"
            },
            "text/plain": [
              "' this is a house built this year.\\n'"
            ]
          },
          "metadata": {
            "tags": []
          },
          "execution_count": 22
        }
      ]
    },
    {
      "cell_type": "code",
      "metadata": {
        "colab": {
          "base_uri": "https://localhost:8080/"
        },
        "id": "fOl2aABVh0ga",
        "outputId": "2f8a5aa9-8398-4337-9b32-321e13c8f72f"
      },
      "source": [
        "result=s.find('house') #s에서 house가 몇번째에 있는지 찾아라-> 첫 공백 포함 11번째! 참고로 0번째부터 시작\r\n",
        "result"
      ],
      "execution_count": 23,
      "outputs": [
        {
          "output_type": "execute_result",
          "data": {
            "text/plain": [
              "11"
            ]
          },
          "metadata": {
            "tags": []
          },
          "execution_count": 23
        }
      ]
    },
    {
      "cell_type": "code",
      "metadata": {
        "colab": {
          "base_uri": "https://localhost:8080/"
        },
        "id": "Nd1T1XLhixNl",
        "outputId": "b9b8a2a7-d4e2-472f-dec1-fe0c9648b823"
      },
      "source": [
        "result=s.find('this') #이번에는 this가 몇번째에 있는지 찾아라 #공백이 0번째 1번째에 this\r\n",
        "#뒤에도 this가 한 번 더 있긴 한데 제일 첫 번째 것만 찾음 = find가 원래 그려\r\n",
        "result"
      ],
      "execution_count": 28,
      "outputs": [
        {
          "output_type": "execute_result",
          "data": {
            "text/plain": [
              "1"
            ]
          },
          "metadata": {
            "tags": []
          },
          "execution_count": 28
        }
      ]
    },
    {
      "cell_type": "code",
      "metadata": {
        "colab": {
          "base_uri": "https://localhost:8080/"
        },
        "id": "selF_vR3i6Kx",
        "outputId": "40afee44-326b-40e2-b7dd-f849bac23fde"
      },
      "source": [
        "result=s.rindex('this') #두번째 this의 위치를 찾았네..\r\n",
        "result #find 대신에 rindex 알인덱스하면 23이 나옴 -> 그 이유는..?!\r\n",
        "#rindex는 the last index 제일 마지막 것 아황 23번째!"
      ],
      "execution_count": 29,
      "outputs": [
        {
          "output_type": "execute_result",
          "data": {
            "text/plain": [
              "23"
            ]
          },
          "metadata": {
            "tags": []
          },
          "execution_count": 29
        }
      ]
    },
    {
      "cell_type": "code",
      "metadata": {
        "colab": {
          "base_uri": "https://localhost:8080/",
          "height": 36
        },
        "id": "BCEgb6iEkxYQ",
        "outputId": "ed2ac653-8dc9-4af6-b59f-cb50f9572e83"
      },
      "source": [
        "s=s.strip() #\\n이 없어졌다!! 필요 없는 것 지워주고! 제일 처음 있던 스페이스도 없애고! 순수한 것만 남겨줌 깔끔하게!\r\n",
        "s"
      ],
      "execution_count": 31,
      "outputs": [
        {
          "output_type": "execute_result",
          "data": {
            "application/vnd.google.colaboratory.intrinsic+json": {
              "type": "string"
            },
            "text/plain": [
              "'this is a house built this year.'"
            ]
          },
          "metadata": {
            "tags": []
          },
          "execution_count": 31
        }
      ]
    },
    {
      "cell_type": "code",
      "metadata": {
        "colab": {
          "base_uri": "https://localhost:8080/"
        },
        "id": "rCEEpPnkmcs1",
        "outputId": "dfc2aca1-0cf5-45c1-8aff-9063a057df55"
      },
      "source": [
        "tokens=s.split(' ') #문장을 단어의 리스트로 만들고 싶을 때 -> split\r\n",
        "#점 앞에 있는 s를 잘라라\r\n",
        "#긴 스트링을 스페이스를 이용해서 잘라라! ('스페이스')\r\n",
        "#스페이스 안 쓰고 컴마로 끊어져있다면 컴마로 쪼개라도 가능\r\n",
        "tokens"
      ],
      "execution_count": 35,
      "outputs": [
        {
          "output_type": "execute_result",
          "data": {
            "text/plain": [
              "['this', 'is', 'a', 'house', 'built', 'this', 'year.']"
            ]
          },
          "metadata": {
            "tags": []
          },
          "execution_count": 35
        }
      ]
    },
    {
      "cell_type": "code",
      "metadata": {
        "colab": {
          "base_uri": "https://localhost:8080/"
        },
        "id": "DTd6-fqRo_39",
        "outputId": "dc62f4d9-1795-4448-9e17-ecbcf465d668"
      },
      "source": [
        "s=' this is a house built this year.\\n'\r\n",
        "s=s.strip() #헐 왜 앞뒤로 콤마도 사라졌지.. -> 아하 print가 콤마 없애는 기능 있다 했었음\r\n",
        "print(s)\r\n",
        "tokens=s.split(' ')\r\n",
        "print(tokens)\r\n",
        "result=' '.join(tokens)\r\n",
        "print(result) #스페이스를 이용해서 토큰 안에 들어있는 리스트들을 붙여랏! -> 원형 문장으로 다시 후움.."
      ],
      "execution_count": 53,
      "outputs": [
        {
          "output_type": "stream",
          "text": [
            "this is a house built this year.\n",
            "['this', 'is', 'a', 'house', 'built', 'this', 'year.']\n",
            "this is a house built this year.\n"
          ],
          "name": "stdout"
        }
      ]
    },
    {
      "cell_type": "code",
      "metadata": {
        "colab": {
          "base_uri": "https://localhost:8080/",
          "height": 36
        },
        "id": "ZWyh5mY3ovFw",
        "outputId": "6d603895-395c-4b77-b8cc-307b0726fc74"
      },
      "source": [
        "s=' '.join(tokens)\r\n",
        "s #휴우!"
      ],
      "execution_count": 54,
      "outputs": [
        {
          "output_type": "execute_result",
          "data": {
            "application/vnd.google.colaboratory.intrinsic+json": {
              "type": "string"
            },
            "text/plain": [
              "'this is a house built this year.'"
            ]
          },
          "metadata": {
            "tags": []
          },
          "execution_count": 54
        }
      ]
    },
    {
      "cell_type": "code",
      "metadata": {
        "colab": {
          "base_uri": "https://localhost:8080/",
          "height": 36
        },
        "id": "sgLAv5ciqJEm",
        "outputId": "e0f5d66f-2c37-4b7c-a8d5-2136c7d5f389"
      },
      "source": [
        "s=','.join(tokens)\r\n",
        "s #오홍?! 콤마를 이용해서 붙였구만!"
      ],
      "execution_count": 56,
      "outputs": [
        {
          "output_type": "execute_result",
          "data": {
            "application/vnd.google.colaboratory.intrinsic+json": {
              "type": "string"
            },
            "text/plain": [
              "'this,is,a,house,built,this,year.'"
            ]
          },
          "metadata": {
            "tags": []
          },
          "execution_count": 56
        }
      ]
    },
    {
      "cell_type": "code",
      "metadata": {
        "colab": {
          "base_uri": "https://localhost:8080/",
          "height": 36
        },
        "id": "-pnIH_SCp7Q0",
        "outputId": "770f0304-00e6-4175-83bc-ca3107f2d2bc"
      },
      "source": [
        "s=s.replace('this', 'that') #s안에 있는 this를 that으로 교체해라=s.replace('this', 'that') #s안에 있는 this를 that으로 교체해라\r\n",
        "s #첫번째 나오는 this 아니고 모오오든 this임!"
      ],
      "execution_count": 55,
      "outputs": [
        {
          "output_type": "execute_result",
          "data": {
            "application/vnd.google.colaboratory.intrinsic+json": {
              "type": "string"
            },
            "text/plain": [
              "'that is a house built that year.'"
            ]
          },
          "metadata": {
            "tags": []
          },
          "execution_count": 55
        }
      ]
    },
    {
      "cell_type": "code",
      "metadata": {
        "id": "0qa45RC0qHtL"
      },
      "source": [
        ""
      ],
      "execution_count": null,
      "outputs": []
    }
  ]
}