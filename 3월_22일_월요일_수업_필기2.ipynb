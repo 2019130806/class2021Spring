{
  "nbformat": 4,
  "nbformat_minor": 0,
  "metadata": {
    "colab": {
      "name": "3월 22일 월요일 수업 필기2.ipynb",
      "provenance": [],
      "collapsed_sections": [],
      "authorship_tag": "ABX9TyONy/w0Y8MScq3asZCrUhQi",
      "include_colab_link": true
    },
    "kernelspec": {
      "name": "python3",
      "display_name": "Python 3"
    },
    "language_info": {
      "name": "python"
    }
  },
  "cells": [
    {
      "cell_type": "markdown",
      "metadata": {
        "id": "view-in-github",
        "colab_type": "text"
      },
      "source": [
        "<a href=\"https://colab.research.google.com/github/2019130806/class2021Spring/blob/main/3%EC%9B%94_22%EC%9D%BC_%EC%9B%94%EC%9A%94%EC%9D%BC_%EC%88%98%EC%97%85_%ED%95%84%EA%B8%B02.ipynb\" target=\"_parent\"><img src=\"https://colab.research.google.com/assets/colab-badge.svg\" alt=\"Open In Colab\"/></a>"
      ]
    },
    {
      "cell_type": "code",
      "metadata": {
        "colab": {
          "base_uri": "https://localhost:8080/",
          "height": 139
        },
        "id": "7fphYZKogre-",
        "outputId": "a5e0bbfa-ccf3-4220-8f55-8921bc362901"
      },
      "source": [
        "def add(a,b): #def 하고 함수의 이름 'add' (x1, x2, x3) 이런 식으로 여러개도 가능\n",
        "  return a+b\n",
        "\n",
        "def subtract(a,b):\n",
        "  return a-b\n",
        "\n",
        "def multiply (a,b):\n",
        "  return a*b\n",
        "\n",
        "def addition(x1,x2):\n",
        "  return x1+x2\n",
        "\n",
        "def func1(x):\n",
        "  c=1,d=2 #왜 안 되지?!?!?!\n",
        "  y= c*x+d\n",
        "  return y\n",
        "\n",
        "def func12(x,a,b): #a랑 b도 안 정해놓을 수 있음\n",
        "  y=a*x+b\n",
        "  return y"
      ],
      "execution_count": null,
      "outputs": [
        {
          "output_type": "error",
          "ename": "SyntaxError",
          "evalue": "ignored",
          "traceback": [
            "\u001b[0;36m  File \u001b[0;32m\"<ipython-input-24-1767cf4ff1e1>\"\u001b[0;36m, line \u001b[0;32m14\u001b[0m\n\u001b[0;31m    c=1,d=2\u001b[0m\n\u001b[0m     ^\u001b[0m\n\u001b[0;31mSyntaxError\u001b[0m\u001b[0;31m:\u001b[0m can't assign to literal\n"
          ]
        }
      ]
    },
    {
      "cell_type": "code",
      "metadata": {
        "colab": {
          "base_uri": "https://localhost:8080/"
        },
        "id": "dJmZ9ZAbhXPO",
        "outputId": "54eefc4f-e8a0-455d-b977-4fd3bf21a8cd"
      },
      "source": [
        "def func12(x,a,b):\n",
        "  y=a*x+b\n",
        "  return y #출력을 하기 위해선 반드시 return 필요?!\n",
        "\n",
        "c=func12(3,7,2)\n",
        "print(c)\n",
        "\n",
        "d=func12(5,1,-2)\n",
        "print(d)\n",
        "\n",
        "def add(a,b):\n",
        "  return a,b\n",
        "\n",
        "result=add(1,2)\n",
        "print(result)\n",
        "print(type(result)) #튜플이 더 안전하다고 했었음"
      ],
      "execution_count": null,
      "outputs": [
        {
          "output_type": "stream",
          "text": [
            "23\n",
            "3\n",
            "(1, 2)\n",
            "<class 'tuple'>\n"
          ],
          "name": "stdout"
        }
      ]
    },
    {
      "cell_type": "code",
      "metadata": {
        "colab": {
          "base_uri": "https://localhost:8080/"
        },
        "id": "O8CQg1VelAIj",
        "outputId": "39d76b9b-e66e-498d-90b2-8605f4276c86"
      },
      "source": [
        "def func1(x,a,b):\n",
        "  y=a*x+b\n",
        "  return y\n",
        "\n",
        "def func2(x,a,b,c):\n",
        "  y=a*x**2+b*x+c\n",
        "  return y\n",
        "\n",
        "t=func1(7,-2,3)\n",
        "print(t)\n",
        "\n",
        "s=func2(9,1,-1,-3)\n",
        "print(s)"
      ],
      "execution_count": null,
      "outputs": [
        {
          "output_type": "stream",
          "text": [
            "-11\n",
            "69\n"
          ],
          "name": "stdout"
        }
      ]
    },
    {
      "cell_type": "markdown",
      "metadata": {
        "id": "vFlyGtWjj3rD"
      },
      "source": [
        "안녕하세요"
      ]
    },
    {
      "cell_type": "code",
      "metadata": {
        "id": "pcKdhjKVhZ2A"
      },
      "source": [
        "def func2(x,a,b,c): #z콜론 들어가는 것 까먹지 말 것\n",
        "  y=a*x**2+b*x+c\n",
        "  return y"
      ],
      "execution_count": null,
      "outputs": []
    },
    {
      "cell_type": "code",
      "metadata": {
        "colab": {
          "base_uri": "https://localhost:8080/"
        },
        "id": "C4Qh-6fxl2b-",
        "outputId": "89964d55-43c4-4ba5-9f4d-0d80c05d0b3b"
      },
      "source": [
        "func2(5, 1,-2,3)"
      ],
      "execution_count": null,
      "outputs": [
        {
          "output_type": "execute_result",
          "data": {
            "text/plain": [
              "18"
            ]
          },
          "metadata": {
            "tags": []
          },
          "execution_count": 31
        }
      ]
    },
    {
      "cell_type": "markdown",
      "metadata": {
        "id": "2PefIx_GmUm2"
      },
      "source": [
        "함수와 변수를 함께 모듈화 한 것이 클래스<br>\n",
        "함수를 만드는 이유 - 여러 번 반복되는 것을 편하게 쓰기 위해서<br>\n",
        "변수 a=1 해서 1이 a에 들어가고<br>\n",
        "함수와 변수가 같이 가는 경우 많음<br>\n",
        "함수와 변수를 뭉뚱그려서<br>\n",
        "재료가 변수 기계, 오퍼레이터가 함수<br>\n",
        "재료와 변수가 같이 있는 게 맞는 말<br>\n",
        "함수와 변수를 함께 모듈화 한 것이 클래스!<br>\n",
        "클래스의 개념<br>\n",
        "oop object oriented program<br>\n",
        "처음에는 변수, 함수, 제어문(if)만 있다가<br>\n",
        "비교적 최근 들어서 클래스를 만들면서 oop의 개념으로 프로그래밍 개념으로 프로그램 랭귀지 자체가 진화<br>\n",
        "C language 에서 C++로 가는 것도 클래스가 확장되면서 랭귀지 진화<br>\n",
        "파이썬은 극단적으로 클래스의 개념이 잘 녹아들어 있음<br>\n",
        "\n",
        "교수님 리퍼지토리에서 module.ipynb<br>\n"
      ]
    },
    {
      "cell_type": "code",
      "metadata": {
        "id": "yajdHWZKnbZn"
      },
      "source": [
        "class cal: #클래스를 정의\n",
        "#함수 정의할 때 def func(0,0): 하듯이!\n",
        "#class 적고 클래스이름 적고 땡땡:\n",
        "#클래스는 함수와 변수가 동시에 덩어리로 정의되는 것 class=함수+변수\n",
        "  def __init__(self): #제일 처음 이 객체를 쓸 때 밑에 있는 문장이 실행됨\n",
        "  #init은 약속된 지정어, 반드시 이런 형태로 써야 함\n",
        "    self.result = 0 #변수는 self.result--> result가 변수인 것\n",
        "    #나 자신의 변수에다가 0을 넣어라 (객체를 처음 생성할 때? 저절로 자동으로 실행..)\n",
        "#self가 이 클래스가 만들어내는 자기 자신의 변수,,,,\n",
        "#result라는 이름 대신 다른 것 쓸 수 있지만 나머지 부분 암기!!!!\n",
        "  def add(self, n): #n부분이 입력\n",
        "    self.result+=n #n만큼 더 더해주는 것 +- 사인 - 자기 자신에다가 n만큼 더 더해주는 것, 업데이트 해서)\n",
        "    return self.result\n",
        "#실행시키면 정의된 것이 메모리에 저장됨!"
      ],
      "execution_count": null,
      "outputs": []
    },
    {
      "cell_type": "code",
      "metadata": {
        "colab": {
          "base_uri": "https://localhost:8080/"
        },
        "id": "lKH0zu8hoaau",
        "outputId": "3cb4c15c-dcf1-4007-bc19-017c23eea724"
      },
      "source": [
        "A=cal() #이 클래스를 가지고 A를 찍어냄, 이 때 A가 객체임\n",
        "#무조건 위에 두 줄이 실행 됨\n",
        "#self는 자기자신에 result라는 걸 내부적으로 만드어서 그 변수에 0을 주는 것\n",
        "A.result #0나옴 --> ㄷ위에 두 줄이 실행 됐다는 것\n",
        "#A라는 객체는 0을 갖고 있음"
      ],
      "execution_count": null,
      "outputs": [
        {
          "output_type": "execute_result",
          "data": {
            "text/plain": [
              "0"
            ]
          },
          "metadata": {
            "tags": []
          },
          "execution_count": 37
        }
      ]
    },
    {
      "cell_type": "code",
      "metadata": {
        "colab": {
          "base_uri": "https://localhost:8080/"
        },
        "id": "nxC3cn9Mox6G",
        "outputId": "b0f9a59c-8f55-4cb0-ed11-a42b704c41ab"
      },
      "source": [
        "A.add(4) #객체를 먼저 만들고 객체.add() 하면..\n",
        "#self,n이었는데, n이 들어가고 self는 사실상 입력으로 들어가는 것 아니고 A 지칭, n만 실제로 들어감\n",
        "#원래 result가 0이었는데, 4라는 게 입력으로 들어와서 추가로 더해진다.\n",
        "#result가 4가 됨"
      ],
      "execution_count": null,
      "outputs": [
        {
          "output_type": "execute_result",
          "data": {
            "text/plain": [
              "4"
            ]
          },
          "metadata": {
            "tags": []
          },
          "execution_count": 38
        }
      ]
    },
    {
      "cell_type": "code",
      "metadata": {
        "colab": {
          "base_uri": "https://localhost:8080/"
        },
        "id": "RSesKDSeo6AZ",
        "outputId": "a9efe131-90f1-40d1-a1c1-f703a426568a"
      },
      "source": [
        "A.add(6)"
      ],
      "execution_count": null,
      "outputs": [
        {
          "output_type": "execute_result",
          "data": {
            "text/plain": [
              "10"
            ]
          },
          "metadata": {
            "tags": []
          },
          "execution_count": 39
        }
      ]
    },
    {
      "cell_type": "code",
      "metadata": {
        "id": "CUHo0Q1bpcy6"
      },
      "source": [
        "B=cal() #B라는 객체 하나 더 만듦"
      ],
      "execution_count": null,
      "outputs": []
    },
    {
      "cell_type": "code",
      "metadata": {
        "colab": {
          "base_uri": "https://localhost:8080/"
        },
        "id": "iyNm7xqoprYo",
        "outputId": "31a156bb-ef30-4ab3-f851-35765a1cedba"
      },
      "source": [
        "B.result #B 새로 만들어서 첫 시작은 0, result가 객체의 변수"
      ],
      "execution_count": null,
      "outputs": [
        {
          "output_type": "execute_result",
          "data": {
            "text/plain": [
              "0"
            ]
          },
          "metadata": {
            "tags": []
          },
          "execution_count": 41
        }
      ]
    },
    {
      "cell_type": "code",
      "metadata": {
        "colab": {
          "base_uri": "https://localhost:8080/"
        },
        "id": "atc5KWUypumu",
        "outputId": "ef94540f-7d9c-46e6-d182-58b9de1d019b"
      },
      "source": [
        "B.add(5) #점프투파이썬에 클래스 부분 읽어서 숙지할 것"
      ],
      "execution_count": null,
      "outputs": [
        {
          "output_type": "execute_result",
          "data": {
            "text/plain": [
              "5"
            ]
          },
          "metadata": {
            "tags": []
          },
          "execution_count": 43
        }
      ]
    },
    {
      "cell_type": "code",
      "metadata": {
        "colab": {
          "base_uri": "https://localhost:8080/"
        },
        "id": "mi4WlW2ktoLf",
        "outputId": "52664319-233a-4371-d6b5-84f88723a4bd"
      },
      "source": [
        "tmp=cal() #이렇게 객체를 만듦. 이 순간 위에 두 줄 실행 됨\n",
        "print(tmp) #왜 이상시러운 것이 나왔쥥 ㅇ.ㅇ"
      ],
      "execution_count": null,
      "outputs": [
        {
          "output_type": "stream",
          "text": [
            "<__main__.cal object at 0x7fedfedf6150>\n"
          ],
          "name": "stdout"
        }
      ]
    },
    {
      "cell_type": "markdown",
      "metadata": {
        "id": "64ZNig1ap9x7"
      },
      "source": [
        "**점프투파이썬에 클래스 부분 읽어서 숙지할 것**<br>\n",
        "클래스를 어떻게 정의하고 사용하느냐 까지 배움<br>\n",
        "그렇다면 모듈은 어떻게 정의?<br>\n",
        "\n",
        "모듈은 클래스와 함수들 여러 가지를 한 파일 안에다가 모아놓은 것<br>\n",
        "파이썬에서 모듈은 항상 .py여야 함<br>\n",
        "이건 계산기 만드는 데에 필요한 것이다 --> 계산기.py<br>\n",
        "함수와 필요한 것들을 한꺼번에 모아놓은 파일 = 모듈<br>\n",
        "모듈은 파일!<br>\n",
        "모듈이란 함수나 변수 또는 클래스를 모아 놓은 파일이다.<br>\n",
        "변수 a=1이런 것도 모아놓을 수 있겠지<br>\n",
        "하나의 \"파일\"에 모아놓은 것이다!<br>\n",
        "\n",
        "모듈은 00.py<br>\n",
        "이 파일 내에 클래스와 펑션 여러 개 가능<br>\n",
        "\n",
        "mod1.py --> mod2, mod3도 있을 수 있음<br>\n",
        "mod1,2,3이 한 폴더 안에 있을 수 있음<br>\n",
        "mod 5, 6, 7 에서 B폴더<br>\n",
        "또 C라는 폴더 만들 수 있음<br>\n",
        "폴더 A, B, C 합쳐서 D라는 **패키지**를 만들 수 있음<br>\n",
        "모듈은 파일<br>\n",
        "패키지 또는 모듈을 불러와서 쓸 필요가 있음<br>\n",
        "\n",
        "모듈 안에 클래스와 펑션이 들어 있음<br>\n",
        "다른 사람이 만들어놓은 패키지 속에 폴더가 들어 있고 그 속에 모듈들이 들어있고 그 속에 클래스와 펑션이 들어 있음<br>\n",
        "임포트라는 명령 --> 위에 것들을 어떻게 잘 쓸 것인가~~<br>\n",
        "\n",
        "교수님 리퍼지토리에 Import.ipynb<br>\n",
        "\n",
        "**numpy** - 파이썬에서 제일 유명한 패키지! ㅎㅎ<br>\n",
        "\n",
        "matplotlib 이라는 폴더가 있돵<br>\n",
        "그 속에 pyplot.py이라는 모듈이 있돵<br>\n",
        "모듈 속엔 펑션도 있고, 클래스도 있고~ ㅎㅎ<br>\n",
        "여러가지 펑션 중에서 hist라는 펑션이 있음<br>\n",
        "이걸 어떻게 불러올꽝~~ --> 여러 가지 방법이 있쥥<br>\n",
        "\n"
      ]
    },
    {
      "cell_type": "code",
      "metadata": {
        "id": "byV9_GM7p1Iu"
      },
      "source": [
        "#matplotlib이라는 커다란 패키지가 있고, 그 속에 pyplot이라는 모듈 -> pylot.py\n",
        "#여러가지 펑션과 클래스 중 하나의 펑션이 hist()\n"
      ],
      "execution_count": null,
      "outputs": []
    },
    {
      "cell_type": "code",
      "metadata": {
        "colab": {
          "base_uri": "https://localhost:8080/"
        },
        "id": "woz24bE8wNjA",
        "outputId": "230819a6-cb25-4103-ddb6-7ef5927867bf"
      },
      "source": [
        "import numpy as np\n",
        "n = np.random.randn(100)\n",
        "n #0을 중심으로 정규분포를 갖는 100개의 n을 랜덤하게..)"
      ],
      "execution_count": null,
      "outputs": [
        {
          "output_type": "execute_result",
          "data": {
            "text/plain": [
              "array([ 1.15804252e+00, -1.69825006e+00, -1.09629300e+00, -2.52741808e+00,\n",
              "        5.44215387e-01,  3.95678812e-01, -9.70676324e-01, -5.14279918e-01,\n",
              "       -1.16111152e+00, -1.46975790e+00, -4.00246232e-04,  6.22777805e-01,\n",
              "        8.67603181e-01, -1.99208764e-01, -5.53976255e-01, -2.80034723e-01,\n",
              "        1.18391837e+00,  1.00116807e+00, -3.06472790e-01, -1.01462994e-01,\n",
              "       -1.20380076e-01,  1.70756028e-01, -1.11036754e+00, -1.30637259e+00,\n",
              "       -1.14949622e+00, -1.17048738e-01,  7.53829416e-03,  3.00906131e-01,\n",
              "        8.28835090e-01, -4.60315367e-01, -1.00741618e+00, -1.72859371e-01,\n",
              "       -4.43237712e-01, -1.49742679e-01, -6.66135815e-01, -5.75075479e-01,\n",
              "       -3.96105697e-01,  1.14551794e+00,  3.41041320e-01, -1.25556679e+00,\n",
              "       -5.85209274e-01, -2.14449034e-01, -4.40705403e-01,  5.68399441e-01,\n",
              "       -2.55666244e-02,  1.70353825e+00, -3.71297786e-01,  8.83288739e-01,\n",
              "        1.01529213e+00, -4.27184764e-01, -6.86063641e-01,  7.65489619e-01,\n",
              "       -3.44472778e-01,  1.58011125e+00,  5.31153714e-01, -4.16449960e-01,\n",
              "        1.23052501e-01,  1.25336716e+00,  1.20216536e+00, -2.41541456e-01,\n",
              "        6.65834721e-01,  7.12316318e-01, -8.82067049e-01, -1.44076772e+00,\n",
              "        9.41877566e-01,  7.56685648e-01, -2.41804725e-01, -9.83083292e-01,\n",
              "        6.58526331e-01,  1.20252253e+00,  2.14621981e+00,  2.35380648e-01,\n",
              "        2.31673652e+00, -7.46867770e-01, -1.88591501e+00, -6.64300682e-01,\n",
              "        1.47475760e+00, -4.41649330e-01, -6.63673190e-01, -9.62018594e-01,\n",
              "        6.37982983e-01,  3.01220816e-01, -5.29270980e-01,  3.67580784e-01,\n",
              "        1.54968968e+00,  7.97496005e-01, -1.07228107e+00,  4.59861513e-01,\n",
              "        2.26713930e+00,  9.82575155e-01,  4.32817991e-01,  5.75274745e-02,\n",
              "       -1.44645610e+00, -1.36431329e-01, -1.10503211e+00, -7.06168371e-01,\n",
              "        1.72517210e+00, -6.83131172e-01, -3.30145668e-01, -5.80654192e-01])"
            ]
          },
          "metadata": {
            "tags": []
          },
          "execution_count": 48
        }
      ]
    },
    {
      "cell_type": "code",
      "metadata": {
        "colab": {
          "base_uri": "https://localhost:8080/",
          "height": 359
        },
        "id": "Q52yTQXfwRqg",
        "outputId": "0f4d13b0-4bdc-4842-a8a8-419f815ec0eb"
      },
      "source": [
        "import matplotlib\n",
        "matplotlib.pyplot.hist(n)\n",
        "\n",
        "#import matplotlib.pyplot as plt\n",
        "#from matplotlib import pyplot\n",
        "#from matplotlib.pylot import hist"
      ],
      "execution_count": null,
      "outputs": [
        {
          "output_type": "execute_result",
          "data": {
            "text/plain": [
              "(array([ 1.,  2., 10., 13., 27., 12., 15., 12.,  5.,  3.]),\n",
              " array([-2.52741808, -2.04300262, -1.55858716, -1.0741717 , -0.58975624,\n",
              "        -0.10534078,  0.37907468,  0.86349014,  1.3479056 ,  1.83232106,\n",
              "         2.31673652]),\n",
              " <a list of 10 Patch objects>)"
            ]
          },
          "metadata": {
            "tags": []
          },
          "execution_count": 50
        },
        {
          "output_type": "display_data",
          "data": {
            "image/png": "[encoded data removed]",
            "text/plain": [
              "<Figure size 432x288 with 1 Axes>"
            ]
          },
          "metadata": {
            "tags": [],
            "needs_background": "light"
          }
        }
      ]
    },
    {
      "cell_type": "code",
      "metadata": {
        "colab": {
          "base_uri": "https://localhost:8080/",
          "height": 359
        },
        "id": "VzQNXZtzwkeN",
        "outputId": "4d660250-2690-4069-e2f7-5118a951903e"
      },
      "source": [
        "import matplotlib.pyplot #패키지 안에 있는 모듈까지 임포트 하라\n",
        "matplotlib.pyplot.hist(n) #인덴트 쓰면 안 됨"
      ],
      "execution_count": null,
      "outputs": [
        {
          "output_type": "execute_result",
          "data": {
            "text/plain": [
              "(array([ 1.,  2., 10., 13., 27., 12., 15., 12.,  5.,  3.]),\n",
              " array([-2.52741808, -2.04300262, -1.55858716, -1.0741717 , -0.58975624,\n",
              "        -0.10534078,  0.37907468,  0.86349014,  1.3479056 ,  1.83232106,\n",
              "         2.31673652]),\n",
              " <a list of 10 Patch objects>)"
            ]
          },
          "metadata": {
            "tags": []
          },
          "execution_count": 54
        },
        {
          "output_type": "display_data",
          "data": {
            "image/png": "[encoded data removed]",
            "text/plain": [
              "<Figure size 432x288 with 1 Axes>"
            ]
          },
          "metadata": {
            "tags": [],
            "needs_background": "light"
          }
        }
      ]
    },
    {
      "cell_type": "code",
      "metadata": {
        "colab": {
          "base_uri": "https://localhost:8080/",
          "height": 359
        },
        "id": "k4I3YtEOwth4",
        "outputId": "992ba245-1b18-418c-91ca-08c7f431cab9"
      },
      "source": [
        "from matplotlib import pyplot #pylot을 임포트 함 #상위 개념을 먼저 from으로 쓰고 하위 개념을 from을 쓰고\n",
        "pyplot.hist(n) #임포트 한 것만 불러오면 됨 "
      ],
      "execution_count": null,
      "outputs": [
        {
          "output_type": "execute_result",
          "data": {
            "text/plain": [
              "(array([ 1.,  2., 10., 13., 27., 12., 15., 12.,  5.,  3.]),\n",
              " array([-2.52741808, -2.04300262, -1.55858716, -1.0741717 , -0.58975624,\n",
              "        -0.10534078,  0.37907468,  0.86349014,  1.3479056 ,  1.83232106,\n",
              "         2.31673652]),\n",
              " <a list of 10 Patch objects>)"
            ]
          },
          "metadata": {
            "tags": []
          },
          "execution_count": 55
        },
        {
          "output_type": "display_data",
          "data": {
            "image/png": "[encoded data removed]",
            "text/plain": [
              "<Figure size 432x288 with 1 Axes>"
            ]
          },
          "metadata": {
            "tags": [],
            "needs_background": "light"
          }
        }
      ]
    },
    {
      "cell_type": "code",
      "metadata": {
        "colab": {
          "base_uri": "https://localhost:8080/",
          "height": 359
        },
        "id": "u0IEGYeaw_7g",
        "outputId": "55a1f98b-3622-46c6-c364-b4b7dd8729e9"
      },
      "source": [
        "from matplotlib.pyplot import hist\n",
        "hist(n) #이렇게 쓸 수도 있음"
      ],
      "execution_count": null,
      "outputs": [
        {
          "output_type": "execute_result",
          "data": {
            "text/plain": [
              "(array([ 1.,  2., 10., 13., 27., 12., 15., 12.,  5.,  3.]),\n",
              " array([-2.52741808, -2.04300262, -1.55858716, -1.0741717 , -0.58975624,\n",
              "        -0.10534078,  0.37907468,  0.86349014,  1.3479056 ,  1.83232106,\n",
              "         2.31673652]),\n",
              " <a list of 10 Patch objects>)"
            ]
          },
          "metadata": {
            "tags": []
          },
          "execution_count": 56
        },
        {
          "output_type": "display_data",
          "data": {
            "image/png": "[encoded data removed]",
            "text/plain": [
              "<Figure size 432x288 with 1 Axes>"
            ]
          },
          "metadata": {
            "tags": [],
            "needs_background": "light"
          }
        }
      ]
    },
    {
      "cell_type": "markdown",
      "metadata": {
        "id": "Pv9cXZfPxa6u"
      },
      "source": [
        "package(folder)가 있고 그 안에 subfolder같은 게 있을 수 있고, 그 안에 **~~.py라는 모듈**이 들어가 있음<br>\n",
        "모듈 속에는 function과 class가 (많이!) 들어있다..!<br>\n",
        "쓸 때 **import 또는 from import**를 잘 써야 함~~<br>\n",
        "\n",
        "numpy라는 패키지..!<br>\n",
        "\n",
        "import나 from import를 쓰는 것은 외부 패키지<br>\n",
        "\n",
        "Colab이 구글에서 사용하는 클라우드 환경<br>\n",
        "기본 패키지 깔려 있고,<br>\n",
        "구글 콜랩에 거의 이미 install 되어 있음<br>\n",
        "\n",
        "numpy는 이미 깔려 있어서 pip install하지 않고 바로 쓸 수 있음!<br>\n",
        "\n"
      ]
    }
  ]
}