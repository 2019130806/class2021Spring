{
  "nbformat": 4,
  "nbformat_minor": 0,
  "metadata": {
    "colab": {
      "name": "variables.ipynb",
      "provenance": [],
      "authorship_tag": "ABX9TyMPELIQ9MYL2yWqntUckfUb",
      "include_colab_link": true
    },
    "kernelspec": {
      "name": "python3",
      "display_name": "Python 3"
    }
  },
  "cells": [
    {
      "cell_type": "markdown",
      "metadata": {
        "id": "view-in-github",
        "colab_type": "text"
      },
      "source": [
        "<a href=\"https://colab.research.google.com/github/2019130806/class2021Spring/blob/main/variables.ipynb\" target=\"_parent\"><img src=\"https://colab.research.google.com/assets/colab-badge.svg\" alt=\"Open In Colab\"/></a>"
      ]
    },
    {
      "cell_type": "code",
      "metadata": {
        "colab": {
          "base_uri": "https://localhost:8080/"
        },
        "id": "KikcP34yW8bD",
        "outputId": "74abc6a4-e580-4c50-c0da-782576d28fec"
      },
      "source": [
        "a=1\r\n",
        "print(type(a))\r\n",
        "#int = integer 정수"
      ],
      "execution_count": 1,
      "outputs": [
        {
          "output_type": "stream",
          "text": [
            "<class 'int'>\n"
          ],
          "name": "stdout"
        }
      ]
    },
    {
      "cell_type": "code",
      "metadata": {
        "colab": {
          "base_uri": "https://localhost:8080/"
        },
        "id": "7u7T92-hXCwI",
        "outputId": "71f6b4ed-19e4-4174-f056-d33e9bba7e4d"
      },
      "source": [
        "a=1\r\n",
        "a=float(a) #float는 뭘까? = 소수\r\n",
        "print(type(a))\r\n",
        "print(a)"
      ],
      "execution_count": 5,
      "outputs": [
        {
          "output_type": "stream",
          "text": [
            "<class 'float'>\n",
            "1.0\n"
          ],
          "name": "stdout"
        }
      ]
    },
    {
      "cell_type": "code",
      "metadata": {
        "colab": {
          "base_uri": "https://localhost:8080/"
        },
        "id": "X2dV4CPGXh4K",
        "outputId": "1efca111-fec3-485f-d129-615bf4e00de1"
      },
      "source": [
        "a=1.2\r\n",
        "a=int(a)\r\n",
        "print(type(a))\r\n",
        "print(a) #위에서 1.2를 integer라고 assign해줬응께 반올림해서 1.2가 정수 1이 됨"
      ],
      "execution_count": 6,
      "outputs": [
        {
          "output_type": "stream",
          "text": [
            "<class 'int'>\n",
            "1\n"
          ],
          "name": "stdout"
        }
      ]
    },
    {
      "cell_type": "code",
      "metadata": {
        "colab": {
          "base_uri": "https://localhost:8080/"
        },
        "id": "76Ocphm6Xoma",
        "outputId": "077954b2-0516-42f2-fb51-b51ea13d2e56"
      },
      "source": [
        "a='123'\r\n",
        "print(type(a)) #string: 문자열\r\n",
        "print(a[1]) #a에 있는 문자 character 중 두번째 것 프린트 --> 2"
      ],
      "execution_count": 7,
      "outputs": [
        {
          "output_type": "stream",
          "text": [
            "<class 'str'>\n",
            "2\n"
          ],
          "name": "stdout"
        }
      ]
    },
    {
      "cell_type": "code",
      "metadata": {
        "colab": {
          "base_uri": "https://localhost:8080/"
        },
        "id": "f5RxcwbeYNge",
        "outputId": "05cab634-469b-4ea8-9ac0-28ac2e2d48ba"
      },
      "source": [
        "a='123'\r\n",
        "a=list(a)\r\n",
        "print(type(a)) #list\r\n",
        "print(a) #['1', '2', '3'] <-- 리스트!\r\n",
        "print(a[2]) #3"
      ],
      "execution_count": 8,
      "outputs": [
        {
          "output_type": "stream",
          "text": [
            "<class 'list'>\n",
            "['1', '2', '3']\n",
            "3\n"
          ],
          "name": "stdout"
        }
      ]
    },
    {
      "cell_type": "code",
      "metadata": {
        "colab": {
          "base_uri": "https://localhost:8080/"
        },
        "id": "2mHtYa1QYiUE",
        "outputId": "547b004d-8efc-497d-a7bd-c1a2ebd2405e"
      },
      "source": [
        "a=[1, '2', [3, '4']]\r\n",
        "print(type(a)) #list\r\n",
        "print(a[0]) #1\r\n",
        "print(a[1]) #2\r\n",
        "print(a[2]) #[3, '4']"
      ],
      "execution_count": 10,
      "outputs": [
        {
          "output_type": "stream",
          "text": [
            "<class 'list'>\n",
            "1\n",
            "2\n",
            "[3, '4']\n"
          ],
          "name": "stdout"
        }
      ]
    },
    {
      "cell_type": "code",
      "metadata": {
        "colab": {
          "base_uri": "https://localhost:8080/"
        },
        "id": "J2sunCA0YpbO",
        "outputId": "f3d996f6-6b07-4e35-ddf0-8699075f436f"
      },
      "source": [
        "a=(1, '2', [3, '4']) #tuple 투플 =나열형\r\n",
        "print(type(a)) #tuple\r\n",
        "print(a[0]) #1\r\n",
        "print(a[1]) #2\r\n",
        "print(a[2]) #[3, '4']"
      ],
      "execution_count": 11,
      "outputs": [
        {
          "output_type": "stream",
          "text": [
            "<class 'tuple'>\n",
            "1\n",
            "2\n",
            "[3, '4']\n"
          ],
          "name": "stdout"
        }
      ]
    },
    {
      "cell_type": "code",
      "metadata": {
        "colab": {
          "base_uri": "https://localhost:8080/"
        },
        "id": "X54Hg46yZcay",
        "outputId": "131e4977-06f3-4dcc-af71-c7948a0a1e89"
      },
      "source": [
        "a={\"a\": \"apple\", \"b\": \"orange\", \"c\": 2014}\r\n",
        "print(type(a)) #dict = dictionary\r\n",
        "print(a[\"a\"]) #apple"
      ],
      "execution_count": 14,
      "outputs": [
        {
          "output_type": "stream",
          "text": [
            "<class 'dict'>\n",
            "apple\n"
          ],
          "name": "stdout"
        }
      ]
    },
    {
      "cell_type": "code",
      "metadata": {
        "colab": {
          "base_uri": "https://localhost:8080/"
        },
        "id": "j42DquXRZpKP",
        "outputId": "7eec1df7-b9b9-4f23-91c7-cc590e83e91b"
      },
      "source": [
        "a=[(1,2,3), (3,8,0)]\r\n",
        "print(type(a)) #list\r\n",
        "a #[(1,2,3,), (3,8,0)]"
      ],
      "execution_count": 15,
      "outputs": [
        {
          "output_type": "stream",
          "text": [
            "<class 'list'>\n"
          ],
          "name": "stdout"
        },
        {
          "output_type": "execute_result",
          "data": {
            "text/plain": [
              "[(1, 2, 3), (3, 8, 0)]"
            ]
          },
          "metadata": {
            "tags": []
          },
          "execution_count": 15
        }
      ]
    }
  ]
}