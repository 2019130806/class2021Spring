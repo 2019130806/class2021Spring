{
  "nbformat": 4,
  "nbformat_minor": 0,
  "metadata": {
    "colab": {
      "name": "흐규규나머지공부해보기ㅠ너무어렵다.ipynb",
      "provenance": [],
      "authorship_tag": "ABX9TyPG7JqsbKJE3nRn/DJhjh0Y",
      "include_colab_link": true
    },
    "kernelspec": {
      "name": "python3",
      "display_name": "Python 3"
    },
    "language_info": {
      "name": "python"
    }
  },
  "cells": [
    {
      "cell_type": "markdown",
      "metadata": {
        "id": "view-in-github",
        "colab_type": "text"
      },
      "source": [
        "<a href=\"https://colab.research.google.com/github/2019130806/class2021Spring/blob/main/%ED%9D%90%EA%B7%9C%EA%B7%9C%EB%82%98%EB%A8%B8%EC%A7%80%EA%B3%B5%EB%B6%80%ED%95%B4%EB%B3%B4%EA%B8%B0%E3%85%A0%EB%84%88%EB%AC%B4%EC%96%B4%EB%A0%B5%EB%8B%A4.ipynb\" target=\"_parent\"><img src=\"https://colab.research.google.com/assets/colab-badge.svg\" alt=\"Open In Colab\"/></a>"
      ]
    },
    {
      "cell_type": "code",
      "metadata": {
        "id": "JMXqSKAhKrhB"
      },
      "source": [
        "class cal:\n",
        "  def __init__(self):\n",
        "    self.result=0\n",
        "  def add(self,n):\n",
        "    self.reslt+=n\n",
        "    return self.result\n"
      ],
      "execution_count": 6,
      "outputs": []
    },
    {
      "cell_type": "code",
      "metadata": {
        "colab": {
          "base_uri": "https://localhost:8080/"
        },
        "id": "mVAQJcmrMJTY",
        "outputId": "2d9b6915-473a-4e35-b637-c20484ac6fad"
      },
      "source": [
        "A=cal()\n",
        "A.result"
      ],
      "execution_count": 7,
      "outputs": [
        {
          "output_type": "execute_result",
          "data": {
            "text/plain": [
              "0"
            ]
          },
          "metadata": {
            "tags": []
          },
          "execution_count": 7
        }
      ]
    },
    {
      "cell_type": "code",
      "metadata": {
        "colab": {
          "base_uri": "https://localhost:8080/"
        },
        "id": "AwRwum7xM5WZ",
        "outputId": "77b62709-669b-4f32-ac56-e1bb8ae00d13"
      },
      "source": [
        "A.add(4)"
      ],
      "execution_count": 8,
      "outputs": [
        {
          "output_type": "execute_result",
          "data": {
            "text/plain": [
              "4"
            ]
          },
          "metadata": {
            "tags": []
          },
          "execution_count": 8
        }
      ]
    },
    {
      "cell_type": "code",
      "metadata": {
        "colab": {
          "base_uri": "https://localhost:8080/"
        },
        "id": "x8b2JWRWM_Qf",
        "outputId": "f131d997-4341-4aba-9c97-b50651665f12"
      },
      "source": [
        "A.add(6)"
      ],
      "execution_count": 9,
      "outputs": [
        {
          "output_type": "execute_result",
          "data": {
            "text/plain": [
              "10"
            ]
          },
          "metadata": {
            "tags": []
          },
          "execution_count": 9
        }
      ]
    },
    {
      "cell_type": "code",
      "metadata": {
        "colab": {
          "base_uri": "https://localhost:8080/"
        },
        "id": "OaE_69RKNCBa",
        "outputId": "5af79a9f-8239-4f2d-d8f6-e83304ff95f6"
      },
      "source": [
        "B=cal()\n",
        "B.3"
      ],
      "execution_count": 11,
      "outputs": [
        {
          "output_type": "execute_result",
          "data": {
            "text/plain": [
              "0"
            ]
          },
          "metadata": {
            "tags": []
          },
          "execution_count": 11
        }
      ]
    },
    {
      "cell_type": "code",
      "metadata": {
        "colab": {
          "base_uri": "https://localhost:8080/"
        },
        "id": "wJefBxT3K57i",
        "outputId": "0687a453-884b-4ba0-d3e7-978cab39a914"
      },
      "source": [
        "def func1(a,b,x):\n",
        "  y=a*x+b\n",
        "  return y\n",
        "result=func1(5,2,3)\n",
        "result"
      ],
      "execution_count": 1,
      "outputs": [
        {
          "output_type": "execute_result",
          "data": {
            "text/plain": [
              "17"
            ]
          },
          "metadata": {
            "tags": []
          },
          "execution_count": 1
        }
      ]
    },
    {
      "cell_type": "code",
      "metadata": {
        "id": "L1X-6VACLEHX"
      },
      "source": [
        "def add(a,b):\n",
        "  return a+b\n",
        "\n",
        "def subtract(a,b):\n",
        "  return a-b\n",
        "\n",
        "def multiply(a,b):\n",
        "  return a*b\n",
        "\n",
        "def divide(a,b):\n",
        "  return a/b"
      ],
      "execution_count": 18,
      "outputs": []
    },
    {
      "cell_type": "code",
      "metadata": {
        "colab": {
          "base_uri": "https://localhost:8080/"
        },
        "id": "G7GlijZGgx4M",
        "outputId": "9514add1-d2cf-49cc-d10e-9efcb41a8264"
      },
      "source": [
        "c=add(1,2)\n",
        "print(c)\n",
        "d=subtract(7,2)\n",
        "print(d)\n",
        "e=multiply(8,3)\n",
        "print(e)\n",
        "f=divide(9,3)\n",
        "print(f)"
      ],
      "execution_count": 21,
      "outputs": [
        {
          "output_type": "stream",
          "text": [
            "3\n",
            "5\n",
            "24\n",
            "3.0\n"
          ],
          "name": "stdout"
        }
      ]
    },
    {
      "cell_type": "code",
      "metadata": {
        "id": "UmMaL3KQg1sS"
      },
      "source": [
        "class spring:\n",
        "  def __init__(self):\n",
        "    self.result=7\n",
        "  def add(self,m):\n",
        "    self.result+=m\n",
        "    return self.result"
      ],
      "execution_count": 27,
      "outputs": []
    },
    {
      "cell_type": "code",
      "metadata": {
        "colab": {
          "base_uri": "https://localhost:8080/"
        },
        "id": "x8WPVlX0imzA",
        "outputId": "0bb145ab-0e88-4f81-83df-e889a5ad0b6a"
      },
      "source": [
        "C=spring()\n",
        "C.result"
      ],
      "execution_count": 29,
      "outputs": [
        {
          "output_type": "execute_result",
          "data": {
            "text/plain": [
              "7"
            ]
          },
          "metadata": {
            "tags": []
          },
          "execution_count": 29
        }
      ]
    },
    {
      "cell_type": "code",
      "metadata": {
        "colab": {
          "base_uri": "https://localhost:8080/"
        },
        "id": "mV89oEbFizwK",
        "outputId": "eac9c1a2-74d7-4db3-8514-e5f4ad7fe701"
      },
      "source": [
        "C.add(5)"
      ],
      "execution_count": 30,
      "outputs": [
        {
          "output_type": "execute_result",
          "data": {
            "text/plain": [
              "12"
            ]
          },
          "metadata": {
            "tags": []
          },
          "execution_count": 30
        }
      ]
    },
    {
      "cell_type": "code",
      "metadata": {
        "colab": {
          "base_uri": "https://localhost:8080/"
        },
        "id": "q2if7qvdi4mo",
        "outputId": "a24b2a5b-5cb4-4604-eabe-d96733c733cc"
      },
      "source": [
        "C.add(7)"
      ],
      "execution_count": 32,
      "outputs": [
        {
          "output_type": "execute_result",
          "data": {
            "text/plain": [
              "19"
            ]
          },
          "metadata": {
            "tags": []
          },
          "execution_count": 32
        }
      ]
    },
    {
      "cell_type": "code",
      "metadata": {
        "colab": {
          "base_uri": "https://localhost:8080/"
        },
        "id": "BizInLLZi2Cb",
        "outputId": "e9eff6d1-304a-4930-b7ab-7a02f94327fa"
      },
      "source": [
        "D=spring()\n",
        "D.result"
      ],
      "execution_count": 31,
      "outputs": [
        {
          "output_type": "execute_result",
          "data": {
            "text/plain": [
              "7"
            ]
          },
          "metadata": {
            "tags": []
          },
          "execution_count": 31
        }
      ]
    },
    {
      "cell_type": "code",
      "metadata": {
        "id": "yFN3iYzlhfqn"
      },
      "source": [
        "def func2(a,x,b,c):\n",
        "  y=a*x**2+b*x+c\n",
        "  return y"
      ],
      "execution_count": 23,
      "outputs": []
    },
    {
      "cell_type": "code",
      "metadata": {
        "colab": {
          "base_uri": "https://localhost:8080/"
        },
        "id": "1TFkWqBuhpl6",
        "outputId": "d1c298a7-2983-4b06-ed1b-50425990a602"
      },
      "source": [
        "func2(3,2,-1,7)"
      ],
      "execution_count": 25,
      "outputs": [
        {
          "output_type": "execute_result",
          "data": {
            "text/plain": [
              "17"
            ]
          },
          "metadata": {
            "tags": []
          },
          "execution_count": 25
        }
      ]
    },
    {
      "cell_type": "code",
      "metadata": {
        "id": "I9Db8-j5htN7"
      },
      "source": [
        "import numpy as np\n",
        "n=np.random.randn(100)"
      ],
      "execution_count": 26,
      "outputs": []
    },
    {
      "cell_type": "code",
      "metadata": {
        "id": "PaNPPLbJh9tH"
      },
      "source": [
        "import matplotlib\n",
        "import matplotlib.pyplot as plt\n",
        "from #임포트는 도저히 모르겠다아아아아아아아아아아"
      ],
      "execution_count": null,
      "outputs": []
    },
    {
      "cell_type": "code",
      "metadata": {
        "id": "akkf7wHBjULg"
      },
      "source": [
        ""
      ],
      "execution_count": null,
      "outputs": []
    }
  ]
}