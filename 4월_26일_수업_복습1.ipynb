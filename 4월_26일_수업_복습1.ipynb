{
  "nbformat": 4,
  "nbformat_minor": 0,
  "metadata": {
    "colab": {
      "name": "4월 26일 수업 복습1.ipynb",
      "provenance": [],
      "collapsed_sections": [],
      "authorship_tag": "ABX9TyP+kLFNzk0Eu355BpcyGPt8",
      "include_colab_link": true
    },
    "kernelspec": {
      "name": "python3",
      "display_name": "Python 3"
    },
    "language_info": {
      "name": "python"
    }
  },
  "cells": [
    {
      "cell_type": "markdown",
      "metadata": {
        "id": "view-in-github",
        "colab_type": "text"
      },
      "source": [
        "<a href=\"https://colab.research.google.com/github/2019130806/class2021Spring/blob/main/4%EC%9B%94_26%EC%9D%BC_%EC%88%98%EC%97%85_%EB%B3%B5%EC%8A%B51.ipynb\" target=\"_parent\"><img src=\"https://colab.research.google.com/assets/colab-badge.svg\" alt=\"Open In Colab\"/></a>"
      ]
    },
    {
      "cell_type": "code",
      "metadata": {
        "id": "FGeWFjSQR8Kk"
      },
      "source": [
        "import numpy as np #np.arange 사용\n",
        "from matplotlib import pyplot as plt #plt.figure 사용\n",
        "import IPython.display as ipd #뒤에 ipd.Audio해서 사용"
      ],
      "execution_count": 3,
      "outputs": []
    },
    {
      "cell_type": "code",
      "metadata": {
        "id": "UAuVn_aRSX26"
      },
      "source": [
        "amp=1 #진폭과 관련\n",
        "dur=0.5 #초(s)\n",
        "freq=100 #1초에 cycle 몇 번 반복\n",
        "sr=10000 #1초에 샘플 값 몇 개?"
      ],
      "execution_count": 4,
      "outputs": []
    },
    {
      "cell_type": "code",
      "metadata": {
        "id": "Y1_nhxN-Sdvr"
      },
      "source": [
        "t=np.arange(1,sr*dur+1)/sr #(1,5001)=1~5000/sr --> 0초부터 0.5초까지 시간 생성\n",
        "theta=t*2*np.pi*freq #마지막 시간에 2파이 곱해주면 1Hz짜리! 거기에 freq곱해주면 100Hz짜리! 시간*2파이*freq\n",
        "s=np.sin(theta) #싸인 함수에 입력값 theta! s가지고 실질적인 소리나 그림 만들 수 있음"
      ],
      "execution_count": 5,
      "outputs": []
    },
    {
      "cell_type": "code",
      "metadata": {
        "colab": {
          "base_uri": "https://localhost:8080/",
          "height": 74
        },
        "id": "ucEOTfqlSse9",
        "outputId": "33ecc081-faec-44ef-9f0b-b9fa13fa4619"
      },
      "source": [
        "ipd.Audio(s, rate=sr) #위 parameter 세팅에서 frequency 높여주면 더 높은 소리 남"
      ],
      "execution_count": 7,
      "outputs": [
        {
          "output_type": "execute_result",
          "data": {
            "text/html": [
              "\n",
              "                <audio controls=\"controls\" >\n",
              "                    <source src=\"data:audio/wav;base64,UklGRjQnAABXQVZFZm10IBAAAAABAAEAECcAACBOAAACABAAZGF0YRAnAAAJCAoQ+xfUH40nHi9/Nqk9lUQ7S5ZRnldOXZ9ijWcSbClw0HMBd7t5+Xu6ffx+vn//f75//H66ffl7u3kBd9BzKXASbI1nn2JOXZ5XllE7S5VEqT1/Nh4vjSfUH/sXChAJCAAA9/f27wXoLOBz2OLQgclXwmu7xbRqrmKosqJhnXOY7pPXjzCM/4hFhgeERoIEgUKAAYBCgASBRoIHhEWG/4gwjNeP7pNzmGGdsqJiqGquxbRru1fCgcni0HPYLOAF6Pbv9/cAAAkIChD7F9QfjSceL382qT2VRDtLllGeV05dn2KNZxJsKXDQcwF3u3n5e7p9/H6+f/9/vn/8frp9+Xu7eQF30HMpcBJsjWefYk5dnleWUTtLlUSpPX82Hi+NJ9Qf+xcKEAkIAAD39/bvBegs4HPY4tCByVfCa7vFtGquYqiyomGdc5juk9ePMIz/iEWGB4RGggSBQoABgEKABIFGggeERYb/iDCM14/uk3OYYZ2yomKoaq7FtGu7V8KByeLQc9gs4AXo9u/39wAACQgKEPsX1B+NJx4vfzapPZVEO0uWUZ5XTl2fYo1nEmwpcNBzAXe7efl7un38fr5//3++f/x+un35e7t5AXfQcylwEmyNZ59iTl2eV5ZRO0uVRKk9fzYeL40n1B/7FwoQCQgAAPf39u8F6Czgc9ji0IHJV8Jru8W0aq5iqLKiYZ1zmO6T148wjP+IRYYHhEaCBIFCgAGAQoAEgUaCB4RFhv+IMIzXj+6Tc5hhnbKiYqhqrsW0a7tXwoHJ4tBz2CzgBej27/f3AAAJCAoQ+xfUH40nHi9/Nqk9lUQ7S5ZRnldOXZ9ijWcSbClw0HMBd7t5+Xu6ffx+vn//f75//H66ffl7u3kBd9BzKXASbI1nn2JOXZ5XllE7S5VEqT1/Nh4vjSfUH/sXChAJCAAA9/f27wXoLOBz2OLQgclXwmu7xbRqrmKosqJhnXOY7pPXjzCM/4hFhgeERoIEgUKAAYBCgASBRoIHhEWG/4gwjNeP7pNzmGGdsqJiqGquxbRru1fCgcni0HPYLOAF6Pbv9/cAAAkIChD7F9QfjSceL382qT2VRDtLllGeV05dn2KNZxJsKXDQcwF3u3n5e7p9/H6+f/9/vn/8frp9+Xu7eQF30HMpcBJsjWefYk5dnleWUTtLlUSpPX82Hi+NJ9Qf+xcKEAkIAAD39/bvBegs4HPY4tCByVfCa7vFtGquYqiyomGdc5juk9ePMIz/iEWGB4RGggSBQoABgEKABIFGggeERYb/iDCM14/uk3OYYZ2yomKoaq7FtGu7V8KByeLQc9gs4AXo9u/39wAACQgKEPsX1B+NJx4vfzapPZVEO0uWUZ5XTl2fYo1nEmwpcNBzAXe7efl7un38fr5//3++f/x+un35e7t5AXfQcylwEmyNZ59iTl2eV5ZRO0uVRKk9fzYeL40n1B/7FwoQCQgAAPf39u8F6Czgc9ji0IHJV8Jru8W0aq5iqLKiYZ1zmO6T148wjP+IRYYHhEaCBIFCgAGAQoAEgUaCB4RFhv+IMIzXj+6Tc5hhnbKiYqhqrsW0a7tXwoHJ4tBz2CzgBej27/f3AAAJCAoQ+xfUH40nHi9/Nqk9lUQ7S5ZRnldOXZ9ijWcSbClw0HMBd7t5+Xu6ffx+vn//f75//H66ffl7u3kBd9BzKXASbI1nn2JOXZ5XllE7S5VEqT1/Nh4vjSfUH/sXChAJCAAA9/f27wXoLOBz2OLQgclXwmu7xbRqrmKosqJhnXOY7pPXjzCM/4hFhgeERoIEgUKAAYBCgASBRoIHhEWG/4gwjNeP7pNzmGGdsqJiqGquxbRru1fCgcni0HPYLOAF6Pbv9/cAAAkIChD7F9QfjSceL382qT2VRDtLllGeV05dn2KNZxJsKXDQcwF3u3n5e7p9/H6+f/9/vn/8frp9+Xu7eQF30HMpcBJsjWefYk5dnleWUTtLlUSpPX82Hi+NJ9Qf+xcKEAkIAAD39/bvBegs4HPY4tCByVfCa7vFtGquYqiyomGdc5juk9ePMIz/iEWGB4RGggSBQoABgEKABIFGggeERYb/iDCM14/uk3OYYZ2yomKoaq7FtGu7V8KByeLQc9gs4AXo9u/39wAACQgKEPsX1B+NJx4vfzapPZVEO0uWUZ5XTl2fYo1nEmwpcNBzAXe7efl7un38fr5//3++f/x+un35e7t5AXfQcylwEmyNZ59iTl2eV5ZRO0uVRKk9fzYeL40n1B/7FwoQCQgAAPf39u8F6Czgc9ji0IHJV8Jru8W0aq5iqLKiYZ1zmO6T148wjP+IRYYHhEaCBIFCgAGAQoAEgUaCB4RFhv+IMIzXj+6Tc5hhnbKiYqhqrsW0a7tXwoHJ4tBz2CzgBej27/f3AAAJCAoQ+xfUH40nHi9/Nqk9lUQ7S5ZRnldOXZ9ijWcSbClw0HMBd7t5+Xu6ffx+vn//f75//H66ffl7u3kBd9BzKXASbI1nn2JOXZ5XllE7S5VEqT1/Nh4vjSfUH/sXChAJCAAA9/f27wXoLOBz2OLQgclXwmu7xbRqrmKosqJhnXOY7pPXjzCM/4hFhgeERoIEgUKAAYBCgASBRoIHhEWG/4gwjNeP7pNzmGGdsqJiqGquxbRru1fCgcni0HPYLOAF6Pbv9/cAAAkIChD7F9QfjSceL382qT2VRDtLllGeV05dn2KNZxJsKXDQcwF3u3n5e7p9/H6+f/9/vn/8frp9+Xu7eQF30HMpcBJsjWefYk5dnleWUTtLlUSpPX82Hi+NJ9Qf+xcKEAkIAAD39/bvBegs4HPY4tCByVfCa7vFtGquYqiyomGdc5juk9ePMIz/iEWGB4RGggSBQoABgEKABIFGggeERYb/iDCM14/uk3OYYZ2yomKoaq7FtGu7V8KByeLQc9gs4AXo9u/39wAACQgKEPsX1B+NJx4vfzapPZVEO0uWUZ5XTl2fYo1nEmwpcNBzAXe7efl7un38fr5//3++f/x+un35e7t5AXfQcylwEmyNZ59iTl2eV5ZRO0uVRKk9fzYeL40n1B/7FwoQCQgAAPf39u8F6Czgc9ji0IHJV8Jru8W0aq5iqLKiYZ1zmO6T148wjP+IRYYHhEaCBIFCgAGAQoAEgUaCB4RFhv+IMIzXj+6Tc5hhnbKiYqhqrsW0a7tXwoHJ4tBz2CzgBej27/f3AAAJCAoQ+xfUH40nHi9/Nqk9lUQ7S5ZRnldOXZ9ijWcSbClw0HMBd7t5+Xu6ffx+vn//f75//H66ffl7u3kBd9BzKXASbI1nn2JOXZ5XllE7S5VEqT1/Nh4vjSfUH/sXChAJCAAA9/f27wXoLOBz2OLQgclXwmu7xbRqrmKosqJhnXOY7pPXjzCM/4hFhgeERoIEgUKAAYBCgASBRoIHhEWG/4gwjNeP7pNzmGGdsqJiqGquxbRru1fCgcni0HPYLOAF6Pbv9/cAAAkIChD7F9QfjSceL382qT2VRDtLllGeV05dn2KNZxJsKXDQcwF3u3n5e7p9/H6+f/9/vn/8frp9+Xu7eQF30HMpcBJsjWefYk5dnleWUTtLlUSpPX82Hi+NJ9Qf+xcKEAkIAAD39/bvBegs4HPY4tCByVfCa7vFtGquYqiyomGdc5juk9ePMIz/iEWGB4RGggSBQoABgEKABIFGggeERYb/iDCM14/uk3OYYZ2yomKoaq7FtGu7V8KByeLQc9gs4AXo9u/39wAACQgKEPsX1B+NJx4vfzapPZVEO0uWUZ5XTl2fYo1nEmwpcNBzAXe7efl7un38fr5//3++f/x+un35e7t5AXfQcylwEmyNZ59iTl2eV5ZRO0uVRKk9fzYeL40n1B/7FwoQCQgAAPf39u8F6Czgc9ji0IHJV8Jru8W0aq5iqLKiYZ1zmO6T148wjP+IRYYHhEaCBIFCgAGAQoAEgUaCB4RFhv+IMIzXj+6Tc5hhnbKiYqhqrsW0a7tXwoHJ4tBz2CzgBej27/f3AAAJCAoQ+xfUH40nHi9/Nqk9lUQ7S5ZRnldOXZ9ijWcSbClw0HMBd7t5+Xu6ffx+vn//f75//H66ffl7u3kBd9BzKXASbI1nn2JOXZ5XllE7S5VEqT1/Nh4vjSfUH/sXChAJCAAA9/f27wXoLOBz2OLQgclXwmu7xbRqrmKosqJhnXOY7pPXjzCM/4hFhgeERoIEgUKAAYBCgASBRoIHhEWG/4gwjNeP7pNzmGGdsqJiqGquxbRru1fCgcni0HPYLOAF6Pbv9/cAAAkIChD7F9QfjSceL382qT2VRDtLllGeV05dn2KNZxJsKXDQcwF3u3n5e7p9/H6+f/9/vn/8frp9+Xu7eQF30HMpcBJsjWefYk5dnleWUTtLlUSpPX82Hi+NJ9Qf+xcKEAkIAAD39/bvBegs4HPY4tCByVfCa7vFtGquYqiyomGdc5juk9ePMIz/iEWGB4RGggSBQoABgEKABIFGggeERYb/iDCM14/uk3OYYZ2yomKoaq7FtGu7V8KByeLQc9gs4AXo9u/39wAACQgKEPsX1B+NJx4vfzapPZVEO0uWUZ5XTl2fYo1nEmwpcNBzAXe7efl7un38fr5//3++f/x+un35e7t5AXfQcylwEmyNZ59iTl2eV5ZRO0uVRKk9fzYeL40n1B/7FwoQCQgAAPf39u8F6Czgc9ji0IHJV8Jru8W0aq5iqLKiYZ1zmO6T148wjP+IRYYHhEaCBIFCgAGAQoAEgUaCB4RFhv+IMIzXj+6Tc5hhnbKiYqhqrsW0a7tXwoHJ4tBz2CzgBej27/f3AAAJCAoQ+xfUH40nHi9/Nqk9lUQ7S5ZRnldOXZ9ijWcSbClw0HMBd7t5+Xu6ffx+vn//f75//H66ffl7u3kBd9BzKXASbI1nn2JOXZ5XllE7S5VEqT1/Nh4vjSfUH/sXChAJCAAA9/f27wXoLOBz2OLQgclXwmu7xbRqrmKosqJhnXOY7pPXjzCM/4hFhgeERoIEgUKAAYBCgASBRoIHhEWG/4gwjNeP7pNzmGGdsqJiqGquxbRru1fCgcni0HPYLOAF6Pbv9/cAAAkIChD7F9QfjSceL382qT2VRDtLllGeV05dn2KNZxJsKXDQcwF3u3n5e7p9/H6+f/9/vn/8frp9+Xu7eQF30HMpcBJsjWefYk5dnleWUTtLlUSpPX82Hi+NJ9Qf+xcKEAkIAAD39/bvBegs4HPY4tCByVfCa7vFtGquYqiyomGdc5juk9ePMIz/iEWGB4RGggSBQoABgEKABIFGggeERYb/iDCM14/uk3OYYZ2yomKoaq7FtGu7V8KByeLQc9gs4AXo9u/39wAACQgKEPsX1B+NJx4vfzapPZVEO0uWUZ5XTl2fYo1nEmwpcNBzAXe7efl7un38fr5//3++f/x+un35e7t5AXfQcylwEmyNZ59iTl2eV5ZRO0uVRKk9fzYeL40n1B/7FwoQCQgAAPf39u8F6Czgc9ji0IHJV8Jru8W0aq5iqLKiYZ1zmO6T148wjP+IRYYHhEaCBIFCgAGAQoAEgUaCB4RFhv+IMIzXj+6Tc5hhnbKiYqhqrsW0a7tXwoHJ4tBz2CzgBej27/f3AAAJCAoQ+xfUH40nHi9/Nqk9lUQ7S5ZRnldOXZ9ijWcSbClw0HMBd7t5+Xu6ffx+vn//f75//H66ffl7u3kBd9BzKXASbI1nn2JOXZ5XllE7S5VEqT1/Nh4vjSfUH/sXChAJCAAA9/f27wXoLOBz2OLQgclXwmu7xbRqrmKosqJhnXOY7pPXjzCM/4hFhgeERoIEgUKAAYBCgASBRoIHhEWG/4gwjNeP7pNzmGGdsqJiqGquxbRru1fCgcni0HPYLOAF6Pbv9/cAAAkIChD7F9QfjSceL382qT2VRDtLllGeV05dn2KNZxJsKXDQcwF3u3n5e7p9/H6+f/9/vn/8frp9+Xu7eQF30HMpcBJsjWefYk5dnleWUTtLlUSpPX82Hi+NJ9Qf+xcKEAkIAAD39/bvBegs4HPY4tCByVfCa7vFtGquYqiyomGdc5juk9ePMIz/iEWGB4RGggSBQoABgEKABIFGggeERYb/iDCM14/uk3OYYZ2yomKoaq7FtGu7V8KByeLQc9gs4AXo9u/39wAACQgKEPsX1B+NJx4vfzapPZVEO0uWUZ5XTl2fYo1nEmwpcNBzAXe7efl7un38fr5//3++f/x+un35e7t5AXfQcylwEmyNZ59iTl2eV5ZRO0uVRKk9fzYeL40n1B/7FwoQCQgAAPf39u8F6Czgc9ji0IHJV8Jru8W0aq5iqLKiYZ1zmO6T148wjP+IRYYHhEaCBIFCgAGAQoAEgUaCB4RFhv+IMIzXj+6Tc5hhnbKiYqhqrsW0a7tXwoHJ4tBz2CzgBej27/f3AAAJCAoQ+xfUH40nHi9/Nqk9lUQ7S5ZRnldOXZ9ijWcSbClw0HMBd7t5+Xu6ffx+vn//f75//H66ffl7u3kBd9BzKXASbI1nn2JOXZ5XllE7S5VEqT1/Nh4vjSfUH/sXChAJCAAA9/f27wXoLOBz2OLQgclXwmu7xbRqrmKosqJhnXOY7pPXjzCM/4hFhgeERoIEgUKAAYBCgASBRoIHhEWG/4gwjNeP7pNzmGGdsqJiqGquxbRru1fCgcni0HPYLOAF6Pbv9/cAAAkIChD7F9QfjSceL382qT2VRDtLllGeV05dn2KNZxJsKXDQcwF3u3n5e7p9/H6+f/9/vn/8frp9+Xu7eQF30HMpcBJsjWefYk5dnleWUTtLlUSpPX82Hi+NJ9Qf+xcKEAkIAAD39/bvBegs4HPY4tCByVfCa7vFtGquYqiyomGdc5juk9ePMIz/iEWGB4RGggSBQoABgEKABIFGggeERYb/iDCM14/uk3OYYZ2yomKoaq7FtGu7V8KByeLQc9gs4AXo9u/39wAACQgKEPsX1B+NJx4vfzapPZVEO0uWUZ5XTl2fYo1nEmwpcNBzAXe7efl7un38fr5//3++f/x+un35e7t5AXfQcylwEmyNZ59iTl2eV5ZRO0uVRKk9fzYeL40n1B/7FwoQCQgAAPf39u8F6Czgc9ji0IHJV8Jru8W0aq5iqLKiYZ1zmO6T148wjP+IRYYHhEaCBIFCgAGAQoAEgUaCB4RFhv+IMIzXj+6Tc5hhnbKiYqhqrsW0a7tXwoHJ4tBz2CzgBej27/f3AAAJCAoQ+xfUH40nHi9/Nqk9lUQ7S5ZRnldOXZ9ijWcSbClw0HMBd7t5+Xu6ffx+vn//f75//H66ffl7u3kBd9BzKXASbI1nn2JOXZ5XllE7S5VEqT1/Nh4vjSfUH/sXChAJCAAA9/f27wXoLOBz2OLQgclXwmu7xbRqrmKosqJhnXOY7pPXjzCM/4hFhgeERoIEgUKAAYBCgASBRoIHhEWG/4gwjNeP7pNzmGGdsqJiqGquxbRru1fCgcni0HPYLOAF6Pbv9/cAAAkIChD7F9QfjSceL382qT2VRDtLllGeV05dn2KNZxJsKXDQcwF3u3n5e7p9/H6+f/9/vn/8frp9+Xu7eQF30HMpcBJsjWefYk5dnleWUTtLlUSpPX82Hi+NJ9Qf+xcKEAkIAAD39/bvBegs4HPY4tCByVfCa7vFtGquYqiyomGdc5juk9ePMIz/iEWGB4RGggSBQoABgEKABIFGggeERYb/iDCM14/uk3OYYZ2yomKoaq7FtGu7V8KByeLQc9gs4AXo9u/39wAACQgKEPsX1B+NJx4vfzapPZVEO0uWUZ5XTl2fYo1nEmwpcNBzAXe7efl7un38fr5//3++f/x+un35e7t5AXfQcylwEmyNZ59iTl2eV5ZRO0uVRKk9fzYeL40n1B/7FwoQCQgAAPf39u8F6Czgc9ji0IHJV8Jru8W0aq5iqLKiYZ1zmO6T148wjP+IRYYHhEaCBIFCgAGAQoAEgUaCB4RFhv+IMIzXj+6Tc5hhnbKiYqhqrsW0a7tXwoHJ4tBz2CzgBej27/f3AAAJCAoQ+xfUH40nHi9/Nqk9lUQ7S5ZRnldOXZ9ijWcSbClw0HMBd7t5+Xu6ffx+vn//f75//H66ffl7u3kBd9BzKXASbI1nn2JOXZ5XllE7S5VEqT1/Nh4vjSfUH/sXChAJCAAA9/f27wXoLOBz2OLQgclXwmu7xbRqrmKosqJhnXOY7pPXjzCM/4hFhgeERoIEgUKAAYBCgASBRoIHhEWG/4gwjNeP7pNzmGGdsqJiqGquxbRru1fCgcni0HPYLOAF6Pbv9/cAAAkIChD7F9QfjSceL382qT2VRDtLllGeV05dn2KNZxJsKXDQcwF3u3n5e7p9/H6+f/9/vn/8frp9+Xu7eQF30HMpcBJsjWefYk5dnleWUTtLlUSpPX82Hi+NJ9Qf+xcKEAkIAAD39/bvBegs4HPY4tCByVfCa7vFtGquYqiyomGdc5juk9ePMIz/iEWGB4RGggSBQoABgEKABIFGggeERYb/iDCM14/uk3OYYZ2yomKoaq7FtGu7V8KByeLQc9gs4AXo9u/39wAACQgKEPsX1B+NJx4vfzapPZVEO0uWUZ5XTl2fYo1nEmwpcNBzAXe7efl7un38fr5//3++f/x+un35e7t5AXfQcylwEmyNZ59iTl2eV5ZRO0uVRKk9fzYeL40n1B/7FwoQCQgAAPf39u8F6Czgc9ji0IHJV8Jru8W0aq5iqLKiYZ1zmO6T148wjP+IRYYHhEaCBIFCgAGAQoAEgUaCB4RFhv+IMIzXj+6Tc5hhnbKiYqhqrsW0a7tXwoHJ4tBz2CzgBej27/f3AAAJCAoQ+xfUH40nHi9/Nqk9lUQ7S5ZRnldOXZ9ijWcSbClw0HMBd7t5+Xu6ffx+vn//f75//H66ffl7u3kBd9BzKXASbI1nn2JOXZ5XllE7S5VEqT1/Nh4vjSfUH/sXChAJCAAA9/f27wXoLOBz2OLQgclXwmu7xbRqrmKosqJhnXOY7pPXjzCM/4hFhgeERoIEgUKAAYBCgASBRoIHhEWG/4gwjNeP7pNzmGGdsqJiqGquxbRru1fCgcni0HPYLOAF6Pbv9/cAAAkIChD7F9QfjSceL382qT2VRDtLllGeV05dn2KNZxJsKXDQcwF3u3n5e7p9/H6+f/9/vn/8frp9+Xu7eQF30HMpcBJsjWefYk5dnleWUTtLlUSpPX82Hi+NJ9Qf+xcKEAkIAAD39/bvBegs4HPY4tCByVfCa7vFtGquYqiyomGdc5juk9ePMIz/iEWGB4RGggSBQoABgEKABIFGggeERYb/iDCM14/uk3OYYZ2yomKoaq7FtGu7V8KByeLQc9gs4AXo9u/39wAACQgKEPsX1B+NJx4vfzapPZVEO0uWUZ5XTl2fYo1nEmwpcNBzAXe7efl7un38fr5//3++f/x+un35e7t5AXfQcylwEmyNZ59iTl2eV5ZRO0uVRKk9fzYeL40n1B/7FwoQCQgAAPf39u8F6Czgc9ji0IHJV8Jru8W0aq5iqLKiYZ1zmO6T148wjP+IRYYHhEaCBIFCgAGAQoAEgUaCB4RFhv+IMIzXj+6Tc5hhnbKiYqhqrsW0a7tXwoHJ4tBz2CzgBej27/f3AAAJCAoQ+xfUH40nHi9/Nqk9lUQ7S5ZRnldOXZ9ijWcSbClw0HMBd7t5+Xu6ffx+vn//f75//H66ffl7u3kBd9BzKXASbI1nn2JOXZ5XllE7S5VEqT1/Nh4vjSfUH/sXChAJCAAA9/f27wXoLOBz2OLQgclXwmu7xbRqrmKosqJhnXOY7pPXjzCM/4hFhgeERoIEgUKAAYBCgASBRoIHhEWG/4gwjNeP7pNzmGGdsqJiqGquxbRru1fCgcni0HPYLOAF6Pbv9/cAAAkIChD7F9QfjSceL382qT2VRDtLllGeV05dn2KNZxJsKXDQcwF3u3n5e7p9/H6+f/9/vn/8frp9+Xu7eQF30HMpcBJsjWefYk5dnleWUTtLlUSpPX82Hi+NJ9Qf+xcKEAkIAAD39/bvBegs4HPY4tCByVfCa7vFtGquYqiyomGdc5juk9ePMIz/iEWGB4RGggSBQoABgEKABIFGggeERYb/iDCM14/uk3OYYZ2yomKoaq7FtGu7V8KByeLQc9gs4AXo9u/39wAACQgKEPsX1B+NJx4vfzapPZVEO0uWUZ5XTl2fYo1nEmwpcNBzAXe7efl7un38fr5//3++f/x+un35e7t5AXfQcylwEmyNZ59iTl2eV5ZRO0uVRKk9fzYeL40n1B/7FwoQCQgAAPf39u8F6Czgc9ji0IHJV8Jru8W0aq5iqLKiYZ1zmO6T148wjP+IRYYHhEaCBIFCgAGAQoAEgUaCB4RFhv+IMIzXj+6Tc5hhnbKiYqhqrsW0a7tXwoHJ4tBz2CzgBej27/f3AAAJCAoQ+xfUH40nHi9/Nqk9lUQ7S5ZRnldOXZ9ijWcSbClw0HMBd7t5+Xu6ffx+vn//f75//H66ffl7u3kBd9BzKXASbI1nn2JOXZ5XllE7S5VEqT1/Nh4vjSfUH/sXChAJCAAA9/f27wXoLOBz2OLQgclXwmu7xbRqrmKosqJhnXOY7pPXjzCM/4hFhgeERoIEgUKAAYBCgASBRoIHhEWG/4gwjNeP7pNzmGGdsqJiqGquxbRru1fCgcni0HPYLOAF6Pbv9/cAAAkIChD7F9QfjSceL382qT2VRDtLllGeV05dn2KNZxJsKXDQcwF3u3n5e7p9/H6+f/9/vn/8frp9+Xu7eQF30HMpcBJsjWefYk5dnleWUTtLlUSpPX82Hi+NJ9Qf+xcKEAkIAAD39/bvBegs4HPY4tCByVfCa7vFtGquYqiyomGdc5juk9ePMIz/iEWGB4RGggSBQoABgEKABIFGggeERYb/iDCM14/uk3OYYZ2yomKoaq7FtGu7V8KByeLQc9gs4AXo9u/39wAACQgKEPsX1B+NJx4vfzapPZVEO0uWUZ5XTl2fYo1nEmwpcNBzAXe7efl7un38fr5//3++f/x+un35e7t5AXfQcylwEmyNZ59iTl2eV5ZRO0uVRKk9fzYeL40n1B/7FwoQCQgAAPf39u8F6Czgc9ji0IHJV8Jru8W0aq5iqLKiYZ1zmO6T148wjP+IRYYHhEaCBIFCgAGAQoAEgUaCB4RFhv+IMIzXj+6Tc5hhnbKiYqhqrsW0a7tXwoHJ4tBz2CzgBej27/f3AAAJCAoQ+xfUH40nHi9/Nqk9lUQ7S5ZRnldOXZ9ijWcSbClw0HMBd7t5+Xu6ffx+vn//f75//H66ffl7u3kBd9BzKXASbI1nn2JOXZ5XllE7S5VEqT1/Nh4vjSfUH/sXChAJCAAA9/f27wXoLOBz2OLQgclXwmu7xbRqrmKosqJhnXOY7pPXjzCM/4hFhgeERoIEgUKAAYBCgASBRoIHhEWG/4gwjNeP7pNzmGGdsqJiqGquxbRru1fCgcni0HPYLOAF6Pbv9/cAAAkIChD7F9QfjSceL382qT2VRDtLllGeV05dn2KNZxJsKXDQcwF3u3n5e7p9/H6+f/9/vn/8frp9+Xu7eQF30HMpcBJsjWefYk5dnleWUTtLlUSpPX82Hi+NJ9Qf+xcKEAkIAAD39/bvBegs4HPY4tCByVfCa7vFtGquYqiyomGdc5juk9ePMIz/iEWGB4RGggSBQoABgEKABIFGggeERYb/iDCM14/uk3OYYZ2yomKoaq7FtGu7V8KByeLQc9gs4AXo9u/39wAACQgKEPsX1B+NJx4vfzapPZVEO0uWUZ5XTl2fYo1nEmwpcNBzAXe7efl7un38fr5//3++f/x+un35e7t5AXfQcylwEmyNZ59iTl2eV5ZRO0uVRKk9fzYeL40n1B/7FwoQCQgAAPf39u8F6Czgc9ji0IHJV8Jru8W0aq5iqLKiYZ1zmO6T148wjP+IRYYHhEaCBIFCgAGAQoAEgUaCB4RFhv+IMIzXj+6Tc5hhnbKiYqhqrsW0a7tXwoHJ4tBz2CzgBej27/f3AAAJCAoQ+xfUH40nHi9/Nqk9lUQ7S5ZRnldOXZ9ijWcSbClw0HMBd7t5+Xu6ffx+vn//f75//H66ffl7u3kBd9BzKXASbI1nn2JOXZ5XllE7S5VEqT1/Nh4vjSfUH/sXChAJCAAA9/f27wXoLOBz2OLQgclXwmu7xbRqrmKosqJhnXOY7pPXjzCM/4hFhgeERoIEgUKAAYBCgASBRoIHhEWG/4gwjNeP7pNzmGGdsqJiqGquxbRru1fCgcni0HPYLOAF6Pbv9/cAAAkIChD7F9QfjSceL382qT2VRDtLllGeV05dn2KNZxJsKXDQcwF3u3n5e7p9/H6+f/9/vn/8frp9+Xu7eQF30HMpcBJsjWefYk5dnleWUTtLlUSpPX82Hi+NJ9Qf+xcKEAkIAAD39/bvBegs4HPY4tCByVfCa7vFtGquYqiyomGdc5juk9ePMIz/iEWGB4RGggSBQoABgEKABIFGggeERYb/iDCM14/uk3OYYZ2yomKoaq7FtGu7V8KByeLQc9gs4AXo9u/39wAACQgKEPsX1B+NJx4vfzapPZVEO0uWUZ5XTl2fYo1nEmwpcNBzAXe7efl7un38fr5//3++f/x+un35e7t5AXfQcylwEmyNZ59iTl2eV5ZRO0uVRKk9fzYeL40n1B/7FwoQCQgAAPf39u8F6Czgc9ji0IHJV8Jru8W0aq5iqLKiYZ1zmO6T148wjP+IRYYHhEaCBIFCgAGAQoAEgUaCB4RFhv+IMIzXj+6Tc5hhnbKiYqhqrsW0a7tXwoHJ4tBz2CzgBej27/f3AAAJCAoQ+xfUH40nHi9/Nqk9lUQ7S5ZRnldOXZ9ijWcSbClw0HMBd7t5+Xu6ffx+vn//f75//H66ffl7u3kBd9BzKXASbI1nn2JOXZ5XllE7S5VEqT1/Nh4vjSfUH/sXChAJCAAA9/f27wXoLOBz2OLQgclXwmu7xbRqrmKosqJhnXOY7pPXjzCM/4hFhgeERoIEgUKAAYBCgASBRoIHhEWG/4gwjNeP7pNzmGGdsqJiqGquxbRru1fCgcni0HPYLOAF6Pbv9/cAAAkIChD7F9QfjSceL382qT2VRDtLllGeV05dn2KNZxJsKXDQcwF3u3n5e7p9/H6+f/9/vn/8frp9+Xu7eQF30HMpcBJsjWefYk5dnleWUTtLlUSpPX82Hi+NJ9Qf+xcKEAkIAAD39/bvBegs4HPY4tCByVfCa7vFtGquYqiyomGdc5juk9ePMIz/iEWGB4RGggSBQoABgEKABIFGggeERYb/iDCM14/uk3OYYZ2yomKoaq7FtGu7V8KByeLQc9gs4AXo9u/39wAA\" type=\"audio/wav\" />\n",
              "                    Your browser does not support the audio element.\n",
              "                </audio>\n",
              "              "
            ],
            "text/plain": [
              "<IPython.lib.display.Audio object>"
            ]
          },
          "metadata": {
            "tags": []
          },
          "execution_count": 7
        }
      ]
    },
    {
      "cell_type": "code",
      "metadata": {
        "colab": {
          "base_uri": "https://localhost:8080/",
          "height": 284
        },
        "id": "HAAdf1WdS2Kv",
        "outputId": "0c4cba22-27da-4d24-c1cb-54a6e3bc3a85"
      },
      "source": [
        "fig=plt.figure() #plt 안에 figure 함수 사용\n",
        "ax=fig.add_subplot(111)\n",
        "#subplot(0 0 0) 하면 앞에 두 숫자 0x0의 공간 속 세 번째 숫자 0번째 / subplot(2 3 5)면 2x3의 5번째 (둘째줄 가운데) - 그림 여러개 그릴 경우\n",
        "#그림 하나일 경우엔 그냥 (1 1 1)\n",
        "ax.plot(t[0:1000], s[0:1000], '.') #범위 없이 그냥 하면 너무 많아서 빽빽하니까 1000개로 한정! 그리고 두 개 값 같아야 함 1000이랑 1001 불가능\n",
        "#ax.plot(x,y) x축이 theta아니고 시간!!이라는 것이 매우 중요!!!! '.' 하면 점으로 만들겠다 ㅎㅎ "
      ],
      "execution_count": 13,
      "outputs": [
        {
          "output_type": "execute_result",
          "data": {
            "text/plain": [
              "[<matplotlib.lines.Line2D at 0x7f58c0636910>]"
            ]
          },
          "metadata": {
            "tags": []
          },
          "execution_count": 13
        },
        {
          "output_type": "display_data",
          "data": {
            "image/png": "[encoded data removed]",
            "text/plain": [
              "<Figure size 432x288 with 1 Axes>"
            ]
          },
          "metadata": {
            "tags": [],
            "needs_background": "light"
          }
        }
      ]
    },
    {
      "cell_type": "code",
      "metadata": {
        "id": "4RchIo47TQro"
      },
      "source": [
        ""
      ],
      "execution_count": null,
      "outputs": []
    }
  ]
}