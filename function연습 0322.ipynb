{
  "nbformat": 4,
  "nbformat_minor": 0,
  "metadata": {
    "colab": {
      "name": "Untitled2.ipynb",
      "provenance": [],
      "collapsed_sections": [],
      "authorship_tag": "ABX9TyMPQ4hLhYLAskbtAgphdI1A",
      "include_colab_link": true
    },
    "kernelspec": {
      "name": "python3",
      "display_name": "Python 3"
    },
    "language_info": {
      "name": "python"
    }
  },
  "cells": [
    {
      "cell_type": "markdown",
      "metadata": {
        "id": "view-in-github",
        "colab_type": "text"
      },
      "source": [
        "<a href=\"https://colab.research.google.com/github/2019130806/class2021Spring/blob/main/function%EC%97%B0%EC%8A%B5%200322.ipynb\" target=\"_parent\"><img src=\"https://colab.research.google.com/assets/colab-badge.svg\" alt=\"Open In Colab\"/></a>"
      ]
    },
    {
      "cell_type": "code",
      "metadata": {
        "colab": {
          "base_uri": "https://localhost:8080/"
        },
        "id": "CchmMH7kUJJj",
        "outputId": "3c627996-6e44-4eb8-a382-3985cc4f5da9"
      },
      "source": [
        "def add(a,b):\n",
        "  return a, b\n",
        "#f(a,b)=a+b 괄호 안 a,b가 입력, a+b가 출력\n",
        "#함수는 입력 x 와 출력 y가 있어야 함\n",
        "#입력으로 들어와서 출력으로 나간다\n",
        "\n",
        "result=add(1,2)\n",
        "print(result)\n",
        "print (type(result))\n",
        "\n",
        "def addition(X1, X2):\n",
        "  return X1+X2\n",
        "m=addition(7,8)\n",
        "print(m)\n",
        "\n",
        "def function1(x, a, b):\n",
        "  y=a*x+b\n",
        "  return y\n",
        "s=function1(5,1,-2)\n",
        "print(s)\n"
      ],
      "execution_count": 25,
      "outputs": [
        {
          "output_type": "stream",
          "text": [
            "(1, 2)\n",
            "<class 'tuple'>\n",
            "15\n",
            "3\n"
          ],
          "name": "stdout"
        }
      ]
    }
  ]
}