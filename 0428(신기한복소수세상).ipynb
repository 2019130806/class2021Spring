{
  "nbformat": 4,
  "nbformat_minor": 0,
  "metadata": {
    "colab": {
      "name": "0428(신기한복소수세상).ipynb",
      "provenance": [],
      "authorship_tag": "ABX9TyN+VQIiSneiNLYbVY4zVOy8",
      "include_colab_link": true
    },
    "kernelspec": {
      "name": "python3",
      "display_name": "Python 3"
    },
    "language_info": {
      "name": "python"
    }
  },
  "cells": [
    {
      "cell_type": "markdown",
      "metadata": {
        "id": "view-in-github",
        "colab_type": "text"
      },
      "source": [
        "<a href=\"https://colab.research.google.com/github/2019130806/class2021Spring/blob/main/0428(%EC%8B%A0%EA%B8%B0%ED%95%9C%EB%B3%B5%EC%86%8C%EC%88%98%EC%84%B8%EC%83%81).ipynb\" target=\"_parent\"><img src=\"https://colab.research.google.com/assets/colab-badge.svg\" alt=\"Open In Colab\"/></a>"
      ]
    },
    {
      "cell_type": "code",
      "metadata": {
        "id": "TdVFRq5SAAQg"
      },
      "source": [
        "import numpy as np"
      ],
      "execution_count": 2,
      "outputs": []
    },
    {
      "cell_type": "code",
      "metadata": {
        "colab": {
          "base_uri": "https://localhost:8080/"
        },
        "id": "vXXS9UPb_6oD",
        "outputId": "a9e0f123-1a68-4c5a-b382-bd668f90e7ca"
      },
      "source": [
        "theta=np.pi #쎄타는 파이 (180도)\n",
        "np.sin(theta) #-16 : 유효숫자.. (0.000000000012~ 거의 0이란 소리)"
      ],
      "execution_count": 3,
      "outputs": [
        {
          "output_type": "execute_result",
          "data": {
            "text/plain": [
              "1.2246467991473532e-16"
            ]
          },
          "metadata": {
            "tags": []
          },
          "execution_count": 3
        }
      ]
    },
    {
      "cell_type": "code",
      "metadata": {
        "colab": {
          "base_uri": "https://localhost:8080/"
        },
        "id": "JdhSyDWXAFSv",
        "outputId": "ef1fc1f6-7adf-49ba-b53c-26487fe6b2e2"
      },
      "source": [
        "theta=np.pi/2 #90도\n",
        "np.sin(theta)"
      ],
      "execution_count": 4,
      "outputs": [
        {
          "output_type": "execute_result",
          "data": {
            "text/plain": [
              "1.0"
            ]
          },
          "metadata": {
            "tags": []
          },
          "execution_count": 4
        }
      ]
    },
    {
      "cell_type": "code",
      "metadata": {
        "colab": {
          "base_uri": "https://localhost:8080/"
        },
        "id": "1lE_piy7Abrp",
        "outputId": "889c7d29-e161-41ff-c4cc-68a13f60ee7e"
      },
      "source": [
        "theta=np.pi/4 #루트2/2..?\n",
        "np.sin(theta)"
      ],
      "execution_count": 5,
      "outputs": [
        {
          "output_type": "execute_result",
          "data": {
            "text/plain": [
              "0.7071067811865475"
            ]
          },
          "metadata": {
            "tags": []
          },
          "execution_count": 5
        }
      ]
    },
    {
      "cell_type": "code",
      "metadata": {
        "colab": {
          "base_uri": "https://localhost:8080/"
        },
        "id": "328q7O6IAhX-",
        "outputId": "2f43d3fb-e015-466d-a768-cd7c943ec50e"
      },
      "source": [
        "theta=np.pi/6\n",
        "np.sin(theta)"
      ],
      "execution_count": 6,
      "outputs": [
        {
          "output_type": "execute_result",
          "data": {
            "text/plain": [
              "0.49999999999999994"
            ]
          },
          "metadata": {
            "tags": []
          },
          "execution_count": 6
        }
      ]
    },
    {
      "cell_type": "code",
      "metadata": {
        "colab": {
          "base_uri": "https://localhost:8080/"
        },
        "id": "hHRAyT5pAn9u",
        "outputId": "6d7595ec-831a-4e4d-d630-0542eca3a0f9"
      },
      "source": [
        "theta=np.pi*0\n",
        "np.sin(theta) #싸인 0도는 0.."
      ],
      "execution_count": 7,
      "outputs": [
        {
          "output_type": "execute_result",
          "data": {
            "text/plain": [
              "0.0"
            ]
          },
          "metadata": {
            "tags": []
          },
          "execution_count": 7
        }
      ]
    },
    {
      "cell_type": "code",
      "metadata": {
        "id": "y_hkpVKaArSz"
      },
      "source": [
        "#np.exp(theta*1j) #exp:지수 / i를 1j라고 씀 / e의 theta*i 제곱"
      ],
      "execution_count": null,
      "outputs": []
    },
    {
      "cell_type": "code",
      "metadata": {
        "colab": {
          "base_uri": "https://localhost:8080/"
        },
        "id": "k8ExItWMA_LR",
        "outputId": "3da9faf0-707f-4372-bd8e-131c5270d4af"
      },
      "source": [
        "theta=np.pi*0 #0 90 180 270 360 이렇게 넣어보기 -> 0 pi/2 pi 3pi/2 2pi\n",
        "np.exp(theta*1j)"
      ],
      "execution_count": 10,
      "outputs": [
        {
          "output_type": "execute_result",
          "data": {
            "text/plain": [
              "(1+0j)"
            ]
          },
          "metadata": {
            "tags": []
          },
          "execution_count": 10
        }
      ]
    },
    {
      "cell_type": "code",
      "metadata": {
        "colab": {
          "base_uri": "https://localhost:8080/"
        },
        "id": "hiBeU_bbBAv8",
        "outputId": "e5bdc0a8-86b2-40ef-f8bb-866432181f0f"
      },
      "source": [
        "theta=np.pi/2\n",
        "np.exp(theta*1j)"
      ],
      "execution_count": 11,
      "outputs": [
        {
          "output_type": "execute_result",
          "data": {
            "text/plain": [
              "(6.123233995736766e-17+1j)"
            ]
          },
          "metadata": {
            "tags": []
          },
          "execution_count": 11
        }
      ]
    },
    {
      "cell_type": "code",
      "metadata": {
        "colab": {
          "base_uri": "https://localhost:8080/"
        },
        "id": "UPCYQGaNBjQi",
        "outputId": "4f0a46a7-d82f-430e-868e-96d85a873e04"
      },
      "source": [
        "theta=np.pi\n",
        "np.exp(theta*1j)"
      ],
      "execution_count": 13,
      "outputs": [
        {
          "output_type": "execute_result",
          "data": {
            "text/plain": [
              "(-1+1.2246467991473532e-16j)"
            ]
          },
          "metadata": {
            "tags": []
          },
          "execution_count": 13
        }
      ]
    },
    {
      "cell_type": "code",
      "metadata": {
        "colab": {
          "base_uri": "https://localhost:8080/"
        },
        "id": "gEnTywPSBxdk",
        "outputId": "f63fee91-004f-4164-9ff3-b0b697770419"
      },
      "source": [
        "theta=np.pi*3/2\n",
        "np.exp(theta*1j)"
      ],
      "execution_count": 15,
      "outputs": [
        {
          "output_type": "execute_result",
          "data": {
            "text/plain": [
              "(-1.8369701987210297e-16-1j)"
            ]
          },
          "metadata": {
            "tags": []
          },
          "execution_count": 15
        }
      ]
    },
    {
      "cell_type": "code",
      "metadata": {
        "id": "S6SPBAd3B5lk"
      },
      "source": [
        "c=np.exp(theta*1j)"
      ],
      "execution_count": 16,
      "outputs": []
    },
    {
      "cell_type": "code",
      "metadata": {
        "id": "2jxPdkNpCo4C"
      },
      "source": [
        "import plotly.graph_objects as go\n",
        "import numpy as np\n",
        "dur=0.5\n",
        "sr=10000\n",
        "freq=100\n",
        "t=np.arange(1, sr*dur+1)/sr\n",
        "theta=t*2*np.pi*freq\n",
        "c=np.exp(theta*1j)\n",
        "x,y,z = t[0:1000], c.real[0:1000], c.imag[0:1000] #a에 해당하는 부분 Real로, b에 해당하는 부분 Im / a+bi"
      ],
      "execution_count": 29,
      "outputs": []
    },
    {
      "cell_type": "code",
      "metadata": {
        "id": "8qQQPygdCvIk"
      },
      "source": [
        ""
      ],
      "execution_count": null,
      "outputs": []
    }
  ]
}