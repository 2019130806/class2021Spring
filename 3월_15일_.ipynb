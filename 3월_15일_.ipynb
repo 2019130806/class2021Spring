{
  "nbformat": 4,
  "nbformat_minor": 0,
  "metadata": {
    "colab": {
      "name": "3월..15일.....ipynb",
      "provenance": [],
      "authorship_tag": "ABX9TyMiMyUJa8dtYojqJegsa6rK",
      "include_colab_link": true
    },
    "kernelspec": {
      "name": "python3",
      "display_name": "Python 3"
    }
  },
  "cells": [
    {
      "cell_type": "markdown",
      "metadata": {
        "id": "view-in-github",
        "colab_type": "text"
      },
      "source": [
        "<a href=\"https://colab.research.google.com/github/2019130806/class2021Spring/blob/main/3%EC%9B%94_15%EC%9D%BC_.ipynb\" target=\"_parent\"><img src=\"https://colab.research.google.com/assets/colab-badge.svg\" alt=\"Open In Colab\"/></a>"
      ]
    },
    {
      "cell_type": "code",
      "metadata": {
        "id": "Yd_3jHdsYNjx"
      },
      "source": [
        ""
      ],
      "execution_count": null,
      "outputs": []
    },
    {
      "cell_type": "code",
      "metadata": {
        "colab": {
          "base_uri": "https://localhost:8080/"
        },
        "id": "ZO7wn2iwYOGV",
        "outputId": "905a4dc9-20c0-440f-e384-1ef79938fdbe"
      },
      "source": [
        "a='abcedf'\r\n",
        "b=[1,2,3,4,5]\r\n",
        "print(b[1])\r\n",
        "print(a[0], a[2], a[4], a[-1])\r\n",
        "c=[1,2,3,4]\r\n",
        "print(c[-1])\r\n",
        "print(a[-2])\r\n",
        "print(a[-6])"
      ],
      "execution_count": 7,
      "outputs": [
        {
          "output_type": "stream",
          "text": [
            "2\n",
            "a c d f\n",
            "4\n",
            "d\n",
            "a\n"
          ],
          "name": "stdout"
        }
      ]
    },
    {
      "cell_type": "code",
      "metadata": {
        "colab": {
          "base_uri": "https://localhost:8080/"
        },
        "id": "9-JUlndhYWrA",
        "outputId": "003d25aa-d166-4727-c848-6eaf2dd79740"
      },
      "source": [
        "s='abcdef'\r\n",
        "print(s[1:3])\r\n",
        "print(s[1:])\r\n",
        "print(s[:3])\r\n",
        "print(s[:1])"
      ],
      "execution_count": 13,
      "outputs": [
        {
          "output_type": "stream",
          "text": [
            "bc\n",
            "bcdef\n",
            "abc\n",
            "a\n"
          ],
          "name": "stdout"
        }
      ]
    },
    {
      "cell_type": "code",
      "metadata": {
        "colab": {
          "base_uri": "https://localhost:8080/"
        },
        "id": "Fx0OsNcHZTF8",
        "outputId": "f3e9f18a-9f20-45e3-b72e-960c8a09a2ca"
      },
      "source": [
        "print(len(b))\r\n",
        "print(len(c))\r\n",
        "print(len(s))\r\n",
        "print(len(a))"
      ],
      "execution_count": 17,
      "outputs": [
        {
          "output_type": "stream",
          "text": [
            "5\n",
            "4\n",
            "6\n",
            "6\n"
          ],
          "name": "stdout"
        }
      ]
    },
    {
      "cell_type": "code",
      "metadata": {
        "colab": {
          "base_uri": "https://localhost:8080/",
          "height": 36
        },
        "id": "kvRA_OtDaItX",
        "outputId": "4563cb8b-a66d-4a04-ed9c-8277cc683eac"
      },
      "source": [
        "s[1]+s[3]+s[4:]*10"
      ],
      "execution_count": 18,
      "outputs": [
        {
          "output_type": "execute_result",
          "data": {
            "application/vnd.google.colaboratory.intrinsic+json": {
              "type": "string"
            },
            "text/plain": [
              "'bdefefefefefefefefefef'"
            ]
          },
          "metadata": {
            "tags": []
          },
          "execution_count": 18
        }
      ]
    },
    {
      "cell_type": "code",
      "metadata": {
        "colab": {
          "base_uri": "https://localhost:8080/"
        },
        "id": "SB990EpJak3L",
        "outputId": "56d7b3e3-8207-4a31-d373-c5edadb86000"
      },
      "source": [
        "d = ' this is a house build this year./nyes'\r\n",
        "print(d)\r\n",
        "#d역슬래쉬하고 n하면 줄바꿈"
      ],
      "execution_count": 38,
      "outputs": [
        {
          "output_type": "stream",
          "text": [
            " this is a house build this year./nyes\n"
          ],
          "name": "stdout"
        }
      ]
    },
    {
      "cell_type": "code",
      "metadata": {
        "colab": {
          "base_uri": "https://localhost:8080/"
        },
        "id": "eGOEm2aBanTC",
        "outputId": "de7ea847-9ab4-407a-8ed4-0c38ffa9fb4e"
      },
      "source": [
        "result=d.find('house')\r\n",
        "result"
      ],
      "execution_count": 39,
      "outputs": [
        {
          "output_type": "execute_result",
          "data": {
            "text/plain": [
              "11"
            ]
          },
          "metadata": {
            "tags": []
          },
          "execution_count": 39
        }
      ]
    },
    {
      "cell_type": "code",
      "metadata": {
        "colab": {
          "base_uri": "https://localhost:8080/"
        },
        "id": "ykvt7IMbblAq",
        "outputId": "f0fdd27d-2755-44dc-f974-150705f00d31"
      },
      "source": [
        "result=d.find('this')\r\n",
        "result"
      ],
      "execution_count": 40,
      "outputs": [
        {
          "output_type": "execute_result",
          "data": {
            "text/plain": [
              "1"
            ]
          },
          "metadata": {
            "tags": []
          },
          "execution_count": 40
        }
      ]
    },
    {
      "cell_type": "code",
      "metadata": {
        "colab": {
          "base_uri": "https://localhost:8080/",
          "height": 36
        },
        "id": "AKJ0J1vrbzir",
        "outputId": "f7e81f67-8210-4bae-85e9-c9208e3c2246"
      },
      "source": [
        "d=d.strip()\r\n",
        "d"
      ],
      "execution_count": 36,
      "outputs": [
        {
          "output_type": "execute_result",
          "data": {
            "application/vnd.google.colaboratory.intrinsic+json": {
              "type": "string"
            },
            "text/plain": [
              "'this is a house build this year.nyes'"
            ]
          },
          "metadata": {
            "tags": []
          },
          "execution_count": 36
        }
      ]
    },
    {
      "cell_type": "code",
      "metadata": {
        "colab": {
          "base_uri": "https://localhost:8080/"
        },
        "id": "WgLi2oy0cN9V",
        "outputId": "a780fede-0293-4108-c27e-39ef75717b1e"
      },
      "source": [
        "tokens = d.split(' ')\r\n",
        "tokens\r\n",
        "#단어 단위로 만들어서 list를 해라"
      ],
      "execution_count": 37,
      "outputs": [
        {
          "output_type": "execute_result",
          "data": {
            "text/plain": [
              "['this', 'is', 'a', 'house', 'build', 'this', 'year.nyes']"
            ]
          },
          "metadata": {
            "tags": []
          },
          "execution_count": 37
        }
      ]
    },
    {
      "cell_type": "code",
      "metadata": {
        "colab": {
          "base_uri": "https://localhost:8080/",
          "height": 36
        },
        "id": "EoiY9as5ce43",
        "outputId": "0b5244fb-2890-4a85-b118-f69b29bb005c"
      },
      "source": [
        "d=' '.join(tokens)\r\n",
        "d\r\n",
        "#토큰에 들어있는 단어들을 글루잉을 해라"
      ],
      "execution_count": 42,
      "outputs": [
        {
          "output_type": "execute_result",
          "data": {
            "application/vnd.google.colaboratory.intrinsic+json": {
              "type": "string"
            },
            "text/plain": [
              "'this is a house build this year.nyes'"
            ]
          },
          "metadata": {
            "tags": []
          },
          "execution_count": 42
        }
      ]
    },
    {
      "cell_type": "code",
      "metadata": {
        "colab": {
          "base_uri": "https://localhost:8080/",
          "height": 36
        },
        "id": "TdXrGTZZc8ZU",
        "outputId": "209f82be-f0df-4625-f5a7-1a0619566743"
      },
      "source": [
        "d=d.replace('this', 'that')\r\n",
        "d\r\n",
        "#두 this를 that으로 바꿈"
      ],
      "execution_count": 43,
      "outputs": [
        {
          "output_type": "execute_result",
          "data": {
            "application/vnd.google.colaboratory.intrinsic+json": {
              "type": "string"
            },
            "text/plain": [
              "'that is a house build that year.nyes'"
            ]
          },
          "metadata": {
            "tags": []
          },
          "execution_count": 43
        }
      ]
    },
    {
      "cell_type": "code",
      "metadata": {
        "colab": {
          "base_uri": "https://localhost:8080/"
        },
        "id": "yYN4ieFIcwr-",
        "outputId": "c68fdc5e-b429-46cb-e0d3-cf3888a57d6d"
      },
      "source": [
        "a=['1', 2]\r\n",
        "print(a[0]) #프린트가 따옴표 없애는기능 있음\r\n",
        "print(type(a[0]))"
      ],
      "execution_count": 46,
      "outputs": [
        {
          "output_type": "stream",
          "text": [
            "1\n",
            "<class 'str'>\n"
          ],
          "name": "stdout"
        }
      ]
    },
    {
      "cell_type": "code",
      "metadata": {
        "colab": {
          "base_uri": "https://localhost:8080/"
        },
        "id": "l-dlsYQhePLr",
        "outputId": "797dac98-85ca-4c4a-e39d-377df0d240db"
      },
      "source": [
        "a=[1,2,3,4]\r\n",
        "for i in a: #첫번째 것 부터 i가 in을 받음\r\n",
        "  print (i)"
      ],
      "execution_count": 52,
      "outputs": [
        {
          "output_type": "stream",
          "text": [
            "1\n",
            "2\n",
            "3\n",
            "4\n"
          ],
          "name": "stdout"
        }
      ]
    },
    {
      "cell_type": "code",
      "metadata": {
        "colab": {
          "base_uri": "https://localhost:8080/"
        },
        "id": "Kld08N11eydg",
        "outputId": "21e08671-8859-42d1-9b4e-215c0f1c0740"
      },
      "source": [
        "for i in range(3): #0, 1, 2 인덱스 3개 를 만들어서 i에 집어넣어줌\r\n",
        "  print(i)\r\n",
        "\r\n"
      ],
      "execution_count": 50,
      "outputs": [
        {
          "output_type": "stream",
          "text": [
            "0\n",
            "1\n",
            "2\n"
          ],
          "name": "stdout"
        }
      ]
    },
    {
      "cell_type": "code",
      "metadata": {
        "colab": {
          "base_uri": "https://localhost:8080/"
        },
        "id": "dUKWva5CfDpS",
        "outputId": "526aba30-5087-46d9-e07c-7524acfcf655"
      },
      "source": [
        "a = [1,2,3,4]\r\n",
        "for i in range(len(a)): #=for i in rnage(4) --> 0,1,2,3\r\n",
        "    print(a[i])"
      ],
      "execution_count": 53,
      "outputs": [
        {
          "output_type": "stream",
          "text": [
            "1\n",
            "2\n",
            "3\n",
            "4\n"
          ],
          "name": "stdout"
        }
      ]
    },
    {
      "cell_type": "code",
      "metadata": {
        "colab": {
          "base_uri": "https://localhost:8080/",
          "height": 139
        },
        "id": "RS6ijnhffpVT",
        "outputId": "64b685ab-9639-45dd-bbe1-ddafc9281599"
      },
      "source": [
        "a=['red', 'green', 'blue', 'purple']\r\n",
        "for i in range(4)\r\n",
        "  print(a[i])"
      ],
      "execution_count": 55,
      "outputs": [
        {
          "output_type": "error",
          "ename": "SyntaxError",
          "evalue": "ignored",
          "traceback": [
            "\u001b[0;36m  File \u001b[0;32m\"<ipython-input-55-584ba0f9bcdb>\"\u001b[0;36m, line \u001b[0;32m2\u001b[0m\n\u001b[0;31m    for i in range(4)\u001b[0m\n\u001b[0m                     ^\u001b[0m\n\u001b[0;31mSyntaxError\u001b[0m\u001b[0;31m:\u001b[0m invalid syntax\n"
          ]
        }
      ]
    },
    {
      "cell_type": "code",
      "metadata": {
        "id": "NYbI3Zxlf7p0"
      },
      "source": [
        ""
      ],
      "execution_count": null,
      "outputs": []
    }
  ]
}