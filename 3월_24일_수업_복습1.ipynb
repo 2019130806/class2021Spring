{
  "nbformat": 4,
  "nbformat_minor": 0,
  "metadata": {
    "colab": {
      "name": "3월 24일 수업 복습1",
      "provenance": [],
      "authorship_tag": "ABX9TyMTZwGJ7Ey/ZX5RR5OMyLcL",
      "include_colab_link": true
    },
    "kernelspec": {
      "name": "python3",
      "display_name": "Python 3"
    },
    "language_info": {
      "name": "python"
    }
  },
  "cells": [
    {
      "cell_type": "markdown",
      "metadata": {
        "id": "view-in-github",
        "colab_type": "text"
      },
      "source": [
        "<a href=\"https://colab.research.google.com/github/2019130806/class2021Spring/blob/main/3%EC%9B%94_24%EC%9D%BC_%EC%88%98%EC%97%85_%EB%B3%B5%EC%8A%B51.ipynb\" target=\"_parent\"><img src=\"https://colab.research.google.com/assets/colab-badge.svg\" alt=\"Open In Colab\"/></a>"
      ]
    },
    {
      "cell_type": "code",
      "metadata": {
        "id": "W4ftX9q8Uffn"
      },
      "source": [
        ""
      ],
      "execution_count": null,
      "outputs": []
    },
    {
      "cell_type": "markdown",
      "metadata": {
        "id": "FJO7duTVUg1B"
      },
      "source": [
        "package 안에 subpacakge 있을 수 있고, module이 .py형태로 존재, module안에는 class, function이 여러개 미리 정의되어 있을 수 있음\n",
        "\n",
        "1. numpy를 import\n",
        "\n",
        "import numpy as np 하면 이 디렉토리 전체가 쓸 수 잉ㅆ게 불러진 것\n",
        "\n",
        "numpy안에 여러 가지 function들\n",
        "\n",
        "numpy.sin(파이) 이런 식으로 쓸 때 기니까<br>\n",
        "numpy를 np로 줄여쓰려고<br>\n",
        "import **numpy as np** -> numpy를 이제부터 np라고 부르자\n",
        "\n",
        "**np**.empty<br>\n",
        "as np가 없으면 다 numpy로 적혀 있어야 함\n",
        "\n",
        "import **matplotlib.pyplot** as **plt**\n",
        "\n",
        "**plt**.hist(data, bins=10) 이런 식으로 plt 써서!<br>\n",
        "**plt**.show<br>\n",
        "pyplot이라는 모듈 안에 있는 hist와 show 라는 function을 쓰는 것\n",
        "\n",
        "import 는 제일 위에 해도 되고, 필요할 때 중간 중간 해도 됨!\n"
      ]
    },
    {
      "cell_type": "code",
      "metadata": {
        "id": "fJEoAuObVrb5"
      },
      "source": [
        "import numpy as np\n",
        "import matplotlib.pyplot as plt"
      ],
      "execution_count": 1,
      "outputs": []
    },
    {
      "cell_type": "code",
      "metadata": {
        "colab": {
          "base_uri": "https://localhost:8080/"
        },
        "id": "hDw1b-6EVu4e",
        "outputId": "a7b85c7d-894c-4cac-d11c-6234bbfdc4e5"
      },
      "source": [
        "np.empty ([2,3], dtype='int')\n",
        "#empty 행렬을 2x3로 만들어라\n",
        "#data type이 'int'면 좋겠다"
      ],
      "execution_count": 2,
      "outputs": [
        {
          "output_type": "execute_result",
          "data": {
            "text/plain": [
              "array([[94110312579936,              0,              0],\n",
              "       [             0,              0,              0]])"
            ]
          },
          "metadata": {
            "tags": []
          },
          "execution_count": 2
        }
      ]
    },
    {
      "cell_type": "markdown",
      "metadata": {
        "id": "7wtGSQHPXoue"
      },
      "source": [
        "[2,3] 하면 2x3 직사각형의 행렬을 만들어라<br>\n",
        "**가로 방향이 행, 세로 방향이 열**<br>\n",
        "0 0 0 <br> \n",
        "0 0 0 --> 2 행<br>\n",
        "3열\n",
        "\n",
        "**행렬**이 연산에 편리<br>\n",
        "행렬 = 기본적인 표현 방식<br>\n",
        "행렬로 숫자 표현하는 것 매우 중요!\n",
        "\n",
        "3차원 --> nxmxp --> 직육면체도 가능"
      ]
    },
    {
      "cell_type": "code",
      "metadata": {
        "colab": {
          "base_uri": "https://localhost:8080/"
        },
        "id": "a-iY9lofXmkx",
        "outputId": "614f850d-3f2c-476b-d25f-8a870840318f"
      },
      "source": [
        "np.zeros([2,3])\n",
        "#2x3의 zero로 가득한 행렬 만들어라"
      ],
      "execution_count": 3,
      "outputs": [
        {
          "output_type": "execute_result",
          "data": {
            "text/plain": [
              "array([[0., 0., 0.],\n",
              "       [0., 0., 0.]])"
            ]
          },
          "metadata": {
            "tags": []
          },
          "execution_count": 3
        }
      ]
    },
    {
      "cell_type": "markdown",
      "metadata": {
        "id": "0XJesOt4YZ6w"
      },
      "source": [
        "for i in **range** 와 비슷!\n",
        "\n",
        "arange라는 함수가 numpy 안에 있음<br>\n",
        "**arange(0,10,2)** --> **0부터 10직전까지(10포함 X) 2만큼의 increment를 가지고 숫자를 만들어라!**<br>\n",
        "= 0 2 4 6 8 "
      ]
    },
    {
      "cell_type": "code",
      "metadata": {
        "colab": {
          "base_uri": "https://localhost:8080/"
        },
        "id": "bGB4TQfvYYee",
        "outputId": "12556f36-2b6f-4ead-e63c-b9df384ed293"
      },
      "source": [
        "np.arange(0,10,2, dtype='float64') #float도 되긔\n",
        "#데이터타입 소수(?)"
      ],
      "execution_count": 5,
      "outputs": [
        {
          "output_type": "execute_result",
          "data": {
            "text/plain": [
              "array([0., 2., 4., 6., 8.])"
            ]
          },
          "metadata": {
            "tags": []
          },
          "execution_count": 5
        }
      ]
    },
    {
      "cell_type": "code",
      "metadata": {
        "colab": {
          "base_uri": "https://localhost:8080/"
        },
        "id": "Nu9ieJawY4gm",
        "outputId": "dc2cd5bc-30a2-4fc3-a027-22c8aedc96cb"
      },
      "source": [
        "np.arange(0,10,2, dtype='float')"
      ],
      "execution_count": 6,
      "outputs": [
        {
          "output_type": "execute_result",
          "data": {
            "text/plain": [
              "array([0., 2., 4., 6., 8.])"
            ]
          },
          "metadata": {
            "tags": []
          },
          "execution_count": 6
        }
      ]
    },
    {
      "cell_type": "code",
      "metadata": {
        "colab": {
          "base_uri": "https://localhost:8080/"
        },
        "id": "PLgkvj93ZJSi",
        "outputId": "2022481b-a036-4f95-82bb-4a075ce01ff3"
      },
      "source": [
        "print(np.empty([2,3], dtype='int')) #empty는 반드시 0일 필요는 없음\n",
        "print(type(np.empty([2,3]))) #오잉 이건 모쥥"
      ],
      "execution_count": 15,
      "outputs": [
        {
          "output_type": "stream",
          "text": [
            "[[94110312575632              0              0]\n",
            " [             0              0              0]]\n",
            "<class 'numpy.ndarray'>\n"
          ],
          "name": "stdout"
        }
      ]
    },
    {
      "cell_type": "code",
      "metadata": {
        "colab": {
          "base_uri": "https://localhost:8080/"
        },
        "id": "6E98DvJrZOcX",
        "outputId": "e41816b6-dcdc-4173-e317-b105b6691675"
      },
      "source": [
        "np.linspace(0,10,6, dtype='int') #0부터 10까지(10포함 o) 6개의 숫자를 등 간격으로"
      ],
      "execution_count": 18,
      "outputs": [
        {
          "output_type": "execute_result",
          "data": {
            "text/plain": [
              "array([ 0,  2,  4,  6,  8, 10])"
            ]
          },
          "metadata": {
            "tags": []
          },
          "execution_count": 18
        }
      ]
    },
    {
      "cell_type": "code",
      "metadata": {
        "colab": {
          "base_uri": "https://localhost:8080/"
        },
        "id": "P4pRmBBAaUSX",
        "outputId": "d1ed8b9b-79fb-4223-d421-ee07b12d5c26"
      },
      "source": [
        "np.linspace(0,10,6, dtype='float64')\n",
        "#길쭉한 숫자열 = vector고, vecotr도 행렬임 ㅎㅎ"
      ],
      "execution_count": 21,
      "outputs": [
        {
          "output_type": "execute_result",
          "data": {
            "text/plain": [
              "array([ 0.,  2.,  4.,  6.,  8., 10.])"
            ]
          },
          "metadata": {
            "tags": []
          },
          "execution_count": 21
        }
      ]
    },
    {
      "cell_type": "markdown",
      "metadata": {
        "id": "4LY5goxWZsh_"
      },
      "source": [
        "**linspace**가 정말 정말 중요, **linear space**\n",
        "\n",
        "**linspace**(0,10,6) 0부터 10까지 등(=)간격으로 총 6개의 숫자를 만들어라<br>\n",
        "**arange와 달리 제일 마지막 10도 포함하는구나**!\n",
        "\n",
        "arange는 increment 사용, linspace는 몇 개로 쪼개라!\n"
      ]
    },
    {
      "cell_type": "markdown",
      "metadata": {
        "id": "Y3ycMGrWbV3X"
      },
      "source": [
        "\n",
        "1 3 5 <br>\n",
        "2 4 6 <br>\n",
        "--> 2x3 행렬\n",
        "\n",
        "0 0<br>\n",
        "0 0<br>\n",
        "0 0<br>\n",
        "--> 3x2 행렬\n",
        "\n",
        "1x3, 3x1도 행렬로 만들 수 있음 --> **vector**\n",
        "\n",
        "0 0 0 = row vector<br> \n",
        "\n",
        "0<br>\n",
        "0<br>\n",
        "0<br>\n",
        "= colum vector\n",
        "\n",
        "**vector**도 **행렬**임! 모양이 세로든 가로든 길쭉하게 생긴 숫자열\n",
        "\n"
      ]
    },
    {
      "cell_type": "code",
      "metadata": {
        "colab": {
          "base_uri": "https://localhost:8080/"
        },
        "id": "RwjONFOsb5Bk",
        "outputId": "d87cee68-055f-4385-f030-05849afc7947"
      },
      "source": [
        "x=np.array([[1,2,3],[4,5,6]]) #2x3 표현 방법 알아두기, list의 형태\n",
        "x #array를 행렬이랑 비슷한 의미로 이해해두기(?)"
      ],
      "execution_count": 22,
      "outputs": [
        {
          "output_type": "execute_result",
          "data": {
            "text/plain": [
              "array([[1, 2, 3],\n",
              "       [4, 5, 6]])"
            ]
          },
          "metadata": {
            "tags": []
          },
          "execution_count": 22
        }
      ]
    },
    {
      "cell_type": "markdown",
      "metadata": {
        "id": "AKctBwzkcTNt"
      },
      "source": [
        "# [ ------ , ------] --> 2x3의 2\n",
        "\n",
        "# [[0,0,0], [0,0,0]] --> 2x3의 3 \n",
        "\n"
      ]
    },
    {
      "cell_type": "code",
      "metadata": {
        "colab": {
          "base_uri": "https://localhost:8080/"
        },
        "id": "PYEjs_0lcBvb",
        "outputId": "d43f13c8-3805-4a9f-b9a6-57ff98fc0991"
      },
      "source": [
        "x.astype(np.float) #x가 class, x의 타입을 바꾸는 것\n",
        "#소수점이 다 나옴!"
      ],
      "execution_count": 23,
      "outputs": [
        {
          "output_type": "execute_result",
          "data": {
            "text/plain": [
              "array([[1., 2., 3.],\n",
              "       [4., 5., 6.]])"
            ]
          },
          "metadata": {
            "tags": []
          },
          "execution_count": 23
        }
      ]
    },
    {
      "cell_type": "code",
      "metadata": {
        "colab": {
          "base_uri": "https://localhost:8080/"
        },
        "id": "VBkCtzZ6c4bb",
        "outputId": "bba5dfdf-6bd0-4d52-b1e6-e74d6afbd4b1"
      },
      "source": [
        "np.zeros_like(x) #x array를 2x3는 유지한 채 모두 0 0 0 으로 대체해라"
      ],
      "execution_count": 24,
      "outputs": [
        {
          "output_type": "execute_result",
          "data": {
            "text/plain": [
              "array([[0, 0, 0],\n",
              "       [0, 0, 0]])"
            ]
          },
          "metadata": {
            "tags": []
          },
          "execution_count": 24
        }
      ]
    },
    {
      "cell_type": "markdown",
      "metadata": {
        "id": "x_w2SuaidSDY"
      },
      "source": [
        "data=np.random.normal(0,1,100)<br>\n",
        "  np가 큰 패키지<br>\n",
        "  random이라는 모듈이 있다고 생각<br>\n",
        "  그 모듈 속에 normal이라는 함수가 정의되어 있구나<br>\n",
        "\n",
        "normal은 normal distribution의 형태로 만드는 것\n",
        "\n"
      ]
    },
    {
      "cell_type": "code",
      "metadata": {
        "colab": {
          "base_uri": "https://localhost:8080/"
        },
        "id": "6_6rlzEFdASP",
        "outputId": "d8d08e05-7dc1-4daa-f67e-ce095bb1ad0c"
      },
      "source": [
        "np.random.normal(0, 1, 100) #0의 위치에 1이라는 표준편차를 가지고 총 100개\n",
        "#그리고 normal distribution을 가져라\n",
        "#0이 중간, std = 10 (std가 더 클수록 넓고, 작을 수록 뾰쬭!)\n",
        "#그런 분포를 만들어낼만한 숫자 100개를 random 하게~\n",
        "#0x0이런 2차원 행렬의 형태가 아니라, 1차원 \"백터\"라고 생각하면 됨 --> 100개의 숫자 열, 꺽쇠가 하나밖에 없음"
      ],
      "execution_count": 27,
      "outputs": [
        {
          "output_type": "execute_result",
          "data": {
            "text/plain": [
              "array([ 0.65508429,  1.52272026, -2.33631362,  0.71203308,  0.68762402,\n",
              "       -0.52942357, -1.2158732 ,  0.75736823,  1.54567253,  0.52645563,\n",
              "       -0.20060575,  0.17225034,  0.77053676,  2.07370038, -1.56614015,\n",
              "        0.24045432,  1.27803977, -0.77465311, -0.58728654, -1.34463317,\n",
              "       -0.54683503,  0.90482506,  0.16983464, -0.55781708,  1.98307556,\n",
              "        1.00018075, -1.33593745,  1.0372217 ,  0.9626681 ,  0.86872073,\n",
              "       -1.80979943, -1.0911217 ,  0.90618456,  0.42066771, -0.82542098,\n",
              "        1.16309609, -2.21424888, -0.08994653, -0.02982483,  0.41993757,\n",
              "        0.64276289,  0.66265724, -0.04306958, -1.66491789, -0.83994675,\n",
              "       -1.06400144,  1.39316523, -1.1263254 ,  2.76271726, -0.38998015,\n",
              "       -0.27547259,  0.64292966,  1.07838427,  0.1167655 ,  0.48526354,\n",
              "        1.69000977, -0.71804774, -0.45276366,  2.96016187,  1.10252172,\n",
              "       -0.13888086, -0.97837464, -0.00850127, -0.10191902,  1.32815058,\n",
              "        1.04204037,  0.96625482, -0.21462681,  1.17598755,  1.05932525,\n",
              "        1.45248314,  1.40784205,  0.15929728,  2.0738226 ,  1.04204182,\n",
              "       -0.93341022,  1.16680337, -0.22207961,  0.71966232,  1.4158551 ,\n",
              "       -2.16236577, -0.47377998,  1.7406658 ,  0.50266384, -0.91870523,\n",
              "       -0.22611923, -0.79104242,  0.35316067, -0.36812602, -1.46941315,\n",
              "       -0.16472498, -1.30937727, -0.4076526 , -0.46633347,  1.45969313,\n",
              "       -0.97183074, -0.47577881,  0.29463703,  0.79058067, -1.05794016])"
            ]
          },
          "metadata": {
            "tags": []
          },
          "execution_count": 27
        }
      ]
    },
    {
      "cell_type": "code",
      "metadata": {
        "colab": {
          "base_uri": "https://localhost:8080/",
          "height": 639
        },
        "id": "CO_kZfGsd2yV",
        "outputId": "77f1c545-2b46-45a1-ae27-317e91404b31"
      },
      "source": [
        "data=np.random.normal(0,10,100)\n",
        "print(data)\n",
        "plt.hist(data, bins=10)\n",
        "plt.show()\n",
        "#히스토그램-일종의 그래프를 그리는 것/ matplotlib.pyplot 내부에 들어있는 것\n",
        "#데이터 숫자열 100개짜리 #bins -> 막대 10개\n",
        "#bins 20개하면 더 촘촘, 3개하면 너무 뭉뚱그려지고, 500개 해도 너무 fine-grained?\n",
        "#bin 갯수를 적절하게 조정해야 함!"
      ],
      "execution_count": 31,
      "outputs": [
        {
          "output_type": "stream",
          "text": [
            "[ -5.2256495   -7.94675854   1.21896834  -7.64750306   5.58022403\n",
            "   0.32172238   7.19420556  -8.87866077  -5.2576635    2.18317248\n",
            "  -0.65638421   6.32706975  -9.7535737   -0.42110183   7.27656795\n",
            "  -7.05445525 -15.55833808   8.2096487    1.68250237  -3.06067466\n",
            "  10.48643594  10.88550983   4.51207639   8.58826996   9.79481237\n",
            "   2.29671486   9.49938383  -5.22489338  -1.02749911  -7.41325273\n",
            "   6.60005399   2.47890208   4.03786542   9.73750737  -6.48186027\n",
            "   9.27325207  -9.95914796 -12.73105217 -13.69728492 -32.6480803\n",
            "  -5.75636068   6.55687453   0.51198663 -10.63768865  -9.31550576\n",
            "  -5.84757061   3.39371319  -9.78837131 -15.22654411   0.06810752\n",
            "  18.23302206  -0.11778374 -13.50436561   0.72619835  -9.12766816\n",
            "  -5.50298695   4.92143598  -1.84208282  -0.89164872 -16.85267557\n",
            "   7.04341281   8.21204988   5.33687479  27.71067549  -2.3401385\n",
            " -11.42911394   8.64577573   6.07448916 -23.25958224 -13.28980326\n",
            " -15.62569678   1.20264367  22.36015282 -12.7516629    5.54117433\n",
            "  11.22662589  -1.03555155  -2.73932437  13.88864792  -4.7394435\n",
            "   3.51480677   5.50411293  -0.95501266   2.66858712  13.5015923\n",
            "   1.83679319   6.44712726  15.19499671  -3.02425791 -18.17187457\n",
            "   2.8384885    2.14380039   7.44975286   2.65556673  15.49972438\n",
            "  13.57628145 -20.00010575 -17.09025908   8.57407162 -10.228161  ]\n"
          ],
          "name": "stdout"
        },
        {
          "output_type": "display_data",
          "data": {
            "image/png": "[encoded data removed]",
            "text/plain": [
              "<Figure size 432x288 with 1 Axes>"
            ]
          },
          "metadata": {
            "tags": [],
            "needs_background": "light"
          }
        }
      ]
    },
    {
      "cell_type": "markdown",
      "metadata": {
        "id": "CtLf8ndWe5pv"
      },
      "source": [
        "~50분"
      ]
    },
    {
      "cell_type": "code",
      "metadata": {
        "colab": {
          "base_uri": "https://localhost:8080/",
          "height": 195
        },
        "id": "9kmvlvBQfG3Y",
        "outputId": "5bf20d20-8270-4b5c-d76a-c06039620a10"
      },
      "source": [
        "plt.his(data,bins=20)\n",
        "plt.show()"
      ],
      "execution_count": 32,
      "outputs": [
        {
          "output_type": "error",
          "ename": "AttributeError",
          "evalue": "ignored",
          "traceback": [
            "\u001b[0;31m---------------------------------------------------------------------------\u001b[0m",
            "\u001b[0;31mAttributeError\u001b[0m                            Traceback (most recent call last)",
            "\u001b[0;32m<ipython-input-32-091ffb9053a7>\u001b[0m in \u001b[0;36m<module>\u001b[0;34m()\u001b[0m\n\u001b[0;32m----> 1\u001b[0;31m \u001b[0mplt\u001b[0m\u001b[0;34m.\u001b[0m\u001b[0mhis\u001b[0m\u001b[0;34m(\u001b[0m\u001b[0mdata\u001b[0m\u001b[0;34m,\u001b[0m\u001b[0mbins\u001b[0m\u001b[0;34m=\u001b[0m\u001b[0;36m20\u001b[0m\u001b[0;34m)\u001b[0m\u001b[0;34m\u001b[0m\u001b[0;34m\u001b[0m\u001b[0m\n\u001b[0m\u001b[1;32m      2\u001b[0m \u001b[0mplt\u001b[0m\u001b[0;34m.\u001b[0m\u001b[0mshow\u001b[0m\u001b[0;34m(\u001b[0m\u001b[0;34m)\u001b[0m\u001b[0;34m\u001b[0m\u001b[0;34m\u001b[0m\u001b[0m\n",
            "\u001b[0;31mAttributeError\u001b[0m: module 'matplotlib.pyplot' has no attribute 'his'"
          ]
        }
      ]
    },
    {
      "cell_type": "code",
      "metadata": {
        "id": "qikhqP6SesnN"
      },
      "source": [
        ""
      ],
      "execution_count": null,
      "outputs": []
    }
  ]
}