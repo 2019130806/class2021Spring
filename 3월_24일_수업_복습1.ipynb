{
  "nbformat": 4,
  "nbformat_minor": 0,
  "metadata": {
    "colab": {
      "name": "3월 24일 수업 복습1",
      "provenance": [],
      "collapsed_sections": [],
      "authorship_tag": "ABX9TyNL1X1OoNkI1bmvpdPgS9W+",
      "include_colab_link": true
    },
    "kernelspec": {
      "name": "python3",
      "display_name": "Python 3"
    },
    "language_info": {
      "name": "python"
    }
  },
  "cells": [
    {
      "cell_type": "markdown",
      "metadata": {
        "id": "view-in-github",
        "colab_type": "text"
      },
      "source": [
        "<a href=\"https://colab.research.google.com/github/2019130806/class2021Spring/blob/main/3%EC%9B%94_24%EC%9D%BC_%EC%88%98%EC%97%85_%EB%B3%B5%EC%8A%B51.ipynb\" target=\"_parent\"><img src=\"https://colab.research.google.com/assets/colab-badge.svg\" alt=\"Open In Colab\"/></a>"
      ]
    },
    {
      "cell_type": "code",
      "metadata": {
        "id": "W4ftX9q8Uffn"
      },
      "source": [
        ""
      ],
      "execution_count": null,
      "outputs": []
    },
    {
      "cell_type": "markdown",
      "metadata": {
        "id": "FJO7duTVUg1B"
      },
      "source": [
        "package 안에 subpacakge 있을 수 있고, module이 .py형태로 존재, module안에는 class, function이 여러개 미리 정의되어 있을 수 있음\n",
        "\n",
        "1. numpy를 import\n",
        "\n",
        "import numpy as np 하면 이 디렉토리 전체가 쓸 수 잉ㅆ게 불러진 것\n",
        "\n",
        "numpy안에 여러 가지 function들\n",
        "\n",
        "numpy.sin(파이) 이런 식으로 쓸 때 기니까<br>\n",
        "numpy를 np로 줄여쓰려고<br>\n",
        "import **numpy as np** -> numpy를 이제부터 np라고 부르자\n",
        "\n",
        "**np**.empty<br>\n",
        "as np가 없으면 다 numpy로 적혀 있어야 함\n",
        "\n",
        "import **matplotlib.pyplot** as **plt**\n",
        "\n",
        "**plt**.hist(data, bins=10) 이런 식으로 plt 써서!<br>\n",
        "**plt**.show<br>\n",
        "pyplot이라는 모듈 안에 있는 hist와 show 라는 function을 쓰는 것\n",
        "\n",
        "import 는 제일 위에 해도 되고, 필요할 때 중간 중간 해도 됨!\n"
      ]
    },
    {
      "cell_type": "code",
      "metadata": {
        "id": "fJEoAuObVrb5"
      },
      "source": [
        "import numpy as np\n",
        "import matplotlib.pyplot as plt"
      ],
      "execution_count": 4,
      "outputs": []
    },
    {
      "cell_type": "code",
      "metadata": {
        "colab": {
          "base_uri": "https://localhost:8080/"
        },
        "id": "hDw1b-6EVu4e",
        "outputId": "bcfac171-7e3f-41dc-cc1e-86aacbf7e9fd"
      },
      "source": [
        "np.empty ([2,3], dtype='int')\n",
        "#empty 행렬을 2x3로 만들어라\n",
        "#data type이 'int'면 좋겠다"
      ],
      "execution_count": 5,
      "outputs": [
        {
          "output_type": "execute_result",
          "data": {
            "text/plain": [
              "array([[94922530136400,              0,              0],\n",
              "       [             0,              0,              0]])"
            ]
          },
          "metadata": {
            "tags": []
          },
          "execution_count": 5
        }
      ]
    },
    {
      "cell_type": "markdown",
      "metadata": {
        "id": "7wtGSQHPXoue"
      },
      "source": [
        "[2,3] 하면 2x3 직사각형의 행렬을 만들어라<br>\n",
        "**가로 방향이 행, 세로 방향이 열**<br>\n",
        "0 0 0 <br> \n",
        "0 0 0 --> 2 행<br>\n",
        "3열\n",
        "\n",
        "**행렬**이 연산에 편리<br>\n",
        "행렬 = 기본적인 표현 방식<br>\n",
        "행렬로 숫자 표현하는 것 매우 중요!\n",
        "\n",
        "3차원 --> nxmxp --> 직육면체도 가능"
      ]
    },
    {
      "cell_type": "code",
      "metadata": {
        "colab": {
          "base_uri": "https://localhost:8080/"
        },
        "id": "a-iY9lofXmkx",
        "outputId": "614f850d-3f2c-476b-d25f-8a870840318f"
      },
      "source": [
        "np.zeros([2,3])\n",
        "#2x3의 zero로 가득한 행렬 만들어라"
      ],
      "execution_count": null,
      "outputs": [
        {
          "output_type": "execute_result",
          "data": {
            "text/plain": [
              "array([[0., 0., 0.],\n",
              "       [0., 0., 0.]])"
            ]
          },
          "metadata": {
            "tags": []
          },
          "execution_count": 3
        }
      ]
    },
    {
      "cell_type": "markdown",
      "metadata": {
        "id": "0XJesOt4YZ6w"
      },
      "source": [
        "for i in **range** 와 비슷!\n",
        "\n",
        "arange라는 함수가 numpy 안에 있음<br>\n",
        "**arange(0,10,2)** --> **0부터 10직전까지(10포함 X) 2만큼의 increment를 가지고 숫자를 만들어라!**<br>\n",
        "= 0 2 4 6 8 "
      ]
    },
    {
      "cell_type": "code",
      "metadata": {
        "colab": {
          "base_uri": "https://localhost:8080/"
        },
        "id": "bGB4TQfvYYee",
        "outputId": "12556f36-2b6f-4ead-e63c-b9df384ed293"
      },
      "source": [
        "np.arange(0,10,2, dtype='float64') #float도 되긔\n",
        "#데이터타입 소수(?)"
      ],
      "execution_count": null,
      "outputs": [
        {
          "output_type": "execute_result",
          "data": {
            "text/plain": [
              "array([0., 2., 4., 6., 8.])"
            ]
          },
          "metadata": {
            "tags": []
          },
          "execution_count": 5
        }
      ]
    },
    {
      "cell_type": "code",
      "metadata": {
        "colab": {
          "base_uri": "https://localhost:8080/"
        },
        "id": "Nu9ieJawY4gm",
        "outputId": "dc2cd5bc-30a2-4fc3-a027-22c8aedc96cb"
      },
      "source": [
        "np.arange(0,10,2, dtype='float')"
      ],
      "execution_count": null,
      "outputs": [
        {
          "output_type": "execute_result",
          "data": {
            "text/plain": [
              "array([0., 2., 4., 6., 8.])"
            ]
          },
          "metadata": {
            "tags": []
          },
          "execution_count": 6
        }
      ]
    },
    {
      "cell_type": "code",
      "metadata": {
        "colab": {
          "base_uri": "https://localhost:8080/"
        },
        "id": "PLgkvj93ZJSi",
        "outputId": "2022481b-a036-4f95-82bb-4a075ce01ff3"
      },
      "source": [
        "print(np.empty([2,3], dtype='int')) #empty는 반드시 0일 필요는 없음\n",
        "print(type(np.empty([2,3]))) #오잉 이건 모쥥"
      ],
      "execution_count": null,
      "outputs": [
        {
          "output_type": "stream",
          "text": [
            "[[94110312575632              0              0]\n",
            " [             0              0              0]]\n",
            "<class 'numpy.ndarray'>\n"
          ],
          "name": "stdout"
        }
      ]
    },
    {
      "cell_type": "code",
      "metadata": {
        "colab": {
          "base_uri": "https://localhost:8080/"
        },
        "id": "6E98DvJrZOcX",
        "outputId": "e41816b6-dcdc-4173-e317-b105b6691675"
      },
      "source": [
        "np.linspace(0,10,6, dtype='int') #0부터 10까지(10포함 o) 6개의 숫자를 등 간격으로"
      ],
      "execution_count": null,
      "outputs": [
        {
          "output_type": "execute_result",
          "data": {
            "text/plain": [
              "array([ 0,  2,  4,  6,  8, 10])"
            ]
          },
          "metadata": {
            "tags": []
          },
          "execution_count": 18
        }
      ]
    },
    {
      "cell_type": "code",
      "metadata": {
        "colab": {
          "base_uri": "https://localhost:8080/"
        },
        "id": "P4pRmBBAaUSX",
        "outputId": "d1ed8b9b-79fb-4223-d421-ee07b12d5c26"
      },
      "source": [
        "np.linspace(0,10,6, dtype='float64')\n",
        "#길쭉한 숫자열 = vector고, vecotr도 행렬임 ㅎㅎ"
      ],
      "execution_count": null,
      "outputs": [
        {
          "output_type": "execute_result",
          "data": {
            "text/plain": [
              "array([ 0.,  2.,  4.,  6.,  8., 10.])"
            ]
          },
          "metadata": {
            "tags": []
          },
          "execution_count": 21
        }
      ]
    },
    {
      "cell_type": "markdown",
      "metadata": {
        "id": "4LY5goxWZsh_"
      },
      "source": [
        "**linspace**가 정말 정말 중요, **linear space**\n",
        "\n",
        "**linspace**(0,10,6) 0부터 10까지 등(=)간격으로 총 6개의 숫자를 만들어라<br>\n",
        "**arange와 달리 제일 마지막 10도 포함하는구나**!\n",
        "\n",
        "arange는 increment 사용, linspace는 몇 개로 쪼개라!\n"
      ]
    },
    {
      "cell_type": "markdown",
      "metadata": {
        "id": "Y3ycMGrWbV3X"
      },
      "source": [
        "\n",
        "1 3 5 <br>\n",
        "2 4 6 <br>\n",
        "--> 2x3 행렬\n",
        "\n",
        "0 0<br>\n",
        "0 0<br>\n",
        "0 0<br>\n",
        "--> 3x2 행렬\n",
        "\n",
        "1x3, 3x1도 행렬로 만들 수 있음 --> **vector**\n",
        "\n",
        "0 0 0 = row vector<br> \n",
        "\n",
        "0<br>\n",
        "0<br>\n",
        "0<br>\n",
        "= colum vector\n",
        "\n",
        "**vector**도 **행렬**임! 모양이 세로든 가로든 길쭉하게 생긴 숫자열\n",
        "\n"
      ]
    },
    {
      "cell_type": "code",
      "metadata": {
        "colab": {
          "base_uri": "https://localhost:8080/"
        },
        "id": "RwjONFOsb5Bk",
        "outputId": "d87cee68-055f-4385-f030-05849afc7947"
      },
      "source": [
        "x=np.array([[1,2,3],[4,5,6]]) #2x3 표현 방법 알아두기, list의 형태\n",
        "x #array를 행렬이랑 비슷한 의미로 이해해두기(?)"
      ],
      "execution_count": null,
      "outputs": [
        {
          "output_type": "execute_result",
          "data": {
            "text/plain": [
              "array([[1, 2, 3],\n",
              "       [4, 5, 6]])"
            ]
          },
          "metadata": {
            "tags": []
          },
          "execution_count": 22
        }
      ]
    },
    {
      "cell_type": "markdown",
      "metadata": {
        "id": "AKctBwzkcTNt"
      },
      "source": [
        "# [ ------ , ------] --> 2x3의 2\n",
        "\n",
        "# [[0,0,0], [0,0,0]] --> 2x3의 3 \n",
        "\n"
      ]
    },
    {
      "cell_type": "code",
      "metadata": {
        "colab": {
          "base_uri": "https://localhost:8080/"
        },
        "id": "PYEjs_0lcBvb",
        "outputId": "d43f13c8-3805-4a9f-b9a6-57ff98fc0991"
      },
      "source": [
        "x.astype(np.float) #x가 class, x의 타입을 바꾸는 것\n",
        "#소수점이 다 나옴!"
      ],
      "execution_count": null,
      "outputs": [
        {
          "output_type": "execute_result",
          "data": {
            "text/plain": [
              "array([[1., 2., 3.],\n",
              "       [4., 5., 6.]])"
            ]
          },
          "metadata": {
            "tags": []
          },
          "execution_count": 23
        }
      ]
    },
    {
      "cell_type": "code",
      "metadata": {
        "colab": {
          "base_uri": "https://localhost:8080/"
        },
        "id": "VBkCtzZ6c4bb",
        "outputId": "bba5dfdf-6bd0-4d52-b1e6-e74d6afbd4b1"
      },
      "source": [
        "np.zeros_like(x) #x array를 2x3는 유지한 채 모두 0 0 0 으로 대체해라"
      ],
      "execution_count": null,
      "outputs": [
        {
          "output_type": "execute_result",
          "data": {
            "text/plain": [
              "array([[0, 0, 0],\n",
              "       [0, 0, 0]])"
            ]
          },
          "metadata": {
            "tags": []
          },
          "execution_count": 24
        }
      ]
    },
    {
      "cell_type": "markdown",
      "metadata": {
        "id": "x_w2SuaidSDY"
      },
      "source": [
        "data=np.random.normal(0,1,100)<br>\n",
        "  np가 큰 패키지<br>\n",
        "  random이라는 모듈이 있다고 생각<br>\n",
        "  그 모듈 속에 normal이라는 함수가 정의되어 있구나<br>\n",
        "\n",
        "normal은 normal distribution의 형태로 만드는 것\n",
        "\n"
      ]
    },
    {
      "cell_type": "code",
      "metadata": {
        "colab": {
          "base_uri": "https://localhost:8080/"
        },
        "id": "6_6rlzEFdASP",
        "outputId": "d8d08e05-7dc1-4daa-f67e-ce095bb1ad0c"
      },
      "source": [
        "np.random.normal(0, 1, 100) #0의 위치에 1이라는 표준편차를 가지고 총 100개\n",
        "#그리고 normal distribution을 가져라\n",
        "#0이 중간, std = 10 (std가 더 클수록 넓고, 작을 수록 뾰쬭!)\n",
        "#그런 분포를 만들어낼만한 숫자 100개를 random 하게~\n",
        "#0x0이런 2차원 행렬의 형태가 아니라, 1차원 \"백터\"라고 생각하면 됨 --> 100개의 숫자 열, 꺽쇠가 하나밖에 없음"
      ],
      "execution_count": null,
      "outputs": [
        {
          "output_type": "execute_result",
          "data": {
            "text/plain": [
              "array([ 0.65508429,  1.52272026, -2.33631362,  0.71203308,  0.68762402,\n",
              "       -0.52942357, -1.2158732 ,  0.75736823,  1.54567253,  0.52645563,\n",
              "       -0.20060575,  0.17225034,  0.77053676,  2.07370038, -1.56614015,\n",
              "        0.24045432,  1.27803977, -0.77465311, -0.58728654, -1.34463317,\n",
              "       -0.54683503,  0.90482506,  0.16983464, -0.55781708,  1.98307556,\n",
              "        1.00018075, -1.33593745,  1.0372217 ,  0.9626681 ,  0.86872073,\n",
              "       -1.80979943, -1.0911217 ,  0.90618456,  0.42066771, -0.82542098,\n",
              "        1.16309609, -2.21424888, -0.08994653, -0.02982483,  0.41993757,\n",
              "        0.64276289,  0.66265724, -0.04306958, -1.66491789, -0.83994675,\n",
              "       -1.06400144,  1.39316523, -1.1263254 ,  2.76271726, -0.38998015,\n",
              "       -0.27547259,  0.64292966,  1.07838427,  0.1167655 ,  0.48526354,\n",
              "        1.69000977, -0.71804774, -0.45276366,  2.96016187,  1.10252172,\n",
              "       -0.13888086, -0.97837464, -0.00850127, -0.10191902,  1.32815058,\n",
              "        1.04204037,  0.96625482, -0.21462681,  1.17598755,  1.05932525,\n",
              "        1.45248314,  1.40784205,  0.15929728,  2.0738226 ,  1.04204182,\n",
              "       -0.93341022,  1.16680337, -0.22207961,  0.71966232,  1.4158551 ,\n",
              "       -2.16236577, -0.47377998,  1.7406658 ,  0.50266384, -0.91870523,\n",
              "       -0.22611923, -0.79104242,  0.35316067, -0.36812602, -1.46941315,\n",
              "       -0.16472498, -1.30937727, -0.4076526 , -0.46633347,  1.45969313,\n",
              "       -0.97183074, -0.47577881,  0.29463703,  0.79058067, -1.05794016])"
            ]
          },
          "metadata": {
            "tags": []
          },
          "execution_count": 27
        }
      ]
    },
    {
      "cell_type": "code",
      "metadata": {
        "colab": {
          "base_uri": "https://localhost:8080/",
          "height": 303
        },
        "id": "CO_kZfGsd2yV",
        "outputId": "2c90010d-aa3c-4b8d-c8d9-b45b6070d228"
      },
      "source": [
        "data=np.random.normal(0,10,100000) #맨 마지막에 오는 숫자가 커질수록 정규분포에 가까움\n",
        "#가운데 들어오는 표준 편자는 0보다 커야함. 표준편차가 커질수록 뚱뚱쓰 ㅎㅎ\n",
        "print(data) #100개의 숫자열이니까 vector 맞다!\n",
        "plt.hist(data, bins=100)#data는 위에서 만들어 놓은 100개짜리 숫자열!\n",
        "plt.show()\n",
        "#히스토그램-일종의 그래프를 그리는 것/ matplotlib.pyplot 내부에 들어있는 것\n",
        "#데이터 숫자열 100개짜리 #bins -> 막대 10개\n",
        "#bins 20개하면 더 촘촘, 3개하면 너무 뭉뚱그려지고, 500개 해도 너무 fine-grained?\n",
        "#bin 갯수를 적절하게 조정해야 함!"
      ],
      "execution_count": 17,
      "outputs": [
        {
          "output_type": "stream",
          "text": [
            "[ 17.66088474  -5.85382897   6.65784984 ...   5.91493118 -11.53788843\n",
            "  -0.57301337]\n"
          ],
          "name": "stdout"
        },
        {
          "output_type": "display_data",
          "data": {
            "image/png": "[encoded data removed]",
            "text/plain": [
              "<Figure size 432x288 with 1 Axes>"
            ]
          },
          "metadata": {
            "tags": [],
            "needs_background": "light"
          }
        }
      ]
    },
    {
      "cell_type": "markdown",
      "metadata": {
        "id": "CtLf8ndWe5pv"
      },
      "source": [
        ""
      ]
    },
    {
      "cell_type": "code",
      "metadata": {
        "id": "qikhqP6SesnN",
        "colab": {
          "base_uri": "https://localhost:8080/"
        },
        "outputId": "0826b31e-210d-43ec-929d-aaa1c8727934"
      },
      "source": [
        "x=np.ones([2,3,4]) #2x3x4 3차원 행렬 / 1차원:vector / nxm = matrix / nxmxqxrxy -> tensor\n",
        "#vector < matrix < tensor (포함관계)\n",
        "# 2니까 [      ,       ]\n",
        "# 3이니까 [[ a ,  ,  ] , [   ,  ,   ]]\n",
        "# 4니까 [  ,  ,  ,  ] 가 위에 a 자리 하나에 들어가면 됨\n",
        "# 양극단에 [[[     ]]] 이렇게 꺽쇠 괄호가 3개씩\n",
        "# 결국엔 중첩된 list로 1차원, 2차원, 3차원 그 이상을 표현할 수 있는가 잘 알아야 함!"
      ],
      "execution_count": 18,
      "outputs": [
        {
          "output_type": "execute_result",
          "data": {
            "text/plain": [
              "array([[[1., 1., 1., 1.],\n",
              "        [1., 1., 1., 1.],\n",
              "        [1., 1., 1., 1.]],\n",
              "\n",
              "       [[1., 1., 1., 1.],\n",
              "        [1., 1., 1., 1.],\n",
              "        [1., 1., 1., 1.]]])"
            ]
          },
          "metadata": {
            "tags": []
          },
          "execution_count": 18
        }
      ]
    },
    {
      "cell_type": "markdown",
      "metadata": {
        "id": "wqrzuZBh5QsZ"
      },
      "source": [
        "2x3x4 의 행렬 tensor --> 그 속에 1이 몇개인가? = 2x3x4=24개\n",
        "\n",
        "4x6x1 이렇게도 만들 수 있음\n",
        "\n",
        "2x2x6 이렇게도 만들 수 있음\n",
        "\n",
        "3x2x4 도 가능\n",
        "\n",
        "다양한 combination!\n",
        "\n",
        "==> reshape"
      ]
    },
    {
      "cell_type": "code",
      "metadata": {
        "colab": {
          "base_uri": "https://localhost:8080/"
        },
        "id": "q-37acgv4RDo",
        "outputId": "55a8d193-a3fe-42aa-bb9a-1fa7f2aef15f"
      },
      "source": [
        "Y=x.reshape(-1,3,2) #-1은 미지수느낌, -1은 4가 됨\n",
        "Y #-1을 쓰는 것과 4를 쓰는 것은 같음"
      ],
      "execution_count": 20,
      "outputs": [
        {
          "output_type": "execute_result",
          "data": {
            "text/plain": [
              "array([[[1., 1.],\n",
              "        [1., 1.],\n",
              "        [1., 1.]],\n",
              "\n",
              "       [[1., 1.],\n",
              "        [1., 1.],\n",
              "        [1., 1.]],\n",
              "\n",
              "       [[1., 1.],\n",
              "        [1., 1.],\n",
              "        [1., 1.]],\n",
              "\n",
              "       [[1., 1.],\n",
              "        [1., 1.],\n",
              "        [1., 1.]]])"
            ]
          },
          "metadata": {
            "tags": []
          },
          "execution_count": 20
        }
      ]
    },
    {
      "cell_type": "code",
      "metadata": {
        "colab": {
          "base_uri": "https://localhost:8080/"
        },
        "id": "9Xr9LZSm50Gr",
        "outputId": "4d0a3da3-d11e-4d80-c5e9-73a05f9180e2"
      },
      "source": [
        "C=x.reshape(6,4,1) #tensor임 --> 3차원!\n",
        "C"
      ],
      "execution_count": 22,
      "outputs": [
        {
          "output_type": "execute_result",
          "data": {
            "text/plain": [
              "array([[[1.],\n",
              "        [1.],\n",
              "        [1.],\n",
              "        [1.]],\n",
              "\n",
              "       [[1.],\n",
              "        [1.],\n",
              "        [1.],\n",
              "        [1.]],\n",
              "\n",
              "       [[1.],\n",
              "        [1.],\n",
              "        [1.],\n",
              "        [1.]],\n",
              "\n",
              "       [[1.],\n",
              "        [1.],\n",
              "        [1.],\n",
              "        [1.]],\n",
              "\n",
              "       [[1.],\n",
              "        [1.],\n",
              "        [1.],\n",
              "        [1.]],\n",
              "\n",
              "       [[1.],\n",
              "        [1.],\n",
              "        [1.],\n",
              "        [1.]]])"
            ]
          },
          "metadata": {
            "tags": []
          },
          "execution_count": 22
        }
      ]
    },
    {
      "cell_type": "code",
      "metadata": {
        "colab": {
          "base_uri": "https://localhost:8080/"
        },
        "id": "0uXHkLo-583v",
        "outputId": "c5d7b97d-9d23-44e6-892e-f8550edf964f"
      },
      "source": [
        "x.reshape(6,4) #6,4,1 이랑 6,4이랑 다른 겨"
      ],
      "execution_count": 25,
      "outputs": [
        {
          "output_type": "execute_result",
          "data": {
            "text/plain": [
              "array([[1., 1., 1., 1.],\n",
              "       [1., 1., 1., 1.],\n",
              "       [1., 1., 1., 1.],\n",
              "       [1., 1., 1., 1.],\n",
              "       [1., 1., 1., 1.],\n",
              "       [1., 1., 1., 1.]])"
            ]
          },
          "metadata": {
            "tags": []
          },
          "execution_count": 25
        }
      ]
    },
    {
      "cell_type": "markdown",
      "metadata": {
        "id": "zHKsdNwJ6yyX"
      },
      "source": [
        "# Inspecting <br>\n"
      ]
    },
    {
      "cell_type": "code",
      "metadata": {
        "colab": {
          "base_uri": "https://localhost:8080/"
        },
        "id": "rYvoNu1O7A6u",
        "outputId": "399d5b41-d371-4850-f4b6-49a80689558f"
      },
      "source": [
        "arr=np.random.random(10)\n",
        "print(arr) #마이너스 없음. 다 0과 1사이\n",
        "arrr=np.random.random(100)\n",
        "print(arrr) #벡터"
      ],
      "execution_count": 29,
      "outputs": [
        {
          "output_type": "stream",
          "text": [
            "[0.69632954 0.27277741 0.26020471 0.44870279 0.16042417 0.14509899\n",
            " 0.78741667 0.39704994 0.50763956 0.79081058]\n",
            "[0.6704052  0.86412621 0.44057361 0.7247867  0.57419914 0.53550885\n",
            " 0.03513611 0.20955416 0.12296963 0.32484296 0.56976305 0.05507925\n",
            " 0.18248948 0.06464114 0.2920464  0.29546171 0.20553283 0.73162573\n",
            " 0.75071189 0.78570524 0.33879001 0.96694577 0.913898   0.94431503\n",
            " 0.22512204 0.93976654 0.98863147 0.50862286 0.93386046 0.44138192\n",
            " 0.14985416 0.2575316  0.10331785 0.89010003 0.49240515 0.28778903\n",
            " 0.24163457 0.77569779 0.26925649 0.09810145 0.52728077 0.84934559\n",
            " 0.42496695 0.44714837 0.97720742 0.63504882 0.6313658  0.68842993\n",
            " 0.4281376  0.0771362  0.39305533 0.27915623 0.0099836  0.17663019\n",
            " 0.55087787 0.45346296 0.28270443 0.1434534  0.80616239 0.97152848\n",
            " 0.06251139 0.77989261 0.96246648 0.15446153 0.21430424 0.30305462\n",
            " 0.62185241 0.83099741 0.69677462 0.41929015 0.88546355 0.71156719\n",
            " 0.59127649 0.09091715 0.32277408 0.35590105 0.14157557 0.57671553\n",
            " 0.33051722 0.82383588 0.40583358 0.5978629  0.87955836 0.35325824\n",
            " 0.93961535 0.96185123 0.44615561 0.44810115 0.5085404  0.79198951\n",
            " 0.37124679 0.61243884 0.07544851 0.23584539 0.58616039 0.46193702\n",
            " 0.22791582 0.90164809 0.41015925 0.80585011]\n"
          ],
          "name": "stdout"
        }
      ]
    },
    {
      "cell_type": "code",
      "metadata": {
        "colab": {
          "base_uri": "https://localhost:8080/"
        },
        "id": "K5ghy1m_6V9X",
        "outputId": "ac2e5fc9-7a1c-4572-8a35-e62375792558"
      },
      "source": [
        "arr=np.random.random([5,2,3]) #위에 random.normal이랑 구분\n",
        "arr #마지막에 대괄호 3개니까 --> 3차원이구나 알 수 있음"
      ],
      "execution_count": 30,
      "outputs": [
        {
          "output_type": "execute_result",
          "data": {
            "text/plain": [
              "array([[[0.1514011 , 0.96288195, 0.55790159],\n",
              "        [0.74483953, 0.73137648, 0.8411486 ]],\n",
              "\n",
              "       [[0.80749255, 0.52887427, 0.89679171],\n",
              "        [0.01135192, 0.26040471, 0.18321752]],\n",
              "\n",
              "       [[0.7381618 , 0.90376851, 0.99407545],\n",
              "        [0.39555799, 0.66093521, 0.68336559]],\n",
              "\n",
              "       [[0.33717759, 0.21405131, 0.38406047],\n",
              "        [0.96125167, 0.93544   , 0.23698569]],\n",
              "\n",
              "       [[0.22199174, 0.9217008 , 0.66372926],\n",
              "        [0.10782172, 0.05315333, 0.73133752]]])"
            ]
          },
          "metadata": {
            "tags": []
          },
          "execution_count": 30
        }
      ]
    },
    {
      "cell_type": "code",
      "metadata": {
        "colab": {
          "base_uri": "https://localhost:8080/"
        },
        "id": "GLmmTEis7epI",
        "outputId": "7f216de4-17fb-44b9-c90c-1c382855bf5b"
      },
      "source": [
        "a=1\n",
        "print(type(a))\n",
        "str='test'\n",
        "print(type(str))\n",
        "print(str.upper()) #점 찍어서 쓸 수 있는 것들 다 class였구나"
      ],
      "execution_count": 34,
      "outputs": [
        {
          "output_type": "stream",
          "text": [
            "<class 'int'>\n",
            "<class 'str'>\n",
            "TEST\n"
          ],
          "name": "stdout"
        }
      ]
    },
    {
      "cell_type": "code",
      "metadata": {
        "colab": {
          "base_uri": "https://localhost:8080/"
        },
        "id": "MQj38oqb67i-",
        "outputId": "555c8a63-fd1f-4dc6-cdf5-b1a526a943c1"
      },
      "source": [
        "print(type(arr)) #class구나~"
      ],
      "execution_count": 31,
      "outputs": [
        {
          "output_type": "stream",
          "text": [
            "<class 'numpy.ndarray'>\n"
          ],
          "name": "stdout"
        }
      ]
    },
    {
      "cell_type": "markdown",
      "metadata": {
        "id": "YAccRYhC8wr8"
      },
      "source": [
        ""
      ]
    },
    {
      "cell_type": "code",
      "metadata": {
        "colab": {
          "base_uri": "https://localhost:8080/"
        },
        "id": "EGs43yHp7ak-",
        "outputId": "6f36fd7a-343a-4239-ad3e-3e3943e0ba6b"
      },
      "source": [
        "a=['1', 3, 'test']\n",
        "len(a) #len --> list의 길이"
      ],
      "execution_count": 35,
      "outputs": [
        {
          "output_type": "execute_result",
          "data": {
            "text/plain": [
              "3"
            ]
          },
          "metadata": {
            "tags": []
          },
          "execution_count": 35
        }
      ]
    },
    {
      "cell_type": "code",
      "metadata": {
        "colab": {
          "base_uri": "https://localhost:8080/"
        },
        "id": "LrEgtYIE8j5G",
        "outputId": "e5a3579c-605c-433f-8da8-09fbe85fe0ae"
      },
      "source": [
        "print(len(arr)) #큰 대괄호의 관점에서 큰 대괄호가 품고 있는 것 몇개냐 --> 5개개"
      ],
      "execution_count": 37,
      "outputs": [
        {
          "output_type": "stream",
          "text": [
            "5\n"
          ],
          "name": "stdout"
        }
      ]
    },
    {
      "cell_type": "code",
      "metadata": {
        "colab": {
          "base_uri": "https://localhost:8080/"
        },
        "id": "pa7glVu68ot8",
        "outputId": "6414189b-4d7b-46e9-f6cb-026a2e02f007"
      },
      "source": [
        "print(arr.shape) #몇x몇x몇인지 알고 싶으면! --> shape"
      ],
      "execution_count": 38,
      "outputs": [
        {
          "output_type": "stream",
          "text": [
            "(5, 2, 3)\n"
          ],
          "name": "stdout"
        }
      ]
    },
    {
      "cell_type": "code",
      "metadata": {
        "colab": {
          "base_uri": "https://localhost:8080/"
        },
        "id": "atXGlCKP83Is",
        "outputId": "f992643d-e72c-4d3f-873f-58f7fc1d0335"
      },
      "source": [
        "print(arr.ndim) #ndim  --> 몇차원인지 --> 3차원 ㅎㅎ"
      ],
      "execution_count": 39,
      "outputs": [
        {
          "output_type": "stream",
          "text": [
            "3\n"
          ],
          "name": "stdout"
        }
      ]
    },
    {
      "cell_type": "code",
      "metadata": {
        "colab": {
          "base_uri": "https://localhost:8080/"
        },
        "id": "DvGZXhku89fU",
        "outputId": "543f19c3-d035-4498-c483-246dec693a78"
      },
      "source": [
        "print(arr.size) #안에 숫자들이 몇개 있는지 -> size"
      ],
      "execution_count": 40,
      "outputs": [
        {
          "output_type": "stream",
          "text": [
            "30\n"
          ],
          "name": "stdout"
        }
      ]
    },
    {
      "cell_type": "code",
      "metadata": {
        "colab": {
          "base_uri": "https://localhost:8080/"
        },
        "id": "waiyPSzE9Cy3",
        "outputId": "c643dfd0-b338-4b48-9040-660de8eab1cc"
      },
      "source": [
        "print(arr.dtype)"
      ],
      "execution_count": 41,
      "outputs": [
        {
          "output_type": "stream",
          "text": [
            "float64\n"
          ],
          "name": "stdout"
        }
      ]
    },
    {
      "cell_type": "code",
      "metadata": {
        "colab": {
          "base_uri": "https://localhost:8080/"
        },
        "id": "bAlAxV1w9Gb0",
        "outputId": "357d5ff2-6d8b-474f-a375-ceb96bfc5c33"
      },
      "source": [
        "a=np.arange(1,5) #1부터 5 전까지\n",
        "print(a)\n",
        "aa=np.arange(1,5,1) #마지막 1은 쓰나 안 쓰나 똑같음 + 마지막 5는 포함 X\n",
        "print(aa)\n",
        "b=np.arange(9,5,-1) #5전까지 = 6까지만!\n",
        "print(b)\n",
        "#matrix 아니구나 (곱하기 하면 elementxelement로 곱해진?)\n",
        "#나중에 matirx 형태로 바꿔주고, 1x4, 1x4면 안 맞으니까 하나를 4x1로 만들어주고 곱하기"
      ],
      "execution_count": 49,
      "outputs": [
        {
          "output_type": "stream",
          "text": [
            "[1 2 3 4]\n",
            "[1 2 3 4]\n",
            "[9 8 7 6]\n"
          ],
          "name": "stdout"
        }
      ]
    },
    {
      "cell_type": "code",
      "metadata": {
        "colab": {
          "base_uri": "https://localhost:8080/"
        },
        "id": "3qh6NV1m-k60",
        "outputId": "cd0db330-e702-4cc6-bb54-116628925bfd"
      },
      "source": [
        "print(a)\n",
        "print(b)\n",
        "#1x4면 다른 하나가 4xn이어야 곱해질 수 있음"
      ],
      "execution_count": 53,
      "outputs": [
        {
          "output_type": "stream",
          "text": [
            "[1 2 3 4]\n",
            "[9 8 7 6]\n"
          ],
          "name": "stdout"
        }
      ]
    },
    {
      "cell_type": "code",
      "metadata": {
        "colab": {
          "base_uri": "https://localhost:8080/"
        },
        "id": "AypTM4lv9gu6",
        "outputId": "07a435e7-f9be-4b33-f926-a500c46f0f8c"
      },
      "source": [
        "print (a-b) #1 2 3 4 에 9 8 7 6 을 각각 빼서\n",
        "print (a+b) #각가 더해서\n",
        "print (a*b) #각각 곱해서\n",
        "#1x4랑 1x4가 어떻게 곱해졌나? -> 행렬의 형태를 띄지만, 행렬의 곱이 아니라 element\n",
        "#array 를 그냥 곱하면 element x element의 곱으로 되는구나!?"
      ],
      "execution_count": 52,
      "outputs": [
        {
          "output_type": "stream",
          "text": [
            "[-8 -6 -4 -2]\n",
            "[10 10 10 10]\n",
            "[ 9 16 21 24]\n"
          ],
          "name": "stdout"
        }
      ]
    },
    {
      "cell_type": "markdown",
      "metadata": {
        "id": "25dEwm8E-Jxf"
      },
      "source": [
        "2x**3** x **3**x2  얘네 둘이 같아야 함!\n",
        "\n",
        "outer 끼리 곱 "
      ]
    },
    {
      "cell_type": "markdown",
      "metadata": {
        "id": "qdrZ2sTI-wsh"
      },
      "source": [
        ""
      ]
    },
    {
      "cell_type": "code",
      "metadata": {
        "id": "1fA-NZQF97gE"
      },
      "source": [
        "a=np.matrix(a) #array라고 하는 가짜 matrix를 넣으면 찐 matrix를 만들어냄\n",
        "b=np.matrix(b)"
      ],
      "execution_count": 55,
      "outputs": []
    },
    {
      "cell_type": "code",
      "metadata": {
        "colab": {
          "base_uri": "https://localhost:8080/"
        },
        "id": "YyeoJdoD_GE_",
        "outputId": "dedadddf-81e9-4e6b-fe33-ef1623becf27"
      },
      "source": [
        "print(a)\n",
        "print(b)"
      ],
      "execution_count": 56,
      "outputs": [
        {
          "output_type": "stream",
          "text": [
            "[[1 2 3 4]]\n",
            "[[9 8 7 6]]\n"
          ],
          "name": "stdout"
        }
      ]
    },
    {
      "cell_type": "code",
      "metadata": {
        "colab": {
          "base_uri": "https://localhost:8080/"
        },
        "id": "CZ096cqj_JL-",
        "outputId": "05d6b1ea-aa28-49af-936a-7bf5f760525b"
      },
      "source": [
        "a*b.T # .T하면 1x4를 4x1로 바꿔줌 가로로 긴 걸 세로로 길게, 세로로 긴 걸 가로로 길게\n",
        "#b.T하면 1x4에서 4x1이 되고 곱이 가능해짐 만들어지는 것은 1x1 matrix\n"
      ],
      "execution_count": 58,
      "outputs": [
        {
          "output_type": "execute_result",
          "data": {
            "text/plain": [
              "matrix([[70]])"
            ]
          },
          "metadata": {
            "tags": []
          },
          "execution_count": 58
        }
      ]
    },
    {
      "cell_type": "markdown",
      "metadata": {
        "id": "6ZTPiOzr_tQi"
      },
      "source": [
        "1 2 3 4 \n",
        "\n",
        "\n",
        "9<br>\n",
        "8<br>\n",
        "7<br>\n",
        "6<br>\n",
        "\n",
        "9+16+21+24 = 45+25 = 70\n",
        "\n",
        "우왕ㅎㅎ"
      ]
    },
    {
      "cell_type": "code",
      "metadata": {
        "colab": {
          "base_uri": "https://localhost:8080/"
        },
        "id": "zSp9WU9j_88v",
        "outputId": "3e33a5e7-678d-4fee-e538-3857a56ff652"
      },
      "source": [
        "a.T*b\n",
        "#이번엔 a를 돌려서 4x1과 1x4를 곱하면 16개의 matrix(?)가 만들어진다"
      ],
      "execution_count": 59,
      "outputs": [
        {
          "output_type": "execute_result",
          "data": {
            "text/plain": [
              "matrix([[ 9,  8,  7,  6],\n",
              "        [18, 16, 14, 12],\n",
              "        [27, 24, 21, 18],\n",
              "        [36, 32, 28, 24]])"
            ]
          },
          "metadata": {
            "tags": []
          },
          "execution_count": 59
        }
      ]
    },
    {
      "cell_type": "markdown",
      "metadata": {
        "id": "296MSm9mASod"
      },
      "source": [
        "# **Comparison**"
      ]
    },
    {
      "cell_type": "code",
      "metadata": {
        "colab": {
          "base_uri": "https://localhost:8080/"
        },
        "id": "G5h-PHkP_WqV",
        "outputId": "4655aeec-ce6c-4679-c353-9392af0fcf18"
      },
      "source": [
        "a=np.arange(1,10).reshape(3,3) #원래는 vector가 만들어지는데 3x3로\n",
        "b=np.arange(9,0,-1).reshape(3,3)\n",
        "print(a)\n",
        "print(b)"
      ],
      "execution_count": 63,
      "outputs": [
        {
          "output_type": "stream",
          "text": [
            "[[1 2 3]\n",
            " [4 5 6]\n",
            " [7 8 9]]\n",
            "[[9 8 7]\n",
            " [6 5 4]\n",
            " [3 2 1]]\n"
          ],
          "name": "stdout"
        }
      ]
    },
    {
      "cell_type": "code",
      "metadata": {
        "colab": {
          "base_uri": "https://localhost:8080/"
        },
        "id": "mQokFd3TAeIS",
        "outputId": "b1c5b27c-2326-4d41-f6b8-7a5933a2292a"
      },
      "source": [
        "a==b #같은 element는 true로, 다른 element는 false로 나옴"
      ],
      "execution_count": 64,
      "outputs": [
        {
          "output_type": "execute_result",
          "data": {
            "text/plain": [
              "array([[False, False, False],\n",
              "       [False,  True, False],\n",
              "       [False, False, False]])"
            ]
          },
          "metadata": {
            "tags": []
          },
          "execution_count": 64
        }
      ]
    },
    {
      "cell_type": "markdown",
      "metadata": {
        "id": "-dtny7HPA_ay"
      },
      "source": [
        "# **Broadcasting**"
      ]
    },
    {
      "cell_type": "code",
      "metadata": {
        "colab": {
          "base_uri": "https://localhost:8080/"
        },
        "id": "Ju4WMH1nAzKf",
        "outputId": "05066e0b-a951-449d-b33a-bbbba56c5e91"
      },
      "source": [
        "a=np.arange(1,25).reshape(4,6) #1x24를 4x6로 broadcasting\n",
        "a"
      ],
      "execution_count": 65,
      "outputs": [
        {
          "output_type": "execute_result",
          "data": {
            "text/plain": [
              "array([[ 1,  2,  3,  4,  5,  6],\n",
              "       [ 7,  8,  9, 10, 11, 12],\n",
              "       [13, 14, 15, 16, 17, 18],\n",
              "       [19, 20, 21, 22, 23, 24]])"
            ]
          },
          "metadata": {
            "tags": []
          },
          "execution_count": 65
        }
      ]
    },
    {
      "cell_type": "code",
      "metadata": {
        "id": "B1RvS7ZBBUHx"
      },
      "source": [
        ""
      ],
      "execution_count": null,
      "outputs": []
    },
    {
      "cell_type": "code",
      "metadata": {
        "colab": {
          "base_uri": "https://localhost:8080/"
        },
        "id": "g5q6zDQ3BFeI",
        "outputId": "6b4cdf90-6bc5-49c4-d967-4b8c9b8a1538"
      },
      "source": [
        "a=np.arange(1,10).reshape(3,3)\n",
        "a #3x3 matrix"
      ],
      "execution_count": 67,
      "outputs": [
        {
          "output_type": "execute_result",
          "data": {
            "text/plain": [
              "array([[1, 2, 3],\n",
              "       [4, 5, 6],\n",
              "       [7, 8, 9]])"
            ]
          },
          "metadata": {
            "tags": []
          },
          "execution_count": 67
        }
      ]
    },
    {
      "cell_type": "code",
      "metadata": {
        "colab": {
          "base_uri": "https://localhost:8080/"
        },
        "id": "m4Da4R-_BXCc",
        "outputId": "d43d2098-f778-4862-eac6-0e5a1fadb083"
      },
      "source": [
        "a.sum(), np.sum(a)\n",
        "# a.sum()해도 되고 / np.sum함수에 (a)를 넣어서 해도 마찬가지 결과 나옴"
      ],
      "execution_count": 69,
      "outputs": [
        {
          "output_type": "execute_result",
          "data": {
            "text/plain": [
              "(45, 45)"
            ]
          },
          "metadata": {
            "tags": []
          },
          "execution_count": 69
        }
      ]
    },
    {
      "cell_type": "code",
      "metadata": {
        "colab": {
          "base_uri": "https://localhost:8080/"
        },
        "id": "vMsM_RzCBdHi",
        "outputId": "e3e0795b-9c9e-4973-e163-4ba9924b8085"
      },
      "source": [
        "a.sum(axis=0) #a를 sum하되, 한 축으로만 sum을 해라\n",
        "# 1 2 3\n",
        "# 4 5 6\n",
        "# 7 8 9 \n",
        "# 있으면, 1+4+7 더하고, 2+5+8 더하고, 3+6+9 더하고"
      ],
      "execution_count": 70,
      "outputs": [
        {
          "output_type": "execute_result",
          "data": {
            "text/plain": [
              "array([12, 15, 18])"
            ]
          },
          "metadata": {
            "tags": []
          },
          "execution_count": 70
        }
      ]
    },
    {
      "cell_type": "code",
      "metadata": {
        "colab": {
          "base_uri": "https://localhost:8080/"
        },
        "id": "OThGY_lyBpNo",
        "outputId": "a8418625-158a-4ffc-9266-f32daddcf0b3"
      },
      "source": [
        "a.sum(axis=1)\n",
        "# 1 2 3 더하고, 4 5 6 더하고, 7 8 9 더하고\n",
        "# 0은 세로로 더하고, 1은 가로로 더하고"
      ],
      "execution_count": 71,
      "outputs": [
        {
          "output_type": "execute_result",
          "data": {
            "text/plain": [
              "array([ 6, 15, 24])"
            ]
          },
          "metadata": {
            "tags": []
          },
          "execution_count": 71
        }
      ]
    },
    {
      "cell_type": "code",
      "metadata": {
        "id": "e4j7lq25B2EM"
      },
      "source": [
        ""
      ],
      "execution_count": null,
      "outputs": []
    }
  ]
}